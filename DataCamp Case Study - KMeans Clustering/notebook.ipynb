{
 "cells": [
  {
   "cell_type": "markdown",
   "id": "homeless-quality",
   "metadata": {
    "id": "bA5ajAmk7XH6"
   },
   "source": [
    "# DataCamp Certification Case Study\n",
    "\n",
    "### Project Brief\n",
    "\n",
    "Congratulations, you have just landed your first job as a data scientist at Snow Cone Games! Snow Cone Games are a digital retailer for video games. For your first assignment, you will be working with the product manager to find new ways to categorize games on their homepage. \n",
    "\n",
    "She has recently learned that only 23% of buyers search for games using the genre filter (e.g., action, sports, etc). 71% of buyers use advanced filters to find the types of games that appeal to them. She hopes that creative new categories based on different game attributes can help players find what they are looking for faster.\n",
    "\n",
    "You have a dataset containing the Snow Cone Games’ library of over 40,000 video games. The product manager would like to see if you can group the data into categories that make sense. She has also told you that she wants to avoid more than five categories if possible, as any more would be difficult to fit into the platform homepage. \n",
    "\n",
    "You will need to present your findings in two formats:\n",
    "- You must submit a written report summarising your analysis to your manager. As a data science manager, your manager has a strong technical background and wants to understand what you have done and why. \n",
    "- You will then need to share your findings with the product manager in a 10 minute presentation. The product manager has no data science background but is familiar with basic data related terminology. \n",
    "\n",
    "The data you will use for this analysis can be accessed here: `\"data/video_games.csv\"`"
   ]
  },
  {
   "cell_type": "markdown",
   "id": "cc1840c9-143b-445b-8448-f29876cce90e",
   "metadata": {},
   "source": [
    "## Initial data ingestion and inspection"
   ]
  },
  {
   "cell_type": "code",
   "execution_count": 1,
   "id": "7e0f7312-847e-4370-81e0-5017eeedf2d1",
   "metadata": {},
   "outputs": [
    {
     "data": {
      "application/com.datacamp.data-table.v1+json": {
       "is_truncated": false,
       "table": {
        "data": [
         {
          "achievements": 54,
          "developer": "id Software",
          "index": 0,
          "mature": false,
          "multiplayer": true,
          "name": "DOOM",
          "num_reviews": 42550,
          "original_price": "$19.99",
          "percent_positive": "92%",
          "release_date": "May 12, 2016"
         },
         {
          "achievements": 37,
          "developer": "PUBG Corporation",
          "index": 1,
          "mature": true,
          "multiplayer": true,
          "name": "PLAYERUNKNOWN'S BATTLEGROUNDS",
          "num_reviews": 836608,
          "original_price": "$29.99",
          "percent_positive": "49%",
          "release_date": "Dec 21, 2017"
         },
         {
          "achievements": 128,
          "developer": "Harebrained Schemes",
          "index": 2,
          "mature": false,
          "multiplayer": true,
          "name": "BATTLETECH",
          "num_reviews": 7030,
          "original_price": "$39.99",
          "percent_positive": "71%",
          "release_date": "Apr 24, 2018"
         },
         {
          "achievements": null,
          "developer": "Bohemia Interactive",
          "index": 3,
          "mature": false,
          "multiplayer": true,
          "name": "DayZ",
          "num_reviews": 167115,
          "original_price": "$44.99",
          "percent_positive": "61%",
          "release_date": "Dec 13, 2018"
         },
         {
          "achievements": null,
          "developer": "CCP",
          "index": 4,
          "mature": false,
          "multiplayer": true,
          "name": "EVE Online",
          "num_reviews": 11481,
          "original_price": "Free",
          "percent_positive": "74%",
          "release_date": "May 6, 2003"
         }
        ],
        "schema": {
         "fields": [
          {
           "name": "index",
           "type": "integer"
          },
          {
           "name": "name",
           "type": "string"
          },
          {
           "name": "release_date",
           "type": "string"
          },
          {
           "name": "developer",
           "type": "string"
          },
          {
           "name": "achievements",
           "type": "number"
          },
          {
           "name": "original_price",
           "type": "string"
          },
          {
           "name": "percent_positive",
           "type": "string"
          },
          {
           "name": "num_reviews",
           "type": "number"
          },
          {
           "name": "multiplayer",
           "type": "string"
          },
          {
           "name": "mature",
           "type": "boolean"
          }
         ],
         "pandas_version": "0.20.0",
         "primaryKey": [
          "index"
         ]
        }
       },
       "total_rows": 5
      },
      "text/html": [
       "<div>\n",
       "<style scoped>\n",
       "    .dataframe tbody tr th:only-of-type {\n",
       "        vertical-align: middle;\n",
       "    }\n",
       "\n",
       "    .dataframe tbody tr th {\n",
       "        vertical-align: top;\n",
       "    }\n",
       "\n",
       "    .dataframe thead th {\n",
       "        text-align: right;\n",
       "    }\n",
       "</style>\n",
       "<table border=\"1\" class=\"dataframe\">\n",
       "  <thead>\n",
       "    <tr style=\"text-align: right;\">\n",
       "      <th></th>\n",
       "      <th>name</th>\n",
       "      <th>release_date</th>\n",
       "      <th>developer</th>\n",
       "      <th>achievements</th>\n",
       "      <th>original_price</th>\n",
       "      <th>percent_positive</th>\n",
       "      <th>num_reviews</th>\n",
       "      <th>multiplayer</th>\n",
       "      <th>mature</th>\n",
       "    </tr>\n",
       "  </thead>\n",
       "  <tbody>\n",
       "    <tr>\n",
       "      <th>0</th>\n",
       "      <td>DOOM</td>\n",
       "      <td>May 12, 2016</td>\n",
       "      <td>id Software</td>\n",
       "      <td>54.0</td>\n",
       "      <td>$19.99</td>\n",
       "      <td>92%</td>\n",
       "      <td>42550.0</td>\n",
       "      <td>True</td>\n",
       "      <td>False</td>\n",
       "    </tr>\n",
       "    <tr>\n",
       "      <th>1</th>\n",
       "      <td>PLAYERUNKNOWN'S BATTLEGROUNDS</td>\n",
       "      <td>Dec 21, 2017</td>\n",
       "      <td>PUBG Corporation</td>\n",
       "      <td>37.0</td>\n",
       "      <td>$29.99</td>\n",
       "      <td>49%</td>\n",
       "      <td>836608.0</td>\n",
       "      <td>True</td>\n",
       "      <td>True</td>\n",
       "    </tr>\n",
       "    <tr>\n",
       "      <th>2</th>\n",
       "      <td>BATTLETECH</td>\n",
       "      <td>Apr 24, 2018</td>\n",
       "      <td>Harebrained Schemes</td>\n",
       "      <td>128.0</td>\n",
       "      <td>$39.99</td>\n",
       "      <td>71%</td>\n",
       "      <td>7030.0</td>\n",
       "      <td>True</td>\n",
       "      <td>False</td>\n",
       "    </tr>\n",
       "    <tr>\n",
       "      <th>3</th>\n",
       "      <td>DayZ</td>\n",
       "      <td>Dec 13, 2018</td>\n",
       "      <td>Bohemia Interactive</td>\n",
       "      <td>NaN</td>\n",
       "      <td>$44.99</td>\n",
       "      <td>61%</td>\n",
       "      <td>167115.0</td>\n",
       "      <td>True</td>\n",
       "      <td>False</td>\n",
       "    </tr>\n",
       "    <tr>\n",
       "      <th>4</th>\n",
       "      <td>EVE Online</td>\n",
       "      <td>May 6, 2003</td>\n",
       "      <td>CCP</td>\n",
       "      <td>NaN</td>\n",
       "      <td>Free</td>\n",
       "      <td>74%</td>\n",
       "      <td>11481.0</td>\n",
       "      <td>True</td>\n",
       "      <td>False</td>\n",
       "    </tr>\n",
       "  </tbody>\n",
       "</table>\n",
       "</div>"
      ],
      "text/plain": [
       "                            name  release_date            developer  \\\n",
       "0                           DOOM  May 12, 2016          id Software   \n",
       "1  PLAYERUNKNOWN'S BATTLEGROUNDS  Dec 21, 2017     PUBG Corporation   \n",
       "2                     BATTLETECH  Apr 24, 2018  Harebrained Schemes   \n",
       "3                           DayZ  Dec 13, 2018  Bohemia Interactive   \n",
       "4                     EVE Online   May 6, 2003                  CCP   \n",
       "\n",
       "   achievements original_price percent_positive  num_reviews multiplayer  \\\n",
       "0          54.0         $19.99              92%      42550.0        True   \n",
       "1          37.0         $29.99              49%     836608.0        True   \n",
       "2         128.0         $39.99              71%       7030.0        True   \n",
       "3           NaN         $44.99              61%     167115.0        True   \n",
       "4           NaN           Free              74%      11481.0        True   \n",
       "\n",
       "   mature  \n",
       "0   False  \n",
       "1    True  \n",
       "2   False  \n",
       "3   False  \n",
       "4   False  "
      ]
     },
     "execution_count": 1,
     "metadata": {},
     "output_type": "execute_result"
    }
   ],
   "source": [
    "# Import pandas\n",
    "import pandas as pd\n",
    "\n",
    "# Import data into pandas dataframe and inspect first few rows\n",
    "games = pd.read_csv('data/video_games.csv')\n",
    "games.head()"
   ]
  },
  {
   "cell_type": "markdown",
   "id": "4c068439-4181-42c7-96b0-2e4eefc42986",
   "metadata": {},
   "source": [
    "With the initial import successful we can use both the info method to give a brief overview of the data. This allows us to anticipate any cleaning or reshaping the data may require."
   ]
  },
  {
   "cell_type": "code",
   "execution_count": 2,
   "id": "c79a6e08-69a3-4a85-9029-e6de857b13fd",
   "metadata": {},
   "outputs": [
    {
     "name": "stdout",
     "output_type": "stream",
     "text": [
      "<class 'pandas.core.frame.DataFrame'>\n",
      "RangeIndex: 40833 entries, 0 to 40832\n",
      "Data columns (total 9 columns):\n",
      " #   Column            Non-Null Count  Dtype  \n",
      "---  ------            --------------  -----  \n",
      " 0   name              40817 non-null  object \n",
      " 1   release_date      37654 non-null  object \n",
      " 2   developer         40490 non-null  object \n",
      " 3   achievements      12194 non-null  float64\n",
      " 4   original_price    35522 non-null  object \n",
      " 5   percent_positive  17363 non-null  object \n",
      " 6   num_reviews       17363 non-null  float64\n",
      " 7   multiplayer       40313 non-null  object \n",
      " 8   mature            40833 non-null  bool   \n",
      "dtypes: bool(1), float64(2), object(6)\n",
      "memory usage: 2.5+ MB\n"
     ]
    }
   ],
   "source": [
    "games.info()"
   ]
  },
  {
   "cell_type": "markdown",
   "id": "88b04e94-0692-44d9-ad57-7fa6b6c2350a",
   "metadata": {},
   "source": [
    "From the written brief and results of info there are some issues to fix before any exploratory data analysis (EDA) can begin.\n",
    "\n",
    "### Data Types fixes\n",
    "1. The release_date column would be better as a datetime object data type.\n",
    "2. The original_price column would be better as a numeric data type.\n",
    "3. The percent_positive column would be better as a numeric data type.\n",
    "4. The multiplayer column would be better as a boolean data type.\n",
    "\n",
    "Once the data types are corrected work can begin on the missing values."
   ]
  },
  {
   "cell_type": "markdown",
   "id": "af41d22e-d820-4f47-9b5d-54838f4932a7",
   "metadata": {},
   "source": [
    "###  1. The 'release_date' column"
   ]
  },
  {
   "cell_type": "code",
   "execution_count": 3,
   "id": "fe87e31c-b5c8-435e-bcd9-ee2015702da3",
   "metadata": {},
   "outputs": [
    {
     "name": "stdout",
     "output_type": "stream",
     "text": [
      "{2, 3, 4, 5, 6, 7, 8, 9, 10, 11, 12, 13, 14, 15, 16, 17, 18, 19, 20, 21, 22, 23, 24, 25, 26, 27, 28, 29, 30, 31, 32, 33, 34, 35, 37, 42, 46, 50, 67, 89, 221}\n"
     ]
    }
   ],
   "source": [
    "# Check formats of release date by checking the unique values of the length of the value.\n",
    "# From the head of the games dataframe we would assume either 11 or 12 characters or 4 for the NULL value.\n",
    "\n",
    "# Fill NULL values to allow for use of len()\n",
    "games['release_date'].fillna(\"NULL\", inplace = True)\n",
    "\n",
    "# List comprehension of lengths \n",
    "list_of_lengths = [len(x) for x in games['release_date']]\n",
    "\n",
    "# Change to set and print\n",
    "set_of_lengths= set(list_of_lengths)\n",
    "print(set_of_lengths)"
   ]
  },
  {
   "cell_type": "markdown",
   "id": "e9ad537e-3b09-4450-91a7-3b980c0e6238",
   "metadata": {},
   "source": [
    "What has only 2 characters or over 50 characters for a date?"
   ]
  },
  {
   "cell_type": "code",
   "execution_count": 4,
   "id": "de645dee-b6c2-4f7a-867d-de88cc14630a",
   "metadata": {},
   "outputs": [
    {
     "name": "stdout",
     "output_type": "stream",
     "text": [
      "['秋季', 'TBA', 'TBD', 'TBA', 'TBA']\n",
      "['At the moment in development, add to wishlist!', 'When what lurks beneath the surface becomes known.', 'O jogo está em desenvolvimento e pode ser lançado até o fim de 2019', 'Official Release Coming Soon! - Twitch Subscriber Builds available at twitch.tv/wheeze202']\n"
     ]
    }
   ],
   "source": [
    "# Get a list of all the values of 'release_date' sorted by length\n",
    "sorted_list = sorted(games['release_date'].tolist(), key=len)\n",
    "\n",
    "# Print the head and tail of sorted_list\n",
    "print(sorted_list[0:5])\n",
    "print(sorted_list[-5:-1])"
   ]
  },
  {
   "cell_type": "markdown",
   "id": "1d2e2091-da67-412d-8a78-2111d6735470",
   "metadata": {},
   "source": [
    "Snow Cone Games does not have specified format for entering release dates on their marketplace with different langauges and string advertisements being in the dataset. The data from this column cannot be used to create categories for filter.\n",
    "\n",
    "The values 'TBD' and 'TBA' (abbreviations for \"To Be Decided/Announced\") also indicate there are games that are listed on the site but haven't been released yet.\n",
    "\n",
    "Tighter controls for release date data entry to allow filtering based on release date is recommended."
   ]
  },
  {
   "cell_type": "markdown",
   "id": "9b68cd26-63e1-4bc4-9084-20d385398b19",
   "metadata": {},
   "source": [
    "### 2. The 'original_price' column"
   ]
  },
  {
   "cell_type": "markdown",
   "id": "41ec9cb4-2479-4515-8adb-f28dc41b3964",
   "metadata": {},
   "source": [
    "Games that don't have an original_price or a release_date are games that haven't been released so haven't been giving a price. These can be discounted from the modelling."
   ]
  },
  {
   "cell_type": "code",
   "execution_count": 5,
   "id": "254fe7ca-6291-4988-8ce7-e494382e3963",
   "metadata": {},
   "outputs": [],
   "source": [
    "# Drop rows that have a Na original_price and a 'NULL' release_date\n",
    "games = games.drop(games.index[games[\"original_price\"].isna() & (games['release_date']=='NULL')])\n",
    "\n",
    "# Reset index inplace\n",
    "games.reset_index(drop=True, inplace=True)"
   ]
  },
  {
   "cell_type": "markdown",
   "id": "013a7f6c-125a-4205-886c-52f8dfa5fa98",
   "metadata": {},
   "source": [
    "All other null values for price can be assumed to be \"Free\" as no price info was given."
   ]
  },
  {
   "cell_type": "code",
   "execution_count": 6,
   "id": "520d378a-8cd4-483a-98ee-58ec7bd717d9",
   "metadata": {},
   "outputs": [],
   "source": [
    "# Fill na values with 'Free'\n",
    "games[\"original_price\"].fillna('Free', inplace=True)"
   ]
  },
  {
   "cell_type": "markdown",
   "id": "3f5556d2-f237-4cbb-ac40-904c13f21135",
   "metadata": {},
   "source": [
    "Find all the prices that have \"free\" or \"Free\" in the string and change to \"0\". This would include games that include \"Free to play\" or \"Start playing for free!\" as their original_place value."
   ]
  },
  {
   "cell_type": "code",
   "execution_count": 7,
   "id": "b84d7b9f-607d-427c-bda8-03c8708b396a",
   "metadata": {},
   "outputs": [],
   "source": [
    "# Change all string values to lower case\n",
    "games[\"original_price\"] = games[\"original_price\"].str.lower()\n",
    "\n",
    "# Create an empty list to take index numbers\n",
    "slice_for_free = []\n",
    "\n",
    "# Append all index values that are not null and contain 'free'\n",
    "slice_for_free.append(games[pd.notnull(games[\"original_price\"]) & games[\"original_price\"].str.contains(r'free')]['original_price'].index)\n",
    "\n",
    "# Replace all index values with '0'\n",
    "for i in slice_for_free:\n",
    "    games[\"original_price\"][i] = '0'"
   ]
  },
  {
   "cell_type": "markdown",
   "id": "3f2ff115-ca65-460a-9d4d-286543ff9be8",
   "metadata": {},
   "source": [
    "Remove dollar symbols."
   ]
  },
  {
   "cell_type": "code",
   "execution_count": 8,
   "id": "3d5e66e6-8e4d-4edb-85c7-ed1028110feb",
   "metadata": {},
   "outputs": [],
   "source": [
    "# Replace '$' symbol with nothing\n",
    "games['original_price'] = games['original_price'].str.replace('$', '')"
   ]
  },
  {
   "cell_type": "markdown",
   "id": "0bfdc8d0-27b6-46f1-8813-1ed6b6b96fd8",
   "metadata": {},
   "source": [
    "Check to see if there are any non-numeric string values remaining in \"original_price\" column by looking at the first element of the original_price column value."
   ]
  },
  {
   "cell_type": "code",
   "execution_count": 9,
   "id": "85334417-c841-4375-891a-e6816a9aa714",
   "metadata": {},
   "outputs": [
    {
     "data": {
      "application/com.datacamp.data-table.v1+json": {
       "is_truncated": false,
       "table": {
        "data": [
         {
          "achievements": 72,
          "developer": "Monolith Productions",
          "index": 50,
          "mature": true,
          "multiplayer": false,
          "name": "Middle-earth™: Shadow of War™",
          "num_reviews": 16973,
          "original_price": "demo middle-earth™: shadow of war™",
          "percent_positive": "77%",
          "release_date": "Oct 9, 2017"
         },
         {
          "achievements": 97,
          "developer": "Square Enix",
          "index": 189,
          "mature": false,
          "multiplayer": true,
          "name": "FINAL FANTASY XV WINDOWS EDITION",
          "num_reviews": 12902,
          "original_price": "final fantasy xv windows edition playable demo",
          "percent_positive": "77%",
          "release_date": "Mar 6, 2018"
         },
         {
          "achievements": null,
          "developer": "Ubisoft Entertainment",
          "index": 214,
          "mature": false,
          "multiplayer": true,
          "name": "UNO",
          "num_reviews": 4174,
          "original_price": "uno",
          "percent_positive": "57%",
          "release_date": "Dec 8, 2016"
         },
         {
          "achievements": 26,
          "developer": "MuHa Games,Eerie Forest Studio",
          "index": 532,
          "mature": true,
          "multiplayer": false,
          "name": "Thea 2: The Shattering",
          "num_reviews": 416,
          "original_price": "demo",
          "percent_positive": "76%",
          "release_date": "May 13, 2019"
         },
         {
          "achievements": 86,
          "developer": "Radical Fish Games",
          "index": 537,
          "mature": false,
          "multiplayer": false,
          "name": "CrossCode",
          "num_reviews": 5680,
          "original_price": "crosscode demo",
          "percent_positive": "94%",
          "release_date": "Sep 20, 2018"
         }
        ],
        "schema": {
         "fields": [
          {
           "name": "index",
           "type": "integer"
          },
          {
           "name": "name",
           "type": "string"
          },
          {
           "name": "release_date",
           "type": "string"
          },
          {
           "name": "developer",
           "type": "string"
          },
          {
           "name": "achievements",
           "type": "number"
          },
          {
           "name": "original_price",
           "type": "string"
          },
          {
           "name": "percent_positive",
           "type": "string"
          },
          {
           "name": "num_reviews",
           "type": "number"
          },
          {
           "name": "multiplayer",
           "type": "string"
          },
          {
           "name": "mature",
           "type": "boolean"
          }
         ],
         "pandas_version": "0.20.0",
         "primaryKey": [
          "index"
         ]
        }
       },
       "total_rows": 5
      },
      "text/html": [
       "<div>\n",
       "<style scoped>\n",
       "    .dataframe tbody tr th:only-of-type {\n",
       "        vertical-align: middle;\n",
       "    }\n",
       "\n",
       "    .dataframe tbody tr th {\n",
       "        vertical-align: top;\n",
       "    }\n",
       "\n",
       "    .dataframe thead th {\n",
       "        text-align: right;\n",
       "    }\n",
       "</style>\n",
       "<table border=\"1\" class=\"dataframe\">\n",
       "  <thead>\n",
       "    <tr style=\"text-align: right;\">\n",
       "      <th></th>\n",
       "      <th>name</th>\n",
       "      <th>release_date</th>\n",
       "      <th>developer</th>\n",
       "      <th>achievements</th>\n",
       "      <th>original_price</th>\n",
       "      <th>percent_positive</th>\n",
       "      <th>num_reviews</th>\n",
       "      <th>multiplayer</th>\n",
       "      <th>mature</th>\n",
       "    </tr>\n",
       "  </thead>\n",
       "  <tbody>\n",
       "    <tr>\n",
       "      <th>50</th>\n",
       "      <td>Middle-earth™: Shadow of War™</td>\n",
       "      <td>Oct 9, 2017</td>\n",
       "      <td>Monolith Productions</td>\n",
       "      <td>72.0</td>\n",
       "      <td>demo middle-earth™: shadow of war™</td>\n",
       "      <td>77%</td>\n",
       "      <td>16973.0</td>\n",
       "      <td>False</td>\n",
       "      <td>True</td>\n",
       "    </tr>\n",
       "    <tr>\n",
       "      <th>189</th>\n",
       "      <td>FINAL FANTASY XV WINDOWS EDITION</td>\n",
       "      <td>Mar 6, 2018</td>\n",
       "      <td>Square Enix</td>\n",
       "      <td>97.0</td>\n",
       "      <td>final fantasy xv windows edition playable demo</td>\n",
       "      <td>77%</td>\n",
       "      <td>12902.0</td>\n",
       "      <td>True</td>\n",
       "      <td>False</td>\n",
       "    </tr>\n",
       "    <tr>\n",
       "      <th>214</th>\n",
       "      <td>UNO</td>\n",
       "      <td>Dec 8, 2016</td>\n",
       "      <td>Ubisoft Entertainment</td>\n",
       "      <td>NaN</td>\n",
       "      <td>uno</td>\n",
       "      <td>57%</td>\n",
       "      <td>4174.0</td>\n",
       "      <td>True</td>\n",
       "      <td>False</td>\n",
       "    </tr>\n",
       "    <tr>\n",
       "      <th>532</th>\n",
       "      <td>Thea 2: The Shattering</td>\n",
       "      <td>May 13, 2019</td>\n",
       "      <td>MuHa Games,Eerie Forest Studio</td>\n",
       "      <td>26.0</td>\n",
       "      <td>demo</td>\n",
       "      <td>76%</td>\n",
       "      <td>416.0</td>\n",
       "      <td>False</td>\n",
       "      <td>True</td>\n",
       "    </tr>\n",
       "    <tr>\n",
       "      <th>537</th>\n",
       "      <td>CrossCode</td>\n",
       "      <td>Sep 20, 2018</td>\n",
       "      <td>Radical Fish Games</td>\n",
       "      <td>86.0</td>\n",
       "      <td>crosscode demo</td>\n",
       "      <td>94%</td>\n",
       "      <td>5680.0</td>\n",
       "      <td>False</td>\n",
       "      <td>False</td>\n",
       "    </tr>\n",
       "  </tbody>\n",
       "</table>\n",
       "</div>"
      ],
      "text/plain": [
       "                                 name  release_date  \\\n",
       "50      Middle-earth™: Shadow of War™   Oct 9, 2017   \n",
       "189  FINAL FANTASY XV WINDOWS EDITION   Mar 6, 2018   \n",
       "214                               UNO   Dec 8, 2016   \n",
       "532            Thea 2: The Shattering  May 13, 2019   \n",
       "537                         CrossCode  Sep 20, 2018   \n",
       "\n",
       "                          developer  achievements  \\\n",
       "50             Monolith Productions          72.0   \n",
       "189                     Square Enix          97.0   \n",
       "214           Ubisoft Entertainment           NaN   \n",
       "532  MuHa Games,Eerie Forest Studio          26.0   \n",
       "537              Radical Fish Games          86.0   \n",
       "\n",
       "                                     original_price percent_positive  \\\n",
       "50               demo middle-earth™: shadow of war™              77%   \n",
       "189  final fantasy xv windows edition playable demo              77%   \n",
       "214                                             uno              57%   \n",
       "532                                            demo              76%   \n",
       "537                                  crosscode demo              94%   \n",
       "\n",
       "     num_reviews multiplayer  mature  \n",
       "50       16973.0       False    True  \n",
       "189      12902.0        True   False  \n",
       "214       4174.0        True   False  \n",
       "532        416.0       False    True  \n",
       "537       5680.0       False   False  "
      ]
     },
     "execution_count": 9,
     "metadata": {},
     "output_type": "execute_result"
    }
   ],
   "source": [
    "# Create a list of numbers to be checked against string contents\n",
    "numbers = [\"0\",\"1\",\"2\",\"3\",\"4\",\"5\",\"6\",\"7\",\"8\",\"9\"]\n",
    "\n",
    "# Find the rows that DO NOT have numbers as their first element\n",
    "games[~games['original_price'].str.get(0).isin(numbers)].head()"
   ]
  },
  {
   "cell_type": "markdown",
   "id": "a7f9c8d4-c45e-43e6-af6d-b95f8a8052e4",
   "metadata": {},
   "source": [
    "With references to game demos which would presumably be free in place of the full game price, it's difficult to impute or infer any value for original_price given the range of potential values. These rows will be dropped."
   ]
  },
  {
   "cell_type": "code",
   "execution_count": 10,
   "id": "6264f008-cd36-48b0-8fe9-122c70c62bf7",
   "metadata": {},
   "outputs": [],
   "source": [
    "# Create a list of index values of rows that DO NOT have numbers as their first element\n",
    "index_drop = [games[~games['original_price'].str.get(0).isin(numbers)].index]\n",
    "\n",
    "# Loop through index list and drop values \n",
    "for i in index_drop:\n",
    "\tgames.drop(games.index[i], inplace=True)\n",
    "    \n",
    "# Reset index inplace\n",
    "games.reset_index(drop=True, inplace=True)"
   ]
  },
  {
   "cell_type": "markdown",
   "id": "dcddbc3b-816b-4f6d-bbe7-75f2982911a3",
   "metadata": {},
   "source": [
    "Check the last elements of \"original price\" for non-numeric string values, incase \"3d\" is used at the beginning of a value for example."
   ]
  },
  {
   "cell_type": "code",
   "execution_count": 11,
   "id": "3c6cecf4-9154-4c3a-93d6-db2af81e4c47",
   "metadata": {},
   "outputs": [
    {
     "data": {
      "application/com.datacamp.data-table.v1+json": {
       "is_truncated": false,
       "table": {
        "data": [
         {
          "achievements": null,
          "developer": "Pilgway",
          "index": 10563,
          "mature": false,
          "multiplayer": false,
          "name": "3DCoat Modding Tool",
          "num_reviews": null,
          "original_price": "3dcoat modding tool demo",
          "percent_positive": null,
          "release_date": "Feb 27, 2018"
         }
        ],
        "schema": {
         "fields": [
          {
           "name": "index",
           "type": "integer"
          },
          {
           "name": "name",
           "type": "string"
          },
          {
           "name": "release_date",
           "type": "string"
          },
          {
           "name": "developer",
           "type": "string"
          },
          {
           "name": "achievements",
           "type": "number"
          },
          {
           "name": "original_price",
           "type": "string"
          },
          {
           "name": "percent_positive",
           "type": "string"
          },
          {
           "name": "num_reviews",
           "type": "number"
          },
          {
           "name": "multiplayer",
           "type": "string"
          },
          {
           "name": "mature",
           "type": "boolean"
          }
         ],
         "pandas_version": "0.20.0",
         "primaryKey": [
          "index"
         ]
        }
       },
       "total_rows": 1
      },
      "text/html": [
       "<div>\n",
       "<style scoped>\n",
       "    .dataframe tbody tr th:only-of-type {\n",
       "        vertical-align: middle;\n",
       "    }\n",
       "\n",
       "    .dataframe tbody tr th {\n",
       "        vertical-align: top;\n",
       "    }\n",
       "\n",
       "    .dataframe thead th {\n",
       "        text-align: right;\n",
       "    }\n",
       "</style>\n",
       "<table border=\"1\" class=\"dataframe\">\n",
       "  <thead>\n",
       "    <tr style=\"text-align: right;\">\n",
       "      <th></th>\n",
       "      <th>name</th>\n",
       "      <th>release_date</th>\n",
       "      <th>developer</th>\n",
       "      <th>achievements</th>\n",
       "      <th>original_price</th>\n",
       "      <th>percent_positive</th>\n",
       "      <th>num_reviews</th>\n",
       "      <th>multiplayer</th>\n",
       "      <th>mature</th>\n",
       "    </tr>\n",
       "  </thead>\n",
       "  <tbody>\n",
       "    <tr>\n",
       "      <th>10563</th>\n",
       "      <td>3DCoat Modding Tool</td>\n",
       "      <td>Feb 27, 2018</td>\n",
       "      <td>Pilgway</td>\n",
       "      <td>NaN</td>\n",
       "      <td>3dcoat modding tool demo</td>\n",
       "      <td>NaN</td>\n",
       "      <td>NaN</td>\n",
       "      <td>False</td>\n",
       "      <td>False</td>\n",
       "    </tr>\n",
       "  </tbody>\n",
       "</table>\n",
       "</div>"
      ],
      "text/plain": [
       "                      name  release_date developer  achievements  \\\n",
       "10563  3DCoat Modding Tool  Feb 27, 2018   Pilgway           NaN   \n",
       "\n",
       "                 original_price percent_positive  num_reviews multiplayer  \\\n",
       "10563  3dcoat modding tool demo              NaN          NaN       False   \n",
       "\n",
       "       mature  \n",
       "10563   False  "
      ]
     },
     "execution_count": 11,
     "metadata": {},
     "output_type": "execute_result"
    }
   ],
   "source": [
    "# Find the values that DO NOT have numbers as their last element\n",
    "games[~games['original_price'].str.get(-1).isin(numbers)].head()"
   ]
  },
  {
   "cell_type": "markdown",
   "id": "0757d23b-47a4-4ca6-b8a1-a412226b1064",
   "metadata": {},
   "source": [
    "We can remove this single value from index 10563 as again we cannot infer or impute any numeric value."
   ]
  },
  {
   "cell_type": "code",
   "execution_count": 12,
   "id": "4a837652-a2d5-4865-97bf-65ee35057472",
   "metadata": {},
   "outputs": [],
   "source": [
    "# Drop single value based on index\n",
    "games.drop(index=10563, inplace=True)\n",
    "\n",
    "# Reset index inplace\n",
    "games.reset_index(drop=True, inplace=True)"
   ]
  },
  {
   "cell_type": "markdown",
   "id": "f242db74-aed4-49e0-9a91-7d07cee2c317",
   "metadata": {},
   "source": [
    "The column dtype can now be changed to float."
   ]
  },
  {
   "cell_type": "code",
   "execution_count": 13,
   "id": "8eb4f24a-ebb0-4285-8ee1-ed2220511898",
   "metadata": {},
   "outputs": [],
   "source": [
    "# Cast column as type 'float'\n",
    "games['original_price'] = games['original_price'].astype(float)"
   ]
  },
  {
   "cell_type": "markdown",
   "id": "2e1b9b22-3989-4600-aae5-3b5cdb556b13",
   "metadata": {},
   "source": [
    "### 3. The 'percent_positive' column"
   ]
  },
  {
   "cell_type": "markdown",
   "id": "e14ad3e2-7d09-4aae-9086-67b1bdad31b5",
   "metadata": {},
   "source": [
    "Removing the '%' symbol will allow the 'percent_positive' column to be set to dtype float."
   ]
  },
  {
   "cell_type": "code",
   "execution_count": 14,
   "id": "a527508b-d5fa-49a7-a876-6d5eb29140d0",
   "metadata": {},
   "outputs": [],
   "source": [
    "# Remove '%' symbol\n",
    "games['percent_positive'] = games['percent_positive'].str.replace('%', '')\n",
    "\n",
    "# Cast column as type 'float'\n",
    "games['percent_positive'] = games['percent_positive'].astype(float)\n",
    "\n",
    "# Divide column values by 100 as it describes a percentage\n",
    "games['percent_positive'] = games['percent_positive'].div(100)"
   ]
  },
  {
   "cell_type": "code",
   "execution_count": 15,
   "id": "506c1974-1883-40e3-b004-93fa2af2fab1",
   "metadata": {},
   "outputs": [
    {
     "data": {
      "application/com.datacamp.data-table.v1+json": {
       "is_truncated": false,
       "table": {
        "data": [
         {
          "achievements": 12053,
          "index": "count",
          "num_reviews": 17214,
          "original_price": 38090,
          "percent_positive": 17214
         },
         {
          "achievements": 77.8095080063,
          "index": "mean",
          "num_reviews": 1305.3895085396,
          "original_price": 49.41865424,
          "percent_positive": 0.7469960497
         },
         {
          "achievements": 451.0720692624,
          "index": "std",
          "num_reviews": 11593.8368942102,
          "original_price": 5012.6725126452,
          "percent_positive": 0.1857024151
         },
         {
          "achievements": 1,
          "index": "min",
          "num_reviews": 10,
          "original_price": 0,
          "percent_positive": 0
         },
         {
          "achievements": 12,
          "index": "25%",
          "num_reviews": 23,
          "original_price": 1.99,
          "percent_positive": 0.64
         },
         {
          "achievements": 21,
          "index": "50%",
          "num_reviews": 63,
          "original_price": 4.99,
          "percent_positive": 0.79
         },
         {
          "achievements": 38,
          "index": "75%",
          "num_reviews": 297,
          "original_price": 9.99,
          "percent_positive": 0.89
         },
         {
          "achievements": 9821,
          "index": "max",
          "num_reviews": 836608,
          "original_price": 730640,
          "percent_positive": 1
         }
        ],
        "schema": {
         "fields": [
          {
           "name": "index",
           "type": "string"
          },
          {
           "name": "achievements",
           "type": "number"
          },
          {
           "name": "original_price",
           "type": "number"
          },
          {
           "name": "percent_positive",
           "type": "number"
          },
          {
           "name": "num_reviews",
           "type": "number"
          }
         ],
         "pandas_version": "0.20.0",
         "primaryKey": [
          "index"
         ]
        }
       },
       "total_rows": 8
      },
      "text/html": [
       "<div>\n",
       "<style scoped>\n",
       "    .dataframe tbody tr th:only-of-type {\n",
       "        vertical-align: middle;\n",
       "    }\n",
       "\n",
       "    .dataframe tbody tr th {\n",
       "        vertical-align: top;\n",
       "    }\n",
       "\n",
       "    .dataframe thead th {\n",
       "        text-align: right;\n",
       "    }\n",
       "</style>\n",
       "<table border=\"1\" class=\"dataframe\">\n",
       "  <thead>\n",
       "    <tr style=\"text-align: right;\">\n",
       "      <th></th>\n",
       "      <th>achievements</th>\n",
       "      <th>original_price</th>\n",
       "      <th>percent_positive</th>\n",
       "      <th>num_reviews</th>\n",
       "    </tr>\n",
       "  </thead>\n",
       "  <tbody>\n",
       "    <tr>\n",
       "      <th>count</th>\n",
       "      <td>12053.000000</td>\n",
       "      <td>38090.000000</td>\n",
       "      <td>17214.000000</td>\n",
       "      <td>17214.000000</td>\n",
       "    </tr>\n",
       "    <tr>\n",
       "      <th>mean</th>\n",
       "      <td>77.809508</td>\n",
       "      <td>49.418654</td>\n",
       "      <td>0.746996</td>\n",
       "      <td>1305.389509</td>\n",
       "    </tr>\n",
       "    <tr>\n",
       "      <th>std</th>\n",
       "      <td>451.072069</td>\n",
       "      <td>5012.672513</td>\n",
       "      <td>0.185702</td>\n",
       "      <td>11593.836894</td>\n",
       "    </tr>\n",
       "    <tr>\n",
       "      <th>min</th>\n",
       "      <td>1.000000</td>\n",
       "      <td>0.000000</td>\n",
       "      <td>0.000000</td>\n",
       "      <td>10.000000</td>\n",
       "    </tr>\n",
       "    <tr>\n",
       "      <th>25%</th>\n",
       "      <td>12.000000</td>\n",
       "      <td>1.990000</td>\n",
       "      <td>0.640000</td>\n",
       "      <td>23.000000</td>\n",
       "    </tr>\n",
       "    <tr>\n",
       "      <th>50%</th>\n",
       "      <td>21.000000</td>\n",
       "      <td>4.990000</td>\n",
       "      <td>0.790000</td>\n",
       "      <td>63.000000</td>\n",
       "    </tr>\n",
       "    <tr>\n",
       "      <th>75%</th>\n",
       "      <td>38.000000</td>\n",
       "      <td>9.990000</td>\n",
       "      <td>0.890000</td>\n",
       "      <td>297.000000</td>\n",
       "    </tr>\n",
       "    <tr>\n",
       "      <th>max</th>\n",
       "      <td>9821.000000</td>\n",
       "      <td>730640.000000</td>\n",
       "      <td>1.000000</td>\n",
       "      <td>836608.000000</td>\n",
       "    </tr>\n",
       "  </tbody>\n",
       "</table>\n",
       "</div>"
      ],
      "text/plain": [
       "       achievements  original_price  percent_positive    num_reviews\n",
       "count  12053.000000    38090.000000      17214.000000   17214.000000\n",
       "mean      77.809508       49.418654          0.746996    1305.389509\n",
       "std      451.072069     5012.672513          0.185702   11593.836894\n",
       "min        1.000000        0.000000          0.000000      10.000000\n",
       "25%       12.000000        1.990000          0.640000      23.000000\n",
       "50%       21.000000        4.990000          0.790000      63.000000\n",
       "75%       38.000000        9.990000          0.890000     297.000000\n",
       "max     9821.000000   730640.000000          1.000000  836608.000000"
      ]
     },
     "execution_count": 15,
     "metadata": {},
     "output_type": "execute_result"
    }
   ],
   "source": [
    "games.describe()"
   ]
  },
  {
   "cell_type": "markdown",
   "id": "fbdf3eee-03bd-4bc3-b5a6-dc0000ab934f",
   "metadata": {},
   "source": [
    "As the 'percent_positive' column relates to the number of reviews in the 'num_reviews', using the describe method shows that the minumum number of reviews for a game is 10.\n",
    "\n",
    "This likely means that null values are from games that have no reviews, and thus percentage of positve reviews. Therefor na values can be filled with 0."
   ]
  },
  {
   "cell_type": "code",
   "execution_count": 16,
   "id": "d5b45bd6-3368-4f39-a73b-59122481df08",
   "metadata": {},
   "outputs": [],
   "source": [
    "# Fill na values with 0\n",
    "games.fillna({\"percent_positive\":0,\"num_reviews\":0}, inplace=True)"
   ]
  },
  {
   "cell_type": "markdown",
   "id": "52067891-02a2-4889-86dc-7a972d7657da",
   "metadata": {},
   "source": [
    "### 4. The \"multiplayer\" column"
   ]
  },
  {
   "cell_type": "markdown",
   "id": "d7b4fff0-305e-44a5-a13c-e0e9c2ab8750",
   "metadata": {},
   "source": [
    "The column would work better in a model if it was a boolean type."
   ]
  },
  {
   "cell_type": "code",
   "execution_count": 17,
   "id": "0af9589d-664c-44b6-b94b-0a22279d2854",
   "metadata": {},
   "outputs": [],
   "source": [
    "# Cast column as type 'bool'\n",
    "games['multiplayer'] = games['multiplayer'].astype(bool)"
   ]
  },
  {
   "cell_type": "markdown",
   "id": "176c1c11-e3a4-4820-a86e-e48e5b388cd8",
   "metadata": {},
   "source": [
    "### The \"achievements\" column"
   ]
  },
  {
   "cell_type": "markdown",
   "id": "cde60a2c-9592-4bab-8d07-1047c1e5540c",
   "metadata": {},
   "source": [
    "From the describe method it's shown the minimum value for the \"achievements\" is 1. Null values can be assumed to games that do not have achievements."
   ]
  },
  {
   "cell_type": "code",
   "execution_count": 18,
   "id": "947d8952-e20b-4868-8607-af1c86403ed7",
   "metadata": {},
   "outputs": [],
   "source": [
    "# Fill null values with 0\n",
    "games['achievements'].fillna(0, inplace = True)"
   ]
  },
  {
   "cell_type": "markdown",
   "id": "ce933f55-ee4a-40c9-8497-189a27757142",
   "metadata": {},
   "source": [
    "### Which columns and rows with missing values to potentially use for the model?"
   ]
  },
  {
   "cell_type": "code",
   "execution_count": 19,
   "id": "f5208df4-3312-43bb-a12a-d133f777c706",
   "metadata": {},
   "outputs": [
    {
     "name": "stdout",
     "output_type": "stream",
     "text": [
      "<class 'pandas.core.frame.DataFrame'>\n",
      "RangeIndex: 38090 entries, 0 to 38089\n",
      "Data columns (total 9 columns):\n",
      " #   Column            Non-Null Count  Dtype  \n",
      "---  ------            --------------  -----  \n",
      " 0   name              38088 non-null  object \n",
      " 1   release_date      38090 non-null  object \n",
      " 2   developer         37806 non-null  object \n",
      " 3   achievements      38090 non-null  float64\n",
      " 4   original_price    38090 non-null  float64\n",
      " 5   percent_positive  38090 non-null  float64\n",
      " 6   num_reviews       38090 non-null  float64\n",
      " 7   multiplayer       38090 non-null  bool   \n",
      " 8   mature            38090 non-null  bool   \n",
      "dtypes: bool(2), float64(4), object(3)\n",
      "memory usage: 2.1+ MB\n"
     ]
    }
   ],
   "source": [
    "games.info()"
   ]
  },
  {
   "cell_type": "markdown",
   "id": "c4acf5ac-3b94-4173-964e-fe6ba0c40624",
   "metadata": {},
   "source": [
    "There are null values in the 'name' column which should be reviewed"
   ]
  },
  {
   "cell_type": "code",
   "execution_count": 20,
   "id": "6c4e3c36-ca44-48ff-80f9-b364b018aa6c",
   "metadata": {},
   "outputs": [
    {
     "data": {
      "application/com.datacamp.data-table.v1+json": {
       "is_truncated": false,
       "table": {
        "data": [
         {
          "achievements": 0,
          "developer": null,
          "index": 653,
          "mature": false,
          "multiplayer": true,
          "name": null,
          "num_reviews": 0,
          "original_price": 29.99,
          "percent_positive": 0,
          "release_date": "NULL"
         },
         {
          "achievements": 0,
          "developer": null,
          "index": 36873,
          "mature": false,
          "multiplayer": true,
          "name": null,
          "num_reviews": 0,
          "original_price": 0,
          "percent_positive": 0,
          "release_date": "Q1 2019"
         }
        ],
        "schema": {
         "fields": [
          {
           "name": "index",
           "type": "integer"
          },
          {
           "name": "name",
           "type": "string"
          },
          {
           "name": "release_date",
           "type": "string"
          },
          {
           "name": "developer",
           "type": "string"
          },
          {
           "name": "achievements",
           "type": "number"
          },
          {
           "name": "original_price",
           "type": "number"
          },
          {
           "name": "percent_positive",
           "type": "number"
          },
          {
           "name": "num_reviews",
           "type": "number"
          },
          {
           "name": "multiplayer",
           "type": "boolean"
          },
          {
           "name": "mature",
           "type": "boolean"
          }
         ],
         "pandas_version": "0.20.0",
         "primaryKey": [
          "index"
         ]
        }
       },
       "total_rows": 2
      },
      "text/html": [
       "<div>\n",
       "<style scoped>\n",
       "    .dataframe tbody tr th:only-of-type {\n",
       "        vertical-align: middle;\n",
       "    }\n",
       "\n",
       "    .dataframe tbody tr th {\n",
       "        vertical-align: top;\n",
       "    }\n",
       "\n",
       "    .dataframe thead th {\n",
       "        text-align: right;\n",
       "    }\n",
       "</style>\n",
       "<table border=\"1\" class=\"dataframe\">\n",
       "  <thead>\n",
       "    <tr style=\"text-align: right;\">\n",
       "      <th></th>\n",
       "      <th>name</th>\n",
       "      <th>release_date</th>\n",
       "      <th>developer</th>\n",
       "      <th>achievements</th>\n",
       "      <th>original_price</th>\n",
       "      <th>percent_positive</th>\n",
       "      <th>num_reviews</th>\n",
       "      <th>multiplayer</th>\n",
       "      <th>mature</th>\n",
       "    </tr>\n",
       "  </thead>\n",
       "  <tbody>\n",
       "    <tr>\n",
       "      <th>653</th>\n",
       "      <td>NaN</td>\n",
       "      <td>NULL</td>\n",
       "      <td>NaN</td>\n",
       "      <td>0.0</td>\n",
       "      <td>29.99</td>\n",
       "      <td>0.0</td>\n",
       "      <td>0.0</td>\n",
       "      <td>True</td>\n",
       "      <td>False</td>\n",
       "    </tr>\n",
       "    <tr>\n",
       "      <th>36873</th>\n",
       "      <td>NaN</td>\n",
       "      <td>Q1 2019</td>\n",
       "      <td>NaN</td>\n",
       "      <td>0.0</td>\n",
       "      <td>0.00</td>\n",
       "      <td>0.0</td>\n",
       "      <td>0.0</td>\n",
       "      <td>True</td>\n",
       "      <td>False</td>\n",
       "    </tr>\n",
       "  </tbody>\n",
       "</table>\n",
       "</div>"
      ],
      "text/plain": [
       "      name release_date developer  achievements  original_price  \\\n",
       "653    NaN         NULL       NaN           0.0           29.99   \n",
       "36873  NaN      Q1 2019       NaN           0.0            0.00   \n",
       "\n",
       "       percent_positive  num_reviews  multiplayer  mature  \n",
       "653                 0.0          0.0         True   False  \n",
       "36873               0.0          0.0         True   False  "
      ]
     },
     "execution_count": 20,
     "metadata": {},
     "output_type": "execute_result"
    }
   ],
   "source": [
    "# Find rows with null in 'name column'\n",
    "games[games['name'].isna()]"
   ]
  },
  {
   "cell_type": "markdown",
   "id": "39d3d31e-ae96-4a90-86a1-4121303ad4b8",
   "metadata": {},
   "source": [
    "As these non-titles also do not have a developer or any reviews, we can be comfortable dropping these rows a junk data. This might be due to a posting on a market place that was posted incorrectly."
   ]
  },
  {
   "cell_type": "code",
   "execution_count": 21,
   "id": "86667eb0-b706-4fb0-b4f8-6e386d1d8a85",
   "metadata": {},
   "outputs": [],
   "source": [
    "# Drop rows with null value in 'name' column\n",
    "games = games.dropna(subset=['name'])\n",
    "\n",
    "# Reset index inplace\n",
    "games.reset_index(drop=True, inplace=True)"
   ]
  },
  {
   "cell_type": "markdown",
   "id": "ceffaed6-c497-445c-a1e4-54568d3a433f",
   "metadata": {},
   "source": [
    "There are null values in the 'developer' column which should be reviewed"
   ]
  },
  {
   "cell_type": "code",
   "execution_count": 22,
   "id": "c308c328-ff1a-4007-a5e0-e92de09ff156",
   "metadata": {},
   "outputs": [
    {
     "data": {
      "application/com.datacamp.data-table.v1+json": {
       "is_truncated": false,
       "table": {
        "data": [
         {
          "achievements": 0,
          "developer": null,
          "index": 130,
          "mature": false,
          "multiplayer": true,
          "name": "Steam Controller",
          "num_reviews": 7942,
          "original_price": 49.99,
          "percent_positive": 0.73,
          "release_date": "Nov 10, 2015"
         },
         {
          "achievements": 20,
          "developer": null,
          "index": 1021,
          "mature": false,
          "multiplayer": false,
          "name": "Spelunky",
          "num_reviews": 8305,
          "original_price": 14.99,
          "percent_positive": 0.9,
          "release_date": "Aug 8, 2013"
         },
         {
          "achievements": 0,
          "developer": null,
          "index": 1694,
          "mature": false,
          "multiplayer": true,
          "name": "Artemis Spaceship Bridge Simulator",
          "num_reviews": 244,
          "original_price": 6.99,
          "percent_positive": 0.88,
          "release_date": "Sep 16, 2013"
         },
         {
          "achievements": 0,
          "developer": null,
          "index": 2306,
          "mature": false,
          "multiplayer": false,
          "name": "Startopia",
          "num_reviews": 495,
          "original_price": 6.99,
          "percent_positive": 0.89,
          "release_date": "Jun 19, 2001"
         },
         {
          "achievements": 0,
          "developer": null,
          "index": 2488,
          "mature": false,
          "multiplayer": false,
          "name": "Rayman® Legends",
          "num_reviews": 2890,
          "original_price": 29.99,
          "percent_positive": 0.91,
          "release_date": "Sep 3, 2013"
         },
         {
          "achievements": 0,
          "developer": null,
          "index": 3190,
          "mature": false,
          "multiplayer": false,
          "name": "Dead Space: Downfall",
          "num_reviews": 38,
          "original_price": 3.99,
          "percent_positive": 0.81,
          "release_date": "Oct 28, 2008"
         },
         {
          "achievements": 0,
          "developer": null,
          "index": 3659,
          "mature": false,
          "multiplayer": false,
          "name": "Gorky 17",
          "num_reviews": 606,
          "original_price": 4.99,
          "percent_positive": 0.82,
          "release_date": "Dec 31, 1999"
         },
         {
          "achievements": 14,
          "developer": null,
          "index": 4336,
          "mature": false,
          "multiplayer": false,
          "name": "SAMOLIOTIK",
          "num_reviews": 1171,
          "original_price": 0.99,
          "percent_positive": 0.91,
          "release_date": "Mar 25, 2016"
         },
         {
          "achievements": 0,
          "developer": null,
          "index": 4451,
          "mature": false,
          "multiplayer": false,
          "name": "Urban Chaos",
          "num_reviews": 114,
          "original_price": 6.99,
          "percent_positive": 0.71,
          "release_date": "Nov 30, 1999"
         },
         {
          "achievements": 0,
          "developer": null,
          "index": 4525,
          "mature": false,
          "multiplayer": false,
          "name": "Daikatana",
          "num_reviews": 239,
          "original_price": 6.99,
          "percent_positive": 0.62,
          "release_date": "May 23, 2000"
         },
         {
          "achievements": 0,
          "developer": null,
          "index": 4547,
          "mature": false,
          "multiplayer": false,
          "name": "Sword Art Online: The Movie - Ordinal Scale",
          "num_reviews": 27,
          "original_price": 3.99,
          "percent_positive": 0.96,
          "release_date": "Dec 19, 2017"
         },
         {
          "achievements": 0,
          "developer": null,
          "index": 4882,
          "mature": false,
          "multiplayer": false,
          "name": "Dead Space: Aftermath",
          "num_reviews": 0,
          "original_price": 3.99,
          "percent_positive": 0,
          "release_date": "Jan 25, 2011"
         },
         {
          "achievements": 0,
          "developer": null,
          "index": 5103,
          "mature": false,
          "multiplayer": false,
          "name": "Hunting Unlimited 2010",
          "num_reviews": 130,
          "original_price": 9.99,
          "percent_positive": 0.78,
          "release_date": "Jul 7, 2009"
         },
         {
          "achievements": 22,
          "developer": null,
          "index": 5502,
          "mature": false,
          "multiplayer": false,
          "name": "Sparkle 2 Evo",
          "num_reviews": 1497,
          "original_price": 4.99,
          "percent_positive": 0.72,
          "release_date": "Nov 20, 2011"
         },
         {
          "achievements": 102,
          "developer": null,
          "index": 5513,
          "mature": false,
          "multiplayer": false,
          "name": "Rain Blood Chronicles: Mirage",
          "num_reviews": 114,
          "original_price": 4.99,
          "percent_positive": 0.73,
          "release_date": "Nov 11, 2013"
         },
         {
          "achievements": 0,
          "developer": null,
          "index": 5584,
          "mature": false,
          "multiplayer": false,
          "name": "Blood Omen 2: Legacy of Kain",
          "num_reviews": 409,
          "original_price": 6.99,
          "percent_positive": 0.66,
          "release_date": "Mar 29, 2002"
         },
         {
          "achievements": 8,
          "developer": null,
          "index": 5903,
          "mature": false,
          "multiplayer": false,
          "name": "Cowboy zombie",
          "num_reviews": 84,
          "original_price": 0.99,
          "percent_positive": 0.78,
          "release_date": "Mar 8, 2017"
         },
         {
          "achievements": 1,
          "developer": null,
          "index": 5955,
          "mature": false,
          "multiplayer": false,
          "name": "Paranormal",
          "num_reviews": 318,
          "original_price": 9.99,
          "percent_positive": 0.64,
          "release_date": "Oct 19, 2012"
         },
         {
          "achievements": 26,
          "developer": null,
          "index": 6246,
          "mature": false,
          "multiplayer": false,
          "name": "MineStickman",
          "num_reviews": 0,
          "original_price": 3.99,
          "percent_positive": 0,
          "release_date": "Dec 2, 2017"
         },
         {
          "achievements": 16,
          "developer": null,
          "index": 6348,
          "mature": false,
          "multiplayer": false,
          "name": "ZombieCarz",
          "num_reviews": 46,
          "original_price": 3.99,
          "percent_positive": 0.5,
          "release_date": "Dec 7, 2016"
         },
         {
          "achievements": 0,
          "developer": null,
          "index": 6751,
          "mature": true,
          "multiplayer": true,
          "name": "Jason Voorhees",
          "num_reviews": 90,
          "original_price": 4.99,
          "percent_positive": 0.96,
          "release_date": "May 12, 2015"
         },
         {
          "achievements": 49,
          "developer": null,
          "index": 6884,
          "mature": false,
          "multiplayer": true,
          "name": "Forge Quest",
          "num_reviews": 399,
          "original_price": 9.99,
          "percent_positive": 0.84,
          "release_date": "May 22, 2015"
         },
         {
          "achievements": 0,
          "developer": null,
          "index": 6893,
          "mature": false,
          "multiplayer": false,
          "name": "Marie's Room - Soundtrack",
          "num_reviews": 51,
          "original_price": 0,
          "percent_positive": 0.98,
          "release_date": "Apr 30, 2018"
         },
         {
          "achievements": 12,
          "developer": null,
          "index": 7243,
          "mature": false,
          "multiplayer": false,
          "name": "Steel Invaders",
          "num_reviews": 54,
          "original_price": 0.99,
          "percent_positive": 0.85,
          "release_date": "Nov 23, 2016"
         },
         {
          "achievements": 0,
          "developer": null,
          "index": 7783,
          "mature": false,
          "multiplayer": false,
          "name": "TinkerQuarry",
          "num_reviews": 75,
          "original_price": 0,
          "percent_positive": 0.92,
          "release_date": "Jun 12, 2017"
         },
         {
          "achievements": 27,
          "developer": null,
          "index": 7820,
          "mature": false,
          "multiplayer": false,
          "name": "A Walk in the Dark",
          "num_reviews": 303,
          "original_price": 6.99,
          "percent_positive": 0.81,
          "release_date": "Nov 7, 2013"
         },
         {
          "achievements": 0,
          "developer": null,
          "index": 8057,
          "mature": false,
          "multiplayer": true,
          "name": "CS:GO Player Profiles",
          "num_reviews": 2299,
          "original_price": 0,
          "percent_positive": 0.92,
          "release_date": "Oct 26, 2015"
         },
         {
          "achievements": 0,
          "developer": null,
          "index": 8345,
          "mature": false,
          "multiplayer": true,
          "name": "Far Cry 5: Inside Eden’s Gate",
          "num_reviews": 96,
          "original_price": 0,
          "percent_positive": 0.95,
          "release_date": "May 24, 2018"
         },
         {
          "achievements": 3,
          "developer": null,
          "index": 8805,
          "mature": false,
          "multiplayer": false,
          "name": "SMACKHEAD",
          "num_reviews": 0,
          "original_price": 0.99,
          "percent_positive": 0,
          "release_date": "Dec 13, 2017"
         },
         {
          "achievements": 0,
          "developer": null,
          "index": 10383,
          "mature": false,
          "multiplayer": false,
          "name": "Fairy Fencer F: Additional Fairy Pack",
          "num_reviews": 10,
          "original_price": 0.99,
          "percent_positive": 0.9,
          "release_date": "Aug 4, 2015"
         },
         {
          "achievements": 0,
          "developer": null,
          "index": 10395,
          "mature": false,
          "multiplayer": false,
          "name": "Wonder Boy in Monster World",
          "num_reviews": 0,
          "original_price": 0.99,
          "percent_positive": 0,
          "release_date": "May 2, 2012"
         },
         {
          "achievements": 0,
          "developer": null,
          "index": 10397,
          "mature": false,
          "multiplayer": false,
          "name": "VectorMan 2",
          "num_reviews": 0,
          "original_price": 0.99,
          "percent_positive": 0,
          "release_date": "May 2, 2012"
         },
         {
          "achievements": 0,
          "developer": null,
          "index": 10398,
          "mature": false,
          "multiplayer": false,
          "name": "Beyond Oasis",
          "num_reviews": 0,
          "original_price": 0.99,
          "percent_positive": 0,
          "release_date": "May 2, 2012"
         },
         {
          "achievements": 0,
          "developer": null,
          "index": 10399,
          "mature": false,
          "multiplayer": false,
          "name": "Dynamite Headdy",
          "num_reviews": 0,
          "original_price": 0.99,
          "percent_positive": 0,
          "release_date": "May 2, 2012"
         },
         {
          "achievements": 10,
          "developer": null,
          "index": 10458,
          "mature": false,
          "multiplayer": false,
          "name": "Snail Racer Extreme",
          "num_reviews": 0,
          "original_price": 0.99,
          "percent_positive": 0,
          "release_date": "Jul 16, 2018"
         },
         {
          "achievements": 0,
          "developer": null,
          "index": 10518,
          "mature": false,
          "multiplayer": true,
          "name": "Digimon Adventure tri.: Reunion",
          "num_reviews": 0,
          "original_price": 3.99,
          "percent_positive": 0,
          "release_date": "May 16, 2017"
         },
         {
          "achievements": 0,
          "developer": null,
          "index": 10854,
          "mature": false,
          "multiplayer": true,
          "name": "SW4-II - Exclusive Costume Set",
          "num_reviews": 0,
          "original_price": 7.99,
          "percent_positive": 0,
          "release_date": "Oct 27, 2015"
         },
         {
          "achievements": 0,
          "developer": null,
          "index": 11118,
          "mature": false,
          "multiplayer": true,
          "name": "BattleRush - USSR Army DLC",
          "num_reviews": 11,
          "original_price": 4.99,
          "percent_positive": 0.9,
          "release_date": "Dec 18, 2017"
         },
         {
          "achievements": 0,
          "developer": null,
          "index": 11474,
          "mature": false,
          "multiplayer": false,
          "name": "Jigsaw",
          "num_reviews": 0,
          "original_price": 4.99,
          "percent_positive": 0,
          "release_date": "Jan 9, 2018"
         },
         {
          "achievements": 0,
          "developer": null,
          "index": 12001,
          "mature": false,
          "multiplayer": true,
          "name": "X-Plane 11 - Add-on: Aerosoft - Airport Manchester",
          "num_reviews": 0,
          "original_price": 19.99,
          "percent_positive": 0,
          "release_date": "Apr 3, 2019"
         },
         {
          "achievements": 0,
          "developer": null,
          "index": 12260,
          "mature": false,
          "multiplayer": false,
          "name": "Pillar Original Soundtrack",
          "num_reviews": 0,
          "original_price": 5.99,
          "percent_positive": 0,
          "release_date": "May 29, 2015"
         },
         {
          "achievements": 0,
          "developer": null,
          "index": 12516,
          "mature": false,
          "multiplayer": true,
          "name": "BrainBread 2 Mod Tools",
          "num_reviews": 0,
          "original_price": 0,
          "percent_positive": 0,
          "release_date": "Feb 17, 2016"
         },
         {
          "achievements": 0,
          "developer": null,
          "index": 12534,
          "mature": false,
          "multiplayer": true,
          "name": "Tower Unite Dedicated Server",
          "num_reviews": 0,
          "original_price": 0,
          "percent_positive": 0,
          "release_date": "Mar 29, 2016"
         },
         {
          "achievements": 0,
          "developer": null,
          "index": 12622,
          "mature": false,
          "multiplayer": true,
          "name": "PlayClaw 5 - Streamer Pack",
          "num_reviews": 0,
          "original_price": 3.99,
          "percent_positive": 0,
          "release_date": "Oct 12, 2015"
         },
         {
          "achievements": 0,
          "developer": null,
          "index": 12877,
          "mature": false,
          "multiplayer": false,
          "name": "Cosmophony OST",
          "num_reviews": 0,
          "original_price": 0,
          "percent_positive": 0,
          "release_date": "Jul 15, 2015"
         },
         {
          "achievements": 0,
          "developer": null,
          "index": 13548,
          "mature": false,
          "multiplayer": false,
          "name": "EEP 13 Expert upgrade",
          "num_reviews": 0,
          "original_price": 19.99,
          "percent_positive": 0,
          "release_date": "Dec 19, 2016"
         },
         {
          "achievements": 0,
          "developer": null,
          "index": 13750,
          "mature": false,
          "multiplayer": false,
          "name": "Phantasy Star IV: The End of the Millennium",
          "num_reviews": 0,
          "original_price": 0.99,
          "percent_positive": 0,
          "release_date": "May 2, 2012"
         },
         {
          "achievements": 11,
          "developer": null,
          "index": 13786,
          "mature": false,
          "multiplayer": false,
          "name": "Zombie Office Politics",
          "num_reviews": 0,
          "original_price": 4.99,
          "percent_positive": 0,
          "release_date": "Apr 4, 2018"
         },
         {
          "achievements": 0,
          "developer": null,
          "index": 13844,
          "mature": false,
          "multiplayer": false,
          "name": "Roomscale Coaster",
          "num_reviews": 0,
          "original_price": 3.99,
          "percent_positive": 0,
          "release_date": "Mar 1, 2017"
         },
         {
          "achievements": 0,
          "developer": null,
          "index": 13960,
          "mature": false,
          "multiplayer": false,
          "name": "Unfazed",
          "num_reviews": 0,
          "original_price": 9.99,
          "percent_positive": 0,
          "release_date": "Sep 16, 2016"
         },
         {
          "achievements": 0,
          "developer": null,
          "index": 14180,
          "mature": false,
          "multiplayer": true,
          "name": "IS Defense Editor",
          "num_reviews": 0,
          "original_price": 0,
          "percent_positive": 0,
          "release_date": "Apr 29, 2016"
         },
         {
          "achievements": 23,
          "developer": null,
          "index": 14339,
          "mature": false,
          "multiplayer": false,
          "name": "Shapes of Gray",
          "num_reviews": 21,
          "original_price": 6.99,
          "percent_positive": 0.9,
          "release_date": "Sep 23, 2015"
         },
         {
          "achievements": 0,
          "developer": null,
          "index": 14596,
          "mature": false,
          "multiplayer": true,
          "name": "SW4-II - Horse Set",
          "num_reviews": 0,
          "original_price": 2.99,
          "percent_positive": 0,
          "release_date": "Sep 29, 2015"
         },
         {
          "achievements": 0,
          "developer": null,
          "index": 14638,
          "mature": false,
          "multiplayer": true,
          "name": "The Typing of The Dead: Overkill - Shakespeare DLC",
          "num_reviews": 0,
          "original_price": 2.99,
          "percent_positive": 0,
          "release_date": "Nov 25, 2013"
         },
         {
          "achievements": 0,
          "developer": null,
          "index": 14833,
          "mature": false,
          "multiplayer": true,
          "name": "PlayClaw 5 - H.264/AVC Software Encoder",
          "num_reviews": 0,
          "original_price": 0,
          "percent_positive": 0,
          "release_date": "Feb 17, 2016"
         },
         {
          "achievements": 0,
          "developer": null,
          "index": 14912,
          "mature": false,
          "multiplayer": false,
          "name": "The Revenge of Shinobi",
          "num_reviews": 0,
          "original_price": 0.99,
          "percent_positive": 0,
          "release_date": "May 2, 2012"
         },
         {
          "achievements": 0,
          "developer": null,
          "index": 14913,
          "mature": false,
          "multiplayer": false,
          "name": "Streets of Rage 3",
          "num_reviews": 0,
          "original_price": 0.99,
          "percent_positive": 0,
          "release_date": "May 2, 2012"
         },
         {
          "achievements": 0,
          "developer": null,
          "index": 14914,
          "mature": false,
          "multiplayer": false,
          "name": "Golden Axe III",
          "num_reviews": 0,
          "original_price": 0.99,
          "percent_positive": 0,
          "release_date": "May 2, 2012"
         },
         {
          "achievements": 10,
          "developer": null,
          "index": 15010,
          "mature": false,
          "multiplayer": false,
          "name": "PlayClaw 5 - Game Recording and Streaming",
          "num_reviews": 339,
          "original_price": 39.99,
          "percent_positive": 0.66,
          "release_date": "Sep 10, 2013"
         },
         {
          "achievements": 0,
          "developer": null,
          "index": 15077,
          "mature": false,
          "multiplayer": false,
          "name": "Kith - Lorebook",
          "num_reviews": 0,
          "original_price": 0.99,
          "percent_positive": 0,
          "release_date": "Apr 7, 2017"
         },
         {
          "achievements": 0,
          "developer": null,
          "index": 15148,
          "mature": false,
          "multiplayer": true,
          "name": "Robotpencil Presents: Power of Lighting",
          "num_reviews": 0,
          "original_price": 3.99,
          "percent_positive": 0,
          "release_date": "Apr 11, 2017"
         },
         {
          "achievements": 0,
          "developer": null,
          "index": 15626,
          "mature": false,
          "multiplayer": true,
          "name": "Robotpencil Presents: Improving Your Line Art",
          "num_reviews": 0,
          "original_price": 4.99,
          "percent_positive": 0,
          "release_date": "Oct 3, 2016"
         },
         {
          "achievements": 0,
          "developer": null,
          "index": 15960,
          "mature": false,
          "multiplayer": false,
          "name": "Izanami's Dream Battle Original Soundtrack",
          "num_reviews": 0,
          "original_price": 0,
          "percent_positive": 0,
          "release_date": "Oct 31, 2016"
         },
         {
          "achievements": 0,
          "developer": null,
          "index": 16426,
          "mature": false,
          "multiplayer": true,
          "name": "Robotpencil Presents: How To Improve Your Weaknesses",
          "num_reviews": 0,
          "original_price": 2.99,
          "percent_positive": 0,
          "release_date": "Apr 11, 2017"
         },
         {
          "achievements": 0,
          "developer": null,
          "index": 16427,
          "mature": false,
          "multiplayer": true,
          "name": "Robotpencil Presents: Art of Speed Painting",
          "num_reviews": 0,
          "original_price": 2.99,
          "percent_positive": 0,
          "release_date": "Nov 17, 2016"
         },
         {
          "achievements": 0,
          "developer": null,
          "index": 16428,
          "mature": false,
          "multiplayer": true,
          "name": "Robotpencil Presents: Develop A Workflow",
          "num_reviews": 0,
          "original_price": 2.99,
          "percent_positive": 0,
          "release_date": "Nov 21, 2016"
         },
         {
          "achievements": 0,
          "developer": null,
          "index": 16513,
          "mature": true,
          "multiplayer": true,
          "name": "The Bunker - Director's Cut",
          "num_reviews": 0,
          "original_price": 0.99,
          "percent_positive": 0,
          "release_date": "Apr 10, 2019"
         },
         {
          "achievements": 0,
          "developer": null,
          "index": 16548,
          "mature": false,
          "multiplayer": false,
          "name": "The Making of Horizon Zero Dawn",
          "num_reviews": 30,
          "original_price": 0,
          "percent_positive": 0.9,
          "release_date": "Dec 19, 2017"
         },
         {
          "achievements": 0,
          "developer": null,
          "index": 16553,
          "mature": false,
          "multiplayer": true,
          "name": "Escalation - A Rainbow Six: Siege series",
          "num_reviews": 0,
          "original_price": 0,
          "percent_positive": 0,
          "release_date": "May 17, 2018"
         },
         {
          "achievements": 0,
          "developer": null,
          "index": 16787,
          "mature": false,
          "multiplayer": true,
          "name": "Kalen Chock Presents: Painting From Abstraction",
          "num_reviews": 0,
          "original_price": 5.99,
          "percent_positive": 0,
          "release_date": "Mar 12, 2018"
         },
         {
          "achievements": 0,
          "developer": null,
          "index": 16860,
          "mature": false,
          "multiplayer": true,
          "name": "Blade Tutorial: 3Ds Max 2017 and Substance Painter 2",
          "num_reviews": 15,
          "original_price": 11.99,
          "percent_positive": 1,
          "release_date": "Oct 3, 2016"
         },
         {
          "achievements": 0,
          "developer": null,
          "index": 16930,
          "mature": false,
          "multiplayer": true,
          "name": "BattleRush - Medium Tanks DLC",
          "num_reviews": 12,
          "original_price": 1.99,
          "percent_positive": 0.83,
          "release_date": "Nov 29, 2017"
         },
         {
          "achievements": 0,
          "developer": null,
          "index": 17072,
          "mature": false,
          "multiplayer": true,
          "name": "BattleRush - German Special Forces DLC",
          "num_reviews": 17,
          "original_price": 0.99,
          "percent_positive": 0.76,
          "release_date": "Nov 29, 2017"
         },
         {
          "achievements": 0,
          "developer": null,
          "index": 17073,
          "mature": false,
          "multiplayer": true,
          "name": "BattleRush - US Special Forces DLC",
          "num_reviews": 0,
          "original_price": 0.99,
          "percent_positive": 0,
          "release_date": "Nov 29, 2017"
         },
         {
          "achievements": 0,
          "developer": null,
          "index": 17074,
          "mature": false,
          "multiplayer": true,
          "name": "BattleRush - US Marine Corps DLC",
          "num_reviews": 0,
          "original_price": 1.99,
          "percent_positive": 0,
          "release_date": "Nov 29, 2017"
         },
         {
          "achievements": 0,
          "developer": null,
          "index": 17156,
          "mature": false,
          "multiplayer": false,
          "name": "Boinks",
          "num_reviews": 29,
          "original_price": 0.99,
          "percent_positive": 0.89,
          "release_date": "Nov 27, 2017"
         },
         {
          "achievements": 0,
          "developer": null,
          "index": 17519,
          "mature": false,
          "multiplayer": false,
          "name": "The Crew™ Speed Car Pack",
          "num_reviews": 78,
          "original_price": 6.99,
          "percent_positive": 0.7,
          "release_date": "Feb 12, 2015"
         },
         {
          "achievements": 0,
          "developer": null,
          "index": 17647,
          "mature": true,
          "multiplayer": true,
          "name": "Blue Steel Sub-Zero",
          "num_reviews": 115,
          "original_price": 1.99,
          "percent_positive": 0.71,
          "release_date": "Apr 16, 2015"
         },
         {
          "achievements": 15,
          "developer": null,
          "index": 17827,
          "mature": false,
          "multiplayer": false,
          "name": "Fester Mudd: Curse of the Gold - Episode 1",
          "num_reviews": 26,
          "original_price": 9.99,
          "percent_positive": 0.73,
          "release_date": "Nov 4, 2013"
         },
         {
          "achievements": 8,
          "developer": null,
          "index": 18780,
          "mature": true,
          "multiplayer": true,
          "name": "CRACKHEAD",
          "num_reviews": 38,
          "original_price": 0.99,
          "percent_positive": 0.73,
          "release_date": "Nov 10, 2016"
         },
         {
          "achievements": 0,
          "developer": null,
          "index": 18820,
          "mature": false,
          "multiplayer": false,
          "name": "Cities: Skylines - Relaxation Station",
          "num_reviews": 113,
          "original_price": 3.99,
          "percent_positive": 0.74,
          "release_date": "Nov 29, 2016"
         },
         {
          "achievements": 0,
          "developer": null,
          "index": 18965,
          "mature": false,
          "multiplayer": false,
          "name": "Yu-Gi-Oh: Dark Side of Dimensions",
          "num_reviews": 0,
          "original_price": 3.99,
          "percent_positive": 0,
          "release_date": "Jun 13, 2017"
         },
         {
          "achievements": 0,
          "developer": null,
          "index": 19303,
          "mature": false,
          "multiplayer": false,
          "name": "Saints Row IV: Inauguration Station",
          "num_reviews": 389,
          "original_price": 0,
          "percent_positive": 0.72,
          "release_date": "Aug 6, 2013"
         },
         {
          "achievements": 6,
          "developer": null,
          "index": 19441,
          "mature": false,
          "multiplayer": false,
          "name": "ElectricScribe",
          "num_reviews": 106,
          "original_price": 0.99,
          "percent_positive": 0.72,
          "release_date": "Jul 19, 2017"
         },
         {
          "achievements": 0,
          "developer": null,
          "index": 19696,
          "mature": false,
          "multiplayer": false,
          "name": "Septerra Core",
          "num_reviews": 325,
          "original_price": 4.99,
          "percent_positive": 0.77,
          "release_date": "Oct 31, 1999"
         },
         {
          "achievements": 0,
          "developer": null,
          "index": 19701,
          "mature": false,
          "multiplayer": false,
          "name": "Anachronox",
          "num_reviews": 156,
          "original_price": 6.99,
          "percent_positive": 0.79,
          "release_date": "Jun 27, 2001"
         },
         {
          "achievements": 0,
          "developer": null,
          "index": 20025,
          "mature": false,
          "multiplayer": false,
          "name": "Idol Quest VR",
          "num_reviews": 17,
          "original_price": 0,
          "percent_positive": 0.47,
          "release_date": "Mar 26, 2018"
         },
         {
          "achievements": 0,
          "developer": null,
          "index": 20478,
          "mature": false,
          "multiplayer": false,
          "name": "The Crew™ Vintage Car Pack",
          "num_reviews": 11,
          "original_price": 6.99,
          "percent_positive": 0.54,
          "release_date": "NULL"
         },
         {
          "achievements": 0,
          "developer": null,
          "index": 20512,
          "mature": true,
          "multiplayer": false,
          "name": "Final Battle Guide & Wallpapers",
          "num_reviews": 0,
          "original_price": 1.99,
          "percent_positive": 0,
          "release_date": "Apr 20, 2018"
         },
         {
          "achievements": 0,
          "developer": null,
          "index": 20645,
          "mature": false,
          "multiplayer": true,
          "name": "SW4-II - Special Costume Set 1",
          "num_reviews": 0,
          "original_price": 29.99,
          "percent_positive": 0,
          "release_date": "Sep 29, 2015"
         },
         {
          "achievements": 0,
          "developer": null,
          "index": 20646,
          "mature": false,
          "multiplayer": true,
          "name": "SW4-II - Edit Parts Set",
          "num_reviews": 0,
          "original_price": 21.99,
          "percent_positive": 0,
          "release_date": "Sep 29, 2015"
         },
         {
          "achievements": 6,
          "developer": null,
          "index": 20924,
          "mature": false,
          "multiplayer": false,
          "name": "Deathwave",
          "num_reviews": 16,
          "original_price": 4.99,
          "percent_positive": 0.5,
          "release_date": "Jun 9, 2016"
         },
         {
          "achievements": 0,
          "developer": null,
          "index": 20955,
          "mature": false,
          "multiplayer": false,
          "name": "The Crew™ Extreme Car Pack",
          "num_reviews": 72,
          "original_price": 6.99,
          "percent_positive": 0.58,
          "release_date": "Jan 20, 2015"
         },
         {
          "achievements": 0,
          "developer": null,
          "index": 20957,
          "mature": false,
          "multiplayer": true,
          "name": "The Crew™ Raid Car Pack",
          "num_reviews": 21,
          "original_price": 6.99,
          "percent_positive": 0.42,
          "release_date": "NULL"
         },
         {
          "achievements": 0,
          "developer": null,
          "index": 20963,
          "mature": false,
          "multiplayer": false,
          "name": "Space Hack",
          "num_reviews": 180,
          "original_price": 133.81,
          "percent_positive": 0.51,
          "release_date": "Nov 15, 2005"
         },
         {
          "achievements": 0,
          "developer": null,
          "index": 20972,
          "mature": false,
          "multiplayer": true,
          "name": "Heat Wave DLC - Abby's pack",
          "num_reviews": 0,
          "original_price": 0.99,
          "percent_positive": 0,
          "release_date": "Oct 30, 2013"
         },
         {
          "achievements": 0,
          "developer": null,
          "index": 21196,
          "mature": false,
          "multiplayer": true,
          "name": "Crusader Kings II: Orchestral House Lords",
          "num_reviews": 41,
          "original_price": 2.99,
          "percent_positive": 0.41,
          "release_date": "Jul 14, 2015"
         },
         {
          "achievements": 0,
          "developer": null,
          "index": 21248,
          "mature": false,
          "multiplayer": false,
          "name": "Fairy Fencer F: Swimwear Set",
          "num_reviews": 0,
          "original_price": 0.99,
          "percent_positive": 0,
          "release_date": "Aug 4, 2015"
         },
         {
          "achievements": 0,
          "developer": null,
          "index": 21479,
          "mature": true,
          "multiplayer": true,
          "name": "Unlock all Krypt Items",
          "num_reviews": 34,
          "original_price": 19.99,
          "percent_positive": 0.44,
          "release_date": "Apr 22, 2015"
         },
         {
          "achievements": 0,
          "developer": null,
          "index": 21579,
          "mature": false,
          "multiplayer": true,
          "name": "SW4-II - Scenario Set",
          "num_reviews": 0,
          "original_price": 12.99,
          "percent_positive": 0,
          "release_date": "Oct 6, 2015"
         },
         {
          "achievements": 15,
          "developer": null,
          "index": 22078,
          "mature": false,
          "multiplayer": false,
          "name": "Selknam Defense",
          "num_reviews": 32,
          "original_price": 4.99,
          "percent_positive": 0.46,
          "release_date": "Jul 25, 2014"
         },
         {
          "achievements": 3,
          "developer": null,
          "index": 22193,
          "mature": false,
          "multiplayer": false,
          "name": "N0-EXIT",
          "num_reviews": 0,
          "original_price": 0.99,
          "percent_positive": 0,
          "release_date": "Feb 22, 2017"
         },
         {
          "achievements": 6,
          "developer": null,
          "index": 22700,
          "mature": false,
          "multiplayer": false,
          "name": "Mad Driver",
          "num_reviews": 75,
          "original_price": 0.99,
          "percent_positive": 0.5,
          "release_date": "Aug 27, 2017"
         },
         {
          "achievements": 4,
          "developer": null,
          "index": 22711,
          "mature": false,
          "multiplayer": false,
          "name": "Co-Co CORN MAFIA",
          "num_reviews": 74,
          "original_price": 0.99,
          "percent_positive": 0.54,
          "release_date": "Aug 20, 2017"
         },
         {
          "achievements": 12,
          "developer": null,
          "index": 23011,
          "mature": false,
          "multiplayer": false,
          "name": "Mad Hunter",
          "num_reviews": 63,
          "original_price": 3.99,
          "percent_positive": 0.6,
          "release_date": "Nov 28, 2016"
         },
         {
          "achievements": 9,
          "developer": null,
          "index": 23037,
          "mature": false,
          "multiplayer": false,
          "name": "Snowman",
          "num_reviews": 78,
          "original_price": 0.99,
          "percent_positive": 0.52,
          "release_date": "Jan 27, 2017"
         },
         {
          "achievements": 0,
          "developer": null,
          "index": 23068,
          "mature": false,
          "multiplayer": false,
          "name": "Crab Dub Soundtrack",
          "num_reviews": 0,
          "original_price": 0.99,
          "percent_positive": 0,
          "release_date": "Jan 19, 2017"
         },
         {
          "achievements": 0,
          "developer": null,
          "index": 23182,
          "mature": true,
          "multiplayer": false,
          "name": "Hex Phase",
          "num_reviews": 0,
          "original_price": 0.9,
          "percent_positive": 0,
          "release_date": "Oct 12, 2015"
         },
         {
          "achievements": 10,
          "developer": null,
          "index": 23243,
          "mature": false,
          "multiplayer": false,
          "name": "Ballistic Protection",
          "num_reviews": 123,
          "original_price": 0.99,
          "percent_positive": 0.5,
          "release_date": "Oct 12, 2016"
         },
         {
          "achievements": 17,
          "developer": null,
          "index": 23334,
          "mature": false,
          "multiplayer": false,
          "name": "Time Ninja Sakura",
          "num_reviews": 10,
          "original_price": 0.99,
          "percent_positive": 0.4,
          "release_date": "Aug 31, 2017"
         },
         {
          "achievements": 10,
          "developer": null,
          "index": 23365,
          "mature": false,
          "multiplayer": false,
          "name": "Cowboy Revenge",
          "num_reviews": 46,
          "original_price": 0.99,
          "percent_positive": 0.52,
          "release_date": "Jul 9, 2017"
         },
         {
          "achievements": 7,
          "developer": null,
          "index": 23387,
          "mature": false,
          "multiplayer": false,
          "name": "Mouse in Lab",
          "num_reviews": 46,
          "original_price": 0.99,
          "percent_positive": 0.5,
          "release_date": "Feb 1, 2017"
         },
         {
          "achievements": 0,
          "developer": null,
          "index": 23390,
          "mature": false,
          "multiplayer": false,
          "name": "Chika Militant Cockroach",
          "num_reviews": 24,
          "original_price": 3.99,
          "percent_positive": 0.54,
          "release_date": "Mar 22, 2017"
         },
         {
          "achievements": 11,
          "developer": null,
          "index": 23415,
          "mature": false,
          "multiplayer": false,
          "name": "Mortifero Motus",
          "num_reviews": 104,
          "original_price": 0.99,
          "percent_positive": 0.65,
          "release_date": "Jan 18, 2017"
         },
         {
          "achievements": 5,
          "developer": null,
          "index": 23523,
          "mature": false,
          "multiplayer": false,
          "name": "TAP TOUCH RUN",
          "num_reviews": 78,
          "original_price": 0.99,
          "percent_positive": 0.5,
          "release_date": "Jun 29, 2017"
         },
         {
          "achievements": 8,
          "developer": null,
          "index": 23568,
          "mature": false,
          "multiplayer": false,
          "name": "Yeti Adventure",
          "num_reviews": 52,
          "original_price": 0.99,
          "percent_positive": 0.42,
          "release_date": "Mar 8, 2017"
         },
         {
          "achievements": 12,
          "developer": null,
          "index": 23659,
          "mature": false,
          "multiplayer": false,
          "name": "Escape Together",
          "num_reviews": 19,
          "original_price": 0.99,
          "percent_positive": 0.63,
          "release_date": "Jun 21, 2017"
         },
         {
          "achievements": 0,
          "developer": null,
          "index": 23747,
          "mature": false,
          "multiplayer": false,
          "name": "Unlikely Stickman",
          "num_reviews": 50,
          "original_price": 3.99,
          "percent_positive": 0.66,
          "release_date": "Aug 10, 2017"
         },
         {
          "achievements": 33,
          "developer": null,
          "index": 23817,
          "mature": true,
          "multiplayer": false,
          "name": "Stickman Wars",
          "num_reviews": 38,
          "original_price": 0.99,
          "percent_positive": 0.5,
          "release_date": "Jul 16, 2017"
         },
         {
          "achievements": 0,
          "developer": null,
          "index": 23862,
          "mature": false,
          "multiplayer": false,
          "name": "JUMPER : SPEEDRUN",
          "num_reviews": 16,
          "original_price": 0,
          "percent_positive": 0.43,
          "release_date": "Aug 28, 2017"
         },
         {
          "achievements": 0,
          "developer": null,
          "index": 23868,
          "mature": false,
          "multiplayer": true,
          "name": "Star Realms - Full Version",
          "num_reviews": 32,
          "original_price": 4.99,
          "percent_positive": 0.65,
          "release_date": "Mar 8, 2016"
         },
         {
          "achievements": 7,
          "developer": null,
          "index": 23894,
          "mature": false,
          "multiplayer": false,
          "name": "Survival Tycoon",
          "num_reviews": 0,
          "original_price": 4.99,
          "percent_positive": 0,
          "release_date": "Jul 15, 2017"
         },
         {
          "achievements": 2208,
          "developer": null,
          "index": 23910,
          "mature": false,
          "multiplayer": false,
          "name": "Animal Crush",
          "num_reviews": 43,
          "original_price": 0.99,
          "percent_positive": 0.41,
          "release_date": "Aug 11, 2017"
         },
         {
          "achievements": 7,
          "developer": null,
          "index": 24077,
          "mature": false,
          "multiplayer": true,
          "name": "Minimum",
          "num_reviews": 3144,
          "original_price": 0,
          "percent_positive": 0.58,
          "release_date": "Sep 10, 2014"
         },
         {
          "achievements": 0,
          "developer": null,
          "index": 24507,
          "mature": false,
          "multiplayer": true,
          "name": "BattleRush - Imperial Japanese Army DLC",
          "num_reviews": 0,
          "original_price": 3.99,
          "percent_positive": 0,
          "release_date": "Jan 29, 2018"
         },
         {
          "achievements": 0,
          "developer": null,
          "index": 24508,
          "mature": false,
          "multiplayer": true,
          "name": "BattleRush - Heavy Tanks DLC",
          "num_reviews": 0,
          "original_price": 2.99,
          "percent_positive": 0,
          "release_date": "Jan 10, 2018"
         },
         {
          "achievements": 0,
          "developer": null,
          "index": 24509,
          "mature": false,
          "multiplayer": true,
          "name": "BattleRush - German Snipers DLC",
          "num_reviews": 10,
          "original_price": 1.99,
          "percent_positive": 0.6,
          "release_date": "Nov 29, 2017"
         },
         {
          "achievements": 0,
          "developer": null,
          "index": 24537,
          "mature": false,
          "multiplayer": false,
          "name": "Yellow: The Yellow Artifact",
          "num_reviews": 56,
          "original_price": 0.99,
          "percent_positive": 0.42,
          "release_date": "Jun 7, 2016"
         },
         {
          "achievements": 0,
          "developer": null,
          "index": 24860,
          "mature": false,
          "multiplayer": true,
          "name": "Introduction to Modo",
          "num_reviews": 0,
          "original_price": 4.99,
          "percent_positive": 0,
          "release_date": "Sep 15, 2015"
         },
         {
          "achievements": 0,
          "developer": null,
          "index": 24877,
          "mature": false,
          "multiplayer": false,
          "name": "Crash Time 2",
          "num_reviews": 942,
          "original_price": 78.91,
          "percent_positive": 0.56,
          "release_date": "Aug 27, 2009"
         },
         {
          "achievements": 6,
          "developer": null,
          "index": 24911,
          "mature": true,
          "multiplayer": false,
          "name": "Space Girls",
          "num_reviews": 88,
          "original_price": 0.99,
          "percent_positive": 0.45,
          "release_date": "Oct 2, 2017"
         },
         {
          "achievements": 0,
          "developer": null,
          "index": 25460,
          "mature": false,
          "multiplayer": true,
          "name": "Kalen Chock Presents: 2017 Free Tutorial",
          "num_reviews": 0,
          "original_price": 0,
          "percent_positive": 0,
          "release_date": "Jan 3, 2018"
         },
         {
          "achievements": 0,
          "developer": null,
          "index": 25481,
          "mature": false,
          "multiplayer": false,
          "name": "The Crew™ Street Edition Pack",
          "num_reviews": 22,
          "original_price": 6.99,
          "percent_positive": 0.27,
          "release_date": "Jan 27, 2015"
         },
         {
          "achievements": 24,
          "developer": null,
          "index": 25898,
          "mature": false,
          "multiplayer": false,
          "name": "Soccer Legends",
          "num_reviews": 13,
          "original_price": 0,
          "percent_positive": 0.23,
          "release_date": "Aug 5, 2015"
         },
         {
          "achievements": 44,
          "developer": null,
          "index": 25948,
          "mature": false,
          "multiplayer": true,
          "name": "Dead Sky",
          "num_reviews": 148,
          "original_price": 1.99,
          "percent_positive": 0.38,
          "release_date": "Nov 22, 2013"
         },
         {
          "achievements": 0,
          "developer": null,
          "index": 25952,
          "mature": false,
          "multiplayer": true,
          "name": "Small World 2 - Grand Dames",
          "num_reviews": 0,
          "original_price": 2.99,
          "percent_positive": 0,
          "release_date": "Dec 11, 2013"
         },
         {
          "achievements": 0,
          "developer": null,
          "index": 26085,
          "mature": false,
          "multiplayer": false,
          "name": "Tycoon City: New York",
          "num_reviews": 122,
          "original_price": 89.9,
          "percent_positive": 0.34,
          "release_date": "Feb 21, 2006"
         },
         {
          "achievements": 0,
          "developer": null,
          "index": 26349,
          "mature": false,
          "multiplayer": false,
          "name": "The War of the Worlds: Andromeda",
          "num_reviews": 0,
          "original_price": 4.99,
          "percent_positive": 0,
          "release_date": "Oct 12, 2018"
         },
         {
          "achievements": 10,
          "developer": null,
          "index": 26373,
          "mature": false,
          "multiplayer": false,
          "name": "Magazine Editor",
          "num_reviews": 56,
          "original_price": 0.99,
          "percent_positive": 0.37,
          "release_date": "Feb 24, 2017"
         },
         {
          "achievements": 26,
          "developer": null,
          "index": 26397,
          "mature": false,
          "multiplayer": false,
          "name": "Bio Soup",
          "num_reviews": 46,
          "original_price": 0.99,
          "percent_positive": 0.34,
          "release_date": "Oct 27, 2017"
         },
         {
          "achievements": 50,
          "developer": null,
          "index": 26422,
          "mature": true,
          "multiplayer": false,
          "name": "Tower of Lust",
          "num_reviews": 69,
          "original_price": 0.99,
          "percent_positive": 0.24,
          "release_date": "Oct 2, 2017"
         },
         {
          "achievements": 241,
          "developer": null,
          "index": 26431,
          "mature": false,
          "multiplayer": false,
          "name": "Arcade Tale",
          "num_reviews": 112,
          "original_price": 0.99,
          "percent_positive": 0.36,
          "release_date": "Mar 31, 2017"
         },
         {
          "achievements": 8,
          "developer": null,
          "index": 26458,
          "mature": false,
          "multiplayer": false,
          "name": "Only One Hope",
          "num_reviews": 31,
          "original_price": 0.99,
          "percent_positive": 0.35,
          "release_date": "Jan 22, 2017"
         },
         {
          "achievements": 0,
          "developer": null,
          "index": 26473,
          "mature": false,
          "multiplayer": false,
          "name": "WarMages",
          "num_reviews": 0,
          "original_price": 0.99,
          "percent_positive": 0,
          "release_date": "Oct 5, 2017"
         },
         {
          "achievements": 0,
          "developer": null,
          "index": 26793,
          "mature": false,
          "multiplayer": false,
          "name": "龙魂时刻",
          "num_reviews": 1322,
          "original_price": 0,
          "percent_positive": 0.35,
          "release_date": "Jun 27, 2017"
         },
         {
          "achievements": 0,
          "developer": null,
          "index": 26895,
          "mature": false,
          "multiplayer": false,
          "name": "Prison Tycoon 4: SuperMax",
          "num_reviews": 26,
          "original_price": 24.99,
          "percent_positive": 0.19,
          "release_date": "NULL"
         },
         {
          "achievements": 0,
          "developer": null,
          "index": 27215,
          "mature": false,
          "multiplayer": false,
          "name": "建筑大冒险 Architectural Adventure",
          "num_reviews": 0,
          "original_price": 0.99,
          "percent_positive": 0,
          "release_date": "Jul 20, 2018"
         },
         {
          "achievements": 0,
          "developer": null,
          "index": 27377,
          "mature": true,
          "multiplayer": true,
          "name": "Happy together - Catgirl",
          "num_reviews": 0,
          "original_price": 5.99,
          "percent_positive": 0,
          "release_date": "Aug 15, 2018"
         },
         {
          "achievements": 0,
          "developer": null,
          "index": 27588,
          "mature": false,
          "multiplayer": false,
          "name": "Goo Tunes (Super Goo Goo OST)",
          "num_reviews": 0,
          "original_price": 0.99,
          "percent_positive": 0,
          "release_date": "Apr 16, 2015"
         },
         {
          "achievements": 0,
          "developer": null,
          "index": 27646,
          "mature": false,
          "multiplayer": false,
          "name": "Streamer Simulator",
          "num_reviews": 32,
          "original_price": 0.99,
          "percent_positive": 0.06,
          "release_date": "Aug 23, 2016"
         },
         {
          "achievements": 0,
          "developer": null,
          "index": 27846,
          "mature": false,
          "multiplayer": false,
          "name": "Phantasy Star III: Generations of Doom",
          "num_reviews": 0,
          "original_price": 0.99,
          "percent_positive": 0,
          "release_date": "May 2, 2012"
         },
         {
          "achievements": 0,
          "developer": null,
          "index": 27848,
          "mature": false,
          "multiplayer": false,
          "name": "Phantasy Star II",
          "num_reviews": 0,
          "original_price": 0.99,
          "percent_positive": 0,
          "release_date": "May 2, 2012"
         },
         {
          "achievements": 0,
          "developer": null,
          "index": 27893,
          "mature": true,
          "multiplayer": false,
          "name": "CRACKHEAD Theme Tune",
          "num_reviews": 0,
          "original_price": 0.99,
          "percent_positive": 0,
          "release_date": "Sep 6, 2017"
         },
         {
          "achievements": 0,
          "developer": null,
          "index": 28202,
          "mature": false,
          "multiplayer": true,
          "name": "Robotpencil Presents: Insight: How to Study Better",
          "num_reviews": 0,
          "original_price": 5.99,
          "percent_positive": 0,
          "release_date": "May 19, 2017"
         },
         {
          "achievements": 0,
          "developer": null,
          "index": 28539,
          "mature": false,
          "multiplayer": true,
          "name": "Artillery Cats Cat Pack",
          "num_reviews": 0,
          "original_price": 1.99,
          "percent_positive": 0,
          "release_date": "Jun 26, 2018"
         },
         {
          "achievements": 0,
          "developer": null,
          "index": 28550,
          "mature": false,
          "multiplayer": false,
          "name": "6-in-1 IQ Scale Bundle - Lost Starships",
          "num_reviews": 0,
          "original_price": 0.99,
          "percent_positive": 0,
          "release_date": "Jul 13, 2018"
         },
         {
          "achievements": 0,
          "developer": null,
          "index": 28551,
          "mature": false,
          "multiplayer": false,
          "name": "6-in-1 IQ Scale Bundle - Very Sharp Eye",
          "num_reviews": 0,
          "original_price": 0.99,
          "percent_positive": 0,
          "release_date": "Jul 13, 2018"
         },
         {
          "achievements": 0,
          "developer": null,
          "index": 28552,
          "mature": false,
          "multiplayer": false,
          "name": "6-in-1 IQ Scale Bundle - Cube Match",
          "num_reviews": 0,
          "original_price": 0.99,
          "percent_positive": 0,
          "release_date": "Jul 13, 2018"
         },
         {
          "achievements": 0,
          "developer": null,
          "index": 28553,
          "mature": false,
          "multiplayer": false,
          "name": "6-in-1 IQ Scale Bundle - Starships",
          "num_reviews": 0,
          "original_price": 0.99,
          "percent_positive": 0,
          "release_date": "Jul 13, 2018"
         },
         {
          "achievements": 0,
          "developer": null,
          "index": 28727,
          "mature": false,
          "multiplayer": false,
          "name": "World Basketball Tycoon",
          "num_reviews": 78,
          "original_price": 2.99,
          "percent_positive": 0.11,
          "release_date": "Nov 18, 2013"
         },
         {
          "achievements": 0,
          "developer": null,
          "index": 28740,
          "mature": false,
          "multiplayer": false,
          "name": "Piano Simulator",
          "num_reviews": 10,
          "original_price": 2.99,
          "percent_positive": 0.1,
          "release_date": "May 29, 2018"
         },
         {
          "achievements": 0,
          "developer": null,
          "index": 28801,
          "mature": false,
          "multiplayer": false,
          "name": "Aarklash: Legacy Demo",
          "num_reviews": 0,
          "original_price": 0,
          "percent_positive": 0,
          "release_date": "Oct 16, 2013"
         },
         {
          "achievements": 0,
          "developer": null,
          "index": 28975,
          "mature": false,
          "multiplayer": false,
          "name": "eHero",
          "num_reviews": 0,
          "original_price": 0,
          "percent_positive": 0,
          "release_date": "May 25, 2018"
         },
         {
          "achievements": 0,
          "developer": null,
          "index": 29088,
          "mature": false,
          "multiplayer": false,
          "name": "Elven Magic SE",
          "num_reviews": 0,
          "original_price": 2.99,
          "percent_positive": 0,
          "release_date": "Sep 5, 2018"
         },
         {
          "achievements": 0,
          "developer": null,
          "index": 29559,
          "mature": false,
          "multiplayer": false,
          "name": "Magic 2014 “Warsmith” Foil Conversion",
          "num_reviews": 0,
          "original_price": 0.99,
          "percent_positive": 0,
          "release_date": "Jan 8, 2014"
         },
         {
          "achievements": 0,
          "developer": null,
          "index": 29560,
          "mature": false,
          "multiplayer": false,
          "name": "Magic 2014 “Warsmith” Deck Key",
          "num_reviews": 0,
          "original_price": 0.99,
          "percent_positive": 0,
          "release_date": "Jan 8, 2014"
         },
         {
          "achievements": 0,
          "developer": null,
          "index": 29562,
          "mature": false,
          "multiplayer": false,
          "name": "Foil Conversion - “Up to Mischief”",
          "num_reviews": 0,
          "original_price": 0.99,
          "percent_positive": 0,
          "release_date": "Dec 4, 2013"
         },
         {
          "achievements": 0,
          "developer": null,
          "index": 29613,
          "mature": false,
          "multiplayer": true,
          "name": "HIS - [P-38J] Lightning R.Bong Pack",
          "num_reviews": 0,
          "original_price": 64.99,
          "percent_positive": 0,
          "release_date": "Mar 3, 2015"
         },
         {
          "achievements": 0,
          "developer": null,
          "index": 29901,
          "mature": false,
          "multiplayer": false,
          "name": "Sacre Bleu: Steampunk",
          "num_reviews": 0,
          "original_price": 0,
          "percent_positive": 0,
          "release_date": "NULL"
         },
         {
          "achievements": 0,
          "developer": null,
          "index": 30628,
          "mature": false,
          "multiplayer": true,
          "name": "Call of Pixel: Close Quarters - 1.99$ Donation of Supporters",
          "num_reviews": 0,
          "original_price": 1.99,
          "percent_positive": 0,
          "release_date": "Mar 8, 2019"
         },
         {
          "achievements": 0,
          "developer": null,
          "index": 30629,
          "mature": false,
          "multiplayer": true,
          "name": "Call of Pixel: Close Quarters - 4.99$ Donation of Supporters",
          "num_reviews": 0,
          "original_price": 4.99,
          "percent_positive": 0,
          "release_date": "Mar 8, 2019"
         },
         {
          "achievements": 0,
          "developer": null,
          "index": 30631,
          "mature": false,
          "multiplayer": true,
          "name": "Call of Pixel: Close Quarters - 9.99$ Donation of Supporters",
          "num_reviews": 0,
          "original_price": 9.99,
          "percent_positive": 0,
          "release_date": "Mar 8, 2019"
         },
         {
          "achievements": 0,
          "developer": null,
          "index": 30818,
          "mature": false,
          "multiplayer": false,
          "name": "Dot To Dot Puzzles - Lifetime Hint Booster Pack",
          "num_reviews": 0,
          "original_price": 0.99,
          "percent_positive": 0,
          "release_date": "Jul 9, 2018"
         },
         {
          "achievements": 0,
          "developer": null,
          "index": 30819,
          "mature": false,
          "multiplayer": false,
          "name": "Dot To Dot Puzzles - Lifetime Star Booster Pack",
          "num_reviews": 0,
          "original_price": 1.99,
          "percent_positive": 0,
          "release_date": "Jul 9, 2018"
         },
         {
          "achievements": 0,
          "developer": null,
          "index": 30885,
          "mature": false,
          "multiplayer": false,
          "name": "Project Reset - Soundtrack",
          "num_reviews": 0,
          "original_price": 0.99,
          "percent_positive": 0,
          "release_date": "Dec 19, 2018"
         },
         {
          "achievements": 0,
          "developer": null,
          "index": 30965,
          "mature": false,
          "multiplayer": false,
          "name": "Juventus VR - CR7 at Villar Perosa",
          "num_reviews": 0,
          "original_price": 3.99,
          "percent_positive": 0,
          "release_date": "Apr 16, 2019"
         },
         {
          "achievements": 0,
          "developer": null,
          "index": 30966,
          "mature": false,
          "multiplayer": false,
          "name": "Juventus VR - CR7 DAY",
          "num_reviews": 0,
          "original_price": 3.99,
          "percent_positive": 0,
          "release_date": "Apr 16, 2019"
         },
         {
          "achievements": 0,
          "developer": null,
          "index": 30973,
          "mature": false,
          "multiplayer": false,
          "name": "Juventus VR - Ronaldo's Juve debut",
          "num_reviews": 0,
          "original_price": 3.99,
          "percent_positive": 0,
          "release_date": "Apr 16, 2019"
         },
         {
          "achievements": 0,
          "developer": null,
          "index": 31122,
          "mature": false,
          "multiplayer": false,
          "name": "Dot To Dot Puzzles - Lifetime Premium Pack",
          "num_reviews": 0,
          "original_price": 9.99,
          "percent_positive": 0,
          "release_date": "Jul 9, 2018"
         },
         {
          "achievements": 0,
          "developer": null,
          "index": 31240,
          "mature": false,
          "multiplayer": true,
          "name": "Steam Controller Wireless Receiver",
          "num_reviews": 0,
          "original_price": 12.99,
          "percent_positive": 0,
          "release_date": "Sep 29, 2016"
         },
         {
          "achievements": 0,
          "developer": null,
          "index": 31466,
          "mature": false,
          "multiplayer": false,
          "name": "Deck Unlock - “Up to Mischief”",
          "num_reviews": 0,
          "original_price": 0.99,
          "percent_positive": 0,
          "release_date": "Dec 4, 2013"
         },
         {
          "achievements": 0,
          "developer": null,
          "index": 31467,
          "mature": false,
          "multiplayer": false,
          "name": "Foil Conversion - “Enchanter's Arsenal”",
          "num_reviews": 0,
          "original_price": 0.99,
          "percent_positive": 0,
          "release_date": "Dec 4, 2013"
         },
         {
          "achievements": 0,
          "developer": null,
          "index": 31468,
          "mature": false,
          "multiplayer": false,
          "name": "Deck Unlock - “Enchanter's Arsenal”",
          "num_reviews": 0,
          "original_price": 0.99,
          "percent_positive": 0,
          "release_date": "Dec 4, 2013"
         },
         {
          "achievements": 0,
          "developer": null,
          "index": 31469,
          "mature": false,
          "multiplayer": false,
          "name": "Magic 2014 “Hunting Season” Foil Conversion",
          "num_reviews": 0,
          "original_price": 0.99,
          "percent_positive": 0,
          "release_date": "Jan 8, 2014"
         },
         {
          "achievements": 0,
          "developer": null,
          "index": 31470,
          "mature": false,
          "multiplayer": false,
          "name": "Magic 2014 “Hunting Season” Deck Key",
          "num_reviews": 0,
          "original_price": 0.99,
          "percent_positive": 0,
          "release_date": "Jan 8, 2014"
         },
         {
          "achievements": 0,
          "developer": null,
          "index": 31472,
          "mature": false,
          "multiplayer": false,
          "name": "Magic 2014 - Deck Pack 2",
          "num_reviews": 0,
          "original_price": 2.99,
          "percent_positive": 0,
          "release_date": "Dec 4, 2013"
         },
         {
          "achievements": 57,
          "developer": null,
          "index": 31536,
          "mature": false,
          "multiplayer": false,
          "name": "Vector",
          "num_reviews": 448,
          "original_price": 6.99,
          "percent_positive": 0.87,
          "release_date": "Dec 4, 2013"
         },
         {
          "achievements": 0,
          "developer": null,
          "index": 31777,
          "mature": false,
          "multiplayer": true,
          "name": "Ragnarok Online 2 - Emperium Warrior Pack",
          "num_reviews": 0,
          "original_price": 44.99,
          "percent_positive": 0,
          "release_date": "Aug 28, 2013"
         },
         {
          "achievements": 0,
          "developer": null,
          "index": 31780,
          "mature": false,
          "multiplayer": false,
          "name": "Flashback",
          "num_reviews": 352,
          "original_price": 9.99,
          "percent_positive": 0.6,
          "release_date": "Oct 1, 2013"
         },
         {
          "achievements": 0,
          "developer": null,
          "index": 31811,
          "mature": false,
          "multiplayer": false,
          "name": "Stealth Inc 2: A Game of Clones - Official Soundtrack",
          "num_reviews": 0,
          "original_price": 2.99,
          "percent_positive": 0,
          "release_date": "Aug 3, 2015"
         },
         {
          "achievements": 0,
          "developer": null,
          "index": 31942,
          "mature": false,
          "multiplayer": true,
          "name": "Space Hulk - Defilement of Honour Campaign",
          "num_reviews": 0,
          "original_price": 4.99,
          "percent_positive": 0,
          "release_date": "Nov 21, 2013"
         },
         {
          "achievements": 0,
          "developer": null,
          "index": 31943,
          "mature": false,
          "multiplayer": true,
          "name": "Space Hulk - Sword of Halcyon Campaign",
          "num_reviews": 0,
          "original_price": 4.99,
          "percent_positive": 0,
          "release_date": "Nov 21, 2013"
         },
         {
          "achievements": 0,
          "developer": null,
          "index": 31944,
          "mature": false,
          "multiplayer": true,
          "name": "True Gentlemen Pack",
          "num_reviews": 0,
          "original_price": 2.99,
          "percent_positive": 0,
          "release_date": "Aug 21, 2014"
         },
         {
          "achievements": 0,
          "developer": null,
          "index": 32003,
          "mature": false,
          "multiplayer": false,
          "name": "BIT.TRIP Presents... Runner2: Future Legend of Rhythm Alien Soundtrack",
          "num_reviews": 0,
          "original_price": 9.99,
          "percent_positive": 0,
          "release_date": "Feb 26, 2013"
         },
         {
          "achievements": 0,
          "developer": null,
          "index": 32173,
          "mature": false,
          "multiplayer": true,
          "name": "Cliffs of War: Fortress Defenders",
          "num_reviews": 0,
          "original_price": 0,
          "percent_positive": 0,
          "release_date": "Nov 3, 2015"
         },
         {
          "achievements": 0,
          "developer": null,
          "index": 32177,
          "mature": false,
          "multiplayer": false,
          "name": "RTK13 - Bonus Officer CG “Zhang Fei” 「張飛」特典武将CG",
          "num_reviews": 0,
          "original_price": 0,
          "percent_positive": 0,
          "release_date": "Jan 27, 2016"
         },
         {
          "achievements": 0,
          "developer": null,
          "index": 32178,
          "mature": false,
          "multiplayer": false,
          "name": "RTK13 - Bonus Officer CG “Liu Bei” 「劉備」特典武将CG",
          "num_reviews": 0,
          "original_price": 0,
          "percent_positive": 0,
          "release_date": "Jan 27, 2016"
         },
         {
          "achievements": 0,
          "developer": null,
          "index": 32301,
          "mature": false,
          "multiplayer": false,
          "name": "NOBUNAGA'S AMBITION: SoI - Scenario 3 \"Dawn of Revolution\"",
          "num_reviews": 0,
          "original_price": 2.99,
          "percent_positive": 0,
          "release_date": "Sep 1, 2015"
         },
         {
          "achievements": 0,
          "developer": null,
          "index": 32302,
          "mature": false,
          "multiplayer": false,
          "name": "NOBUNAGA'S AMBITION: SoI - Scenario 2 \"God of War Descends\"",
          "num_reviews": 0,
          "original_price": 2.99,
          "percent_positive": 0,
          "release_date": "Sep 1, 2015"
         },
         {
          "achievements": 0,
          "developer": null,
          "index": 32322,
          "mature": false,
          "multiplayer": false,
          "name": "NOBUNAGA'S AMBITION: SoI - Scenario 9 \"Shingen's Final Step\"",
          "num_reviews": 0,
          "original_price": 2.99,
          "percent_positive": 0,
          "release_date": "Sep 1, 2015"
         },
         {
          "achievements": 0,
          "developer": null,
          "index": 32323,
          "mature": false,
          "multiplayer": false,
          "name": "NOBUNAGA'S AMBITION: SoI - Scenario 7 \"Battle of Tetorigawa\"",
          "num_reviews": 0,
          "original_price": 2.99,
          "percent_positive": 0,
          "release_date": "Sep 1, 2015"
         },
         {
          "achievements": 0,
          "developer": null,
          "index": 32324,
          "mature": false,
          "multiplayer": false,
          "name": "NOBUNAGA'S AMBITION: SoI - Scenario 6 \"Battle of Itsukushima\"",
          "num_reviews": 0,
          "original_price": 2.99,
          "percent_positive": 0,
          "release_date": "Sep 1, 2015"
         },
         {
          "achievements": 0,
          "developer": null,
          "index": 32400,
          "mature": false,
          "multiplayer": true,
          "name": "ARSLAN - Scenario Set 1",
          "num_reviews": 0,
          "original_price": 1.99,
          "percent_positive": 0,
          "release_date": "Feb 9, 2016"
         },
         {
          "achievements": 0,
          "developer": null,
          "index": 32402,
          "mature": false,
          "multiplayer": true,
          "name": "ARSLAN - GC Coin",
          "num_reviews": 0,
          "original_price": 0,
          "percent_positive": 0,
          "release_date": "Feb 9, 2016"
         },
         {
          "achievements": 0,
          "developer": null,
          "index": 32404,
          "mature": false,
          "multiplayer": true,
          "name": "ARSLAN - GC Online Rsgistration Key",
          "num_reviews": 0,
          "original_price": 0,
          "percent_positive": 0,
          "release_date": "Feb 9, 2016"
         },
         {
          "achievements": 0,
          "developer": null,
          "index": 32434,
          "mature": false,
          "multiplayer": false,
          "name": "RTK13 - Hyakuman nin no Sangokushi Item 6 『100万人の三國志』連携特典６ 『100万人の三國志』顔CG（諸葛亮）",
          "num_reviews": 0,
          "original_price": 0,
          "percent_positive": 0,
          "release_date": "Jan 27, 2016"
         },
         {
          "achievements": 0,
          "developer": null,
          "index": 32435,
          "mature": false,
          "multiplayer": false,
          "name": "RTK13 - Hyakuman nin no Sangokushi Item 5 『100万人の三國志』連携特典５ 英傑伝クリアで開放される顔CG（孫策）",
          "num_reviews": 0,
          "original_price": 0,
          "percent_positive": 0,
          "release_date": "Jan 27, 2016"
         },
         {
          "achievements": 0,
          "developer": null,
          "index": 32436,
          "mature": false,
          "multiplayer": false,
          "name": "RTK13 - Hyakuman nin no Sangokushi Item 4 『100万人の三國志』連携特典４ シナリオ「英雄集結」",
          "num_reviews": 0,
          "original_price": 0,
          "percent_positive": 0,
          "release_date": "Jan 27, 2016"
         },
         {
          "achievements": 0,
          "developer": null,
          "index": 32437,
          "mature": false,
          "multiplayer": false,
          "name": "RTK13 - Hyakuman nin no Sangokushi Item 3 『100万人の三國志』連携特典３ 『三國志12』顔CG（孫策/周瑜/陸遜）",
          "num_reviews": 0,
          "original_price": 0,
          "percent_positive": 0,
          "release_date": "Jan 27, 2016"
         },
         {
          "achievements": 0,
          "developer": null,
          "index": 32438,
          "mature": false,
          "multiplayer": false,
          "name": "RTK13 - Hyakuman nin no Sangokushi Item 2 『100万人の三國志』連携特典２ 『三國志12』顔CG（曹操/夏侯惇/夏侯淵）",
          "num_reviews": 0,
          "original_price": 0,
          "percent_positive": 0,
          "release_date": "Jan 27, 2016"
         },
         {
          "achievements": 0,
          "developer": null,
          "index": 32439,
          "mature": false,
          "multiplayer": false,
          "name": "RTK13 - Hyakuman nin no Sangokushi Item 1 『100万人の三國志』連携特典１ 『三國志12』顔CG（劉備/関羽/張飛）",
          "num_reviews": 0,
          "original_price": 0,
          "percent_positive": 0,
          "release_date": "Jan 27, 2016"
         },
         {
          "achievements": 0,
          "developer": null,
          "index": 32544,
          "mature": false,
          "multiplayer": false,
          "name": "Funfair Ride Simulator 3 - Ride Pack 1",
          "num_reviews": 0,
          "original_price": 5.99,
          "percent_positive": 0,
          "release_date": "Aug 4, 2016"
         },
         {
          "achievements": 0,
          "developer": null,
          "index": 32905,
          "mature": false,
          "multiplayer": false,
          "name": "NOBUNAGA'S AMBITION: Souzou SR - “Mego Hime” Bushou Data",
          "num_reviews": 0,
          "original_price": 0,
          "percent_positive": 0,
          "release_date": "Mar 30, 2016"
         },
         {
          "achievements": 0,
          "developer": null,
          "index": 32906,
          "mature": false,
          "multiplayer": false,
          "name": "NOBUNAGA'S AMBITION: Souzou SR - “Miura Anjin” Bushou Data",
          "num_reviews": 0,
          "original_price": 0,
          "percent_positive": 0,
          "release_date": "Mar 23, 2016"
         },
         {
          "achievements": 0,
          "developer": null,
          "index": 32907,
          "mature": false,
          "multiplayer": false,
          "name": "NOBUNAGA'S AMBITION: Souzou SR - “Nobunaga's Ambition Day” memorial set (2016)",
          "num_reviews": 0,
          "original_price": 0,
          "percent_positive": 0,
          "release_date": "Mar 29, 2016"
         },
         {
          "achievements": 0,
          "developer": null,
          "index": 32908,
          "mature": false,
          "multiplayer": false,
          "name": "NOBUNAGA'S AMBITION: Souzou SR - “Oyamada Shigemasa” “Muramatsu Dono” Bushou Data",
          "num_reviews": 0,
          "original_price": 0,
          "percent_positive": 0,
          "release_date": "Mar 23, 2016"
         },
         {
          "achievements": 0,
          "developer": null,
          "index": 32909,
          "mature": false,
          "multiplayer": false,
          "name": "NOBUNAGA'S AMBITION: Souzou SR - Scenario Senranyamazu",
          "num_reviews": 0,
          "original_price": 0,
          "percent_positive": 0,
          "release_date": "Mar 23, 2016"
         },
         {
          "achievements": 0,
          "developer": null,
          "index": 33503,
          "mature": false,
          "multiplayer": true,
          "name": "ARSLAN - Scenario Set 5",
          "num_reviews": 0,
          "original_price": 13.99,
          "percent_positive": 0,
          "release_date": "Mar 29, 2016"
         },
         {
          "achievements": 0,
          "developer": null,
          "index": 33504,
          "mature": false,
          "multiplayer": true,
          "name": "ARSLAN - Skill Card Set 3",
          "num_reviews": 0,
          "original_price": 10.99,
          "percent_positive": 0,
          "release_date": "Mar 29, 2016"
         },
         {
          "achievements": 0,
          "developer": null,
          "index": 33505,
          "mature": false,
          "multiplayer": true,
          "name": "ARSLAN - Scenario Set 4",
          "num_reviews": 0,
          "original_price": 12.99,
          "percent_positive": 0,
          "release_date": "Mar 15, 2016"
         },
         {
          "achievements": 0,
          "developer": null,
          "index": 33506,
          "mature": false,
          "multiplayer": true,
          "name": "ARSLAN - Skill Card Set 2",
          "num_reviews": 0,
          "original_price": 10.99,
          "percent_positive": 0,
          "release_date": "Mar 15, 2016"
         },
         {
          "achievements": 0,
          "developer": null,
          "index": 33507,
          "mature": false,
          "multiplayer": true,
          "name": "ARSLAN - Wall Paper Set 3",
          "num_reviews": 0,
          "original_price": 4.99,
          "percent_positive": 0,
          "release_date": "Mar 15, 2016"
         },
         {
          "achievements": 0,
          "developer": null,
          "index": 33933,
          "mature": false,
          "multiplayer": false,
          "name": "The Ino Chronicles: Ascension - DLC",
          "num_reviews": 0,
          "original_price": 0,
          "percent_positive": 0,
          "release_date": "Mar 29, 2018"
         },
         {
          "achievements": 0,
          "developer": null,
          "index": 33982,
          "mature": false,
          "multiplayer": true,
          "name": "Kalen Chock Presents: Sketching with Photography",
          "num_reviews": 0,
          "original_price": 2.99,
          "percent_positive": 0,
          "release_date": "Dec 2, 2016"
         },
         {
          "achievements": 0,
          "developer": null,
          "index": 33983,
          "mature": false,
          "multiplayer": true,
          "name": "Robotpencil Presents: 3D Coat, Hard Surface Painting",
          "num_reviews": 0,
          "original_price": 5.99,
          "percent_positive": 0,
          "release_date": "Nov 10, 2016"
         },
         {
          "achievements": 0,
          "developer": null,
          "index": 33984,
          "mature": false,
          "multiplayer": true,
          "name": "Kalen Chock Presents: 3D Sketching 2.0",
          "num_reviews": 0,
          "original_price": 4.99,
          "percent_positive": 0,
          "release_date": "Nov 21, 2016"
         },
         {
          "achievements": 0,
          "developer": null,
          "index": 33985,
          "mature": false,
          "multiplayer": true,
          "name": "Robotpencil Presents: 3D Coat, Hard Surface Character",
          "num_reviews": 0,
          "original_price": 4.99,
          "percent_positive": 0,
          "release_date": "Nov 2, 2016"
         },
         {
          "achievements": 0,
          "developer": null,
          "index": 33987,
          "mature": false,
          "multiplayer": true,
          "name": "Kalen Chock Presents: Kitbashing with Lines",
          "num_reviews": 0,
          "original_price": 4.99,
          "percent_positive": 0,
          "release_date": "Oct 27, 2016"
         },
         {
          "achievements": 0,
          "developer": null,
          "index": 33988,
          "mature": false,
          "multiplayer": true,
          "name": "Kalen Chock Presents: 3D Sketching",
          "num_reviews": 0,
          "original_price": 2.99,
          "percent_positive": 0,
          "release_date": "Aug 24, 2016"
         },
         {
          "achievements": 0,
          "developer": null,
          "index": 34246,
          "mature": false,
          "multiplayer": true,
          "name": "Intro to Prop Sculpting and Texturing",
          "num_reviews": 0,
          "original_price": 14.99,
          "percent_positive": 0,
          "release_date": "Oct 1, 2018"
         },
         {
          "achievements": 0,
          "developer": null,
          "index": 34274,
          "mature": false,
          "multiplayer": false,
          "name": "Lingua Magicka - Japanese Language Pack",
          "num_reviews": 0,
          "original_price": 0,
          "percent_positive": 0,
          "release_date": "May 23, 2018"
         },
         {
          "achievements": 0,
          "developer": null,
          "index": 34303,
          "mature": false,
          "multiplayer": true,
          "name": "Robotpencil Presents: How To Finish a Painting",
          "num_reviews": 0,
          "original_price": 14.99,
          "percent_positive": 0,
          "release_date": "Dec 17, 2015"
         },
         {
          "achievements": 0,
          "developer": null,
          "index": 34391,
          "mature": false,
          "multiplayer": false,
          "name": "Lumber King DLC - Disciplined Bracelet",
          "num_reviews": 0,
          "original_price": 0.99,
          "percent_positive": 0,
          "release_date": "Aug 16, 2017"
         },
         {
          "achievements": 0,
          "developer": null,
          "index": 34392,
          "mature": false,
          "multiplayer": false,
          "name": "Lumber King DLC - Eternal Necklace",
          "num_reviews": 0,
          "original_price": 4.99,
          "percent_positive": 0,
          "release_date": "Aug 16, 2017"
         },
         {
          "achievements": 0,
          "developer": null,
          "index": 34393,
          "mature": false,
          "multiplayer": false,
          "name": "Lumber King DLC - Sword Of Heaven",
          "num_reviews": 0,
          "original_price": 29.99,
          "percent_positive": 0,
          "release_date": "Aug 16, 2017"
         },
         {
          "achievements": 0,
          "developer": null,
          "index": 34395,
          "mature": false,
          "multiplayer": false,
          "name": "Lumber King DLC - King's Shield",
          "num_reviews": 0,
          "original_price": 8.99,
          "percent_positive": 0,
          "release_date": "Aug 16, 2017"
         },
         {
          "achievements": 0,
          "developer": null,
          "index": 34560,
          "mature": false,
          "multiplayer": false,
          "name": "Lumber King DLC - Shining Helmet",
          "num_reviews": 0,
          "original_price": 0.99,
          "percent_positive": 0,
          "release_date": "Aug 16, 2017"
         },
         {
          "achievements": 0,
          "developer": null,
          "index": 34562,
          "mature": false,
          "multiplayer": false,
          "name": "Lumber King DLC - Holy Armor",
          "num_reviews": 0,
          "original_price": 2.99,
          "percent_positive": 0,
          "release_date": "Aug 16, 2017"
         },
         {
          "achievements": 0,
          "developer": null,
          "index": 34607,
          "mature": false,
          "multiplayer": false,
          "name": "Juventus VR - The Myth",
          "num_reviews": 0,
          "original_price": 2.99,
          "percent_positive": 0,
          "release_date": "Sep 6, 2018"
         },
         {
          "achievements": 0,
          "developer": null,
          "index": 34608,
          "mature": false,
          "multiplayer": false,
          "name": "Juventus VR - The Match",
          "num_reviews": 0,
          "original_price": 2.99,
          "percent_positive": 0,
          "release_date": "Sep 6, 2018"
         },
         {
          "achievements": 0,
          "developer": null,
          "index": 34609,
          "mature": false,
          "multiplayer": false,
          "name": "Juventus VR - The Legend",
          "num_reviews": 0,
          "original_price": 2.99,
          "percent_positive": 0,
          "release_date": "Sep 6, 2018"
         },
         {
          "achievements": 0,
          "developer": null,
          "index": 34610,
          "mature": false,
          "multiplayer": false,
          "name": "Juventus VR - The Insider",
          "num_reviews": 0,
          "original_price": 2.99,
          "percent_positive": 0,
          "release_date": "Sep 6, 2018"
         },
         {
          "achievements": 0,
          "developer": null,
          "index": 34715,
          "mature": false,
          "multiplayer": false,
          "name": "Lumber King DLC - Ring Of Temptation",
          "num_reviews": 0,
          "original_price": 29.99,
          "percent_positive": 0,
          "release_date": "Aug 16, 2017"
         },
         {
          "achievements": 0,
          "developer": null,
          "index": 34718,
          "mature": false,
          "multiplayer": false,
          "name": "Liquid Rhythm BeatForm Tumbler",
          "num_reviews": 0,
          "original_price": 13.99,
          "percent_positive": 0,
          "release_date": "Mar 28, 2014"
         },
         {
          "achievements": 0,
          "developer": null,
          "index": 34823,
          "mature": false,
          "multiplayer": false,
          "name": "Cobalt Dedicated Server",
          "num_reviews": 0,
          "original_price": 0,
          "percent_positive": 0,
          "release_date": "Feb 13, 2018"
         },
         {
          "achievements": 0,
          "developer": null,
          "index": 35198,
          "mature": false,
          "multiplayer": true,
          "name": "Robotpencil Presents: Insight: Tools of Practice",
          "num_reviews": 0,
          "original_price": 5.99,
          "percent_positive": 0,
          "release_date": "Dec 12, 2017"
         },
         {
          "achievements": 0,
          "developer": null,
          "index": 35200,
          "mature": false,
          "multiplayer": true,
          "name": "Robotpencil Presents: Insight: Design Cool Factor",
          "num_reviews": 0,
          "original_price": 5.99,
          "percent_positive": 0,
          "release_date": "May 10, 2017"
         },
         {
          "achievements": 0,
          "developer": null,
          "index": 35278,
          "mature": false,
          "multiplayer": false,
          "name": "Offroad Transport Simulator",
          "num_reviews": 0,
          "original_price": 0,
          "percent_positive": 0,
          "release_date": "2019"
         },
         {
          "achievements": 0,
          "developer": null,
          "index": 35294,
          "mature": false,
          "multiplayer": true,
          "name": "Robotpencil Presents: Insight: Design Cool and Practical",
          "num_reviews": 0,
          "original_price": 3.99,
          "percent_positive": 0,
          "release_date": "May 19, 2017"
         },
         {
          "achievements": 0,
          "developer": null,
          "index": 35396,
          "mature": false,
          "multiplayer": true,
          "name": "Robotpencil Presents: Speed Painting From Abstract Shapes",
          "num_reviews": 0,
          "original_price": 3.99,
          "percent_positive": 0,
          "release_date": "Nov 11, 2016"
         },
         {
          "achievements": 0,
          "developer": null,
          "index": 35399,
          "mature": false,
          "multiplayer": true,
          "name": "Kalen Chock Presents: Toxic Painting with Q&A",
          "num_reviews": 0,
          "original_price": 3.99,
          "percent_positive": 0,
          "release_date": "Oct 3, 2016"
         },
         {
          "achievements": 0,
          "developer": null,
          "index": 35400,
          "mature": false,
          "multiplayer": true,
          "name": "Kalen Chock Presents: Tips for Approaching Studies",
          "num_reviews": 0,
          "original_price": 2.99,
          "percent_positive": 0,
          "release_date": "Sep 20, 2016"
         },
         {
          "achievements": 0,
          "developer": null,
          "index": 35447,
          "mature": false,
          "multiplayer": true,
          "name": "Robotpencil Presents: Setting up Lights in a Painting",
          "num_reviews": 0,
          "original_price": 2.99,
          "percent_positive": 0,
          "release_date": "Oct 3, 2016"
         },
         {
          "achievements": 0,
          "developer": null,
          "index": 35723,
          "mature": false,
          "multiplayer": true,
          "name": "Robotpencil Presents: Rapid Designing",
          "num_reviews": 0,
          "original_price": 4.99,
          "percent_positive": 0,
          "release_date": "Dec 13, 2017"
         },
         {
          "achievements": 0,
          "developer": null,
          "index": 35850,
          "mature": false,
          "multiplayer": true,
          "name": "FLIP FLAPPERS",
          "num_reviews": 0,
          "original_price": 34.99,
          "percent_positive": 0,
          "release_date": "Feb 27, 2018"
         },
         {
          "achievements": 0,
          "developer": null,
          "index": 35853,
          "mature": true,
          "multiplayer": true,
          "name": "No Game, No Life Zero : Japanese Audio with English Subtitles",
          "num_reviews": 0,
          "original_price": 0,
          "percent_positive": 0,
          "release_date": "Aug 28, 2018"
         },
         {
          "achievements": 0,
          "developer": null,
          "index": 35942,
          "mature": false,
          "multiplayer": false,
          "name": "Underground Chinese Hip Hop",
          "num_reviews": 0,
          "original_price": 2.99,
          "percent_positive": 0,
          "release_date": "Jun 24, 2014"
         },
         {
          "achievements": 0,
          "developer": null,
          "index": 36019,
          "mature": false,
          "multiplayer": false,
          "name": "RTK13 - Bonus Officer CG “Guan Yu” 「関羽」特典武将CG",
          "num_reviews": 0,
          "original_price": 0,
          "percent_positive": 0,
          "release_date": "Jan 27, 2016"
         },
         {
          "achievements": 0,
          "developer": null,
          "index": 36158,
          "mature": false,
          "multiplayer": true,
          "name": "Robotpencil Presents: Creature Design: Magical",
          "num_reviews": 0,
          "original_price": 3.99,
          "percent_positive": 0,
          "release_date": "Mar 6, 2018"
         },
         {
          "achievements": 0,
          "developer": null,
          "index": 36247,
          "mature": false,
          "multiplayer": true,
          "name": "Robotpencil Presents: Insight: Design Practically",
          "num_reviews": 0,
          "original_price": 3.99,
          "percent_positive": 0,
          "release_date": "Apr 11, 2017"
         },
         {
          "achievements": 0,
          "developer": null,
          "index": 36359,
          "mature": false,
          "multiplayer": true,
          "name": "Robotpencil Presents: Brush Economy",
          "num_reviews": 0,
          "original_price": 4.99,
          "percent_positive": 0,
          "release_date": "Jan 17, 2018"
         },
         {
          "achievements": 0,
          "developer": null,
          "index": 36360,
          "mature": false,
          "multiplayer": true,
          "name": "Robotpencil Presents: Blender to Concept: Sculpting and Paintover",
          "num_reviews": 0,
          "original_price": 2.99,
          "percent_positive": 0,
          "release_date": "Jan 17, 2018"
         },
         {
          "achievements": 0,
          "developer": null,
          "index": 36364,
          "mature": false,
          "multiplayer": true,
          "name": "Kalen Chock Presents: Castle Compositions",
          "num_reviews": 0,
          "original_price": 9.99,
          "percent_positive": 0,
          "release_date": "Jan 17, 2018"
         },
         {
          "achievements": 0,
          "developer": null,
          "index": 36421,
          "mature": false,
          "multiplayer": true,
          "name": "Kalen Chock Presents: Graphic Sketching 2.0",
          "num_reviews": 0,
          "original_price": 4.99,
          "percent_positive": 0,
          "release_date": "Dec 2, 2016"
         },
         {
          "achievements": 0,
          "developer": null,
          "index": 36471,
          "mature": false,
          "multiplayer": true,
          "name": "Robotpencil Presents: Speed Designing",
          "num_reviews": 0,
          "original_price": 2.99,
          "percent_positive": 0,
          "release_date": "Nov 14, 2016"
         },
         {
          "achievements": 0,
          "developer": null,
          "index": 36476,
          "mature": false,
          "multiplayer": true,
          "name": "Kalen Chock Presents: Advanced Painting with Photography",
          "num_reviews": 0,
          "original_price": 9.99,
          "percent_positive": 0,
          "release_date": "Aug 24, 2016"
         },
         {
          "achievements": 0,
          "developer": null,
          "index": 36477,
          "mature": false,
          "multiplayer": true,
          "name": "Kalen Chock Presents: Advanced Thumbnails",
          "num_reviews": 0,
          "original_price": 3.99,
          "percent_positive": 0,
          "release_date": "Sep 20, 2016"
         },
         {
          "achievements": 0,
          "developer": null,
          "index": 36478,
          "mature": false,
          "multiplayer": true,
          "name": "Kalen Chock Presents: Tips for Foliage",
          "num_reviews": 0,
          "original_price": 2.99,
          "percent_positive": 0,
          "release_date": "Oct 3, 2016"
         },
         {
          "achievements": 0,
          "developer": null,
          "index": 36579,
          "mature": false,
          "multiplayer": false,
          "name": "God Vs Zombies",
          "num_reviews": 0,
          "original_price": 3.99,
          "percent_positive": 0,
          "release_date": "May 1, 2018"
         },
         {
          "achievements": 0,
          "developer": null,
          "index": 36755,
          "mature": false,
          "multiplayer": true,
          "name": "Robotpencil Presents: Start with Color",
          "num_reviews": 0,
          "original_price": 3.99,
          "percent_positive": 0,
          "release_date": "Dec 28, 2017"
         },
         {
          "achievements": 0,
          "developer": null,
          "index": 36756,
          "mature": false,
          "multiplayer": true,
          "name": "Robotpencil Presents: Exercise: Brushwork",
          "num_reviews": 0,
          "original_price": 3.99,
          "percent_positive": 0,
          "release_date": "Jan 3, 2018"
         },
         {
          "achievements": 0,
          "developer": null,
          "index": 36972,
          "mature": false,
          "multiplayer": false,
          "name": "Street Fighter Alpha: Generations",
          "num_reviews": 0,
          "original_price": 2.99,
          "percent_positive": 0,
          "release_date": "Sep 4, 2007"
         },
         {
          "achievements": 0,
          "developer": null,
          "index": 36973,
          "mature": false,
          "multiplayer": false,
          "name": "Street Fighter Alpha 1",
          "num_reviews": 0,
          "original_price": 2.99,
          "percent_positive": 0,
          "release_date": "Mar 1, 2007"
         },
         {
          "achievements": 0,
          "developer": null,
          "index": 36999,
          "mature": false,
          "multiplayer": false,
          "name": "RTK13 - Bonus Officer CG “Zhuge Liang” 「諸葛亮」特典武将CG",
          "num_reviews": 0,
          "original_price": 0,
          "percent_positive": 0,
          "release_date": "Jan 27, 2016"
         },
         {
          "achievements": 0,
          "developer": null,
          "index": 37218,
          "mature": false,
          "multiplayer": true,
          "name": "Valve Index Headset",
          "num_reviews": 0,
          "original_price": 499,
          "percent_positive": 0,
          "release_date": "NULL"
         },
         {
          "achievements": 0,
          "developer": null,
          "index": 37410,
          "mature": false,
          "multiplayer": true,
          "name": "Robotpencil Presents: Character Design - Realistic Believable",
          "num_reviews": 0,
          "original_price": 3.99,
          "percent_positive": 0,
          "release_date": "Jan 30, 2018"
         },
         {
          "achievements": 0,
          "developer": null,
          "index": 37506,
          "mature": false,
          "multiplayer": true,
          "name": "Working Faster in Modo",
          "num_reviews": 0,
          "original_price": 9.99,
          "percent_positive": 0,
          "release_date": "Sep 24, 2015"
         },
         {
          "achievements": 0,
          "developer": null,
          "index": 37507,
          "mature": false,
          "multiplayer": true,
          "name": "Valve Index Headset + Controllers",
          "num_reviews": 0,
          "original_price": 749,
          "percent_positive": 0,
          "release_date": "NULL"
         },
         {
          "achievements": 0,
          "developer": null,
          "index": 37509,
          "mature": false,
          "multiplayer": true,
          "name": "Valve Index VR Kit",
          "num_reviews": 0,
          "original_price": 999,
          "percent_positive": 0,
          "release_date": "NULL"
         },
         {
          "achievements": 0,
          "developer": null,
          "index": 37518,
          "mature": false,
          "multiplayer": true,
          "name": "HTC Vive",
          "num_reviews": 0,
          "original_price": 499,
          "percent_positive": 0,
          "release_date": "Apr 5, 2016"
         },
         {
          "achievements": 0,
          "developer": null,
          "index": 37536,
          "mature": false,
          "multiplayer": false,
          "name": "Juventus VR - Become Juve's new signing!",
          "num_reviews": 0,
          "original_price": 1.99,
          "percent_positive": 0,
          "release_date": "Apr 20, 2018"
         },
         {
          "achievements": 0,
          "developer": null,
          "index": 38040,
          "mature": false,
          "multiplayer": true,
          "name": "Initial D Legend 1: Awakening",
          "num_reviews": 0,
          "original_price": 0,
          "percent_positive": 0,
          "release_date": "Dec 5, 2017"
         }
        ],
        "schema": {
         "fields": [
          {
           "name": "index",
           "type": "integer"
          },
          {
           "name": "name",
           "type": "string"
          },
          {
           "name": "release_date",
           "type": "string"
          },
          {
           "name": "developer",
           "type": "string"
          },
          {
           "name": "achievements",
           "type": "number"
          },
          {
           "name": "original_price",
           "type": "number"
          },
          {
           "name": "percent_positive",
           "type": "number"
          },
          {
           "name": "num_reviews",
           "type": "number"
          },
          {
           "name": "multiplayer",
           "type": "boolean"
          },
          {
           "name": "mature",
           "type": "boolean"
          }
         ],
         "pandas_version": "0.20.0",
         "primaryKey": [
          "index"
         ]
        }
       },
       "total_rows": 282
      },
      "text/html": [
       "<div>\n",
       "<style scoped>\n",
       "    .dataframe tbody tr th:only-of-type {\n",
       "        vertical-align: middle;\n",
       "    }\n",
       "\n",
       "    .dataframe tbody tr th {\n",
       "        vertical-align: top;\n",
       "    }\n",
       "\n",
       "    .dataframe thead th {\n",
       "        text-align: right;\n",
       "    }\n",
       "</style>\n",
       "<table border=\"1\" class=\"dataframe\">\n",
       "  <thead>\n",
       "    <tr style=\"text-align: right;\">\n",
       "      <th></th>\n",
       "      <th>name</th>\n",
       "      <th>release_date</th>\n",
       "      <th>developer</th>\n",
       "      <th>achievements</th>\n",
       "      <th>original_price</th>\n",
       "      <th>percent_positive</th>\n",
       "      <th>num_reviews</th>\n",
       "      <th>multiplayer</th>\n",
       "      <th>mature</th>\n",
       "    </tr>\n",
       "  </thead>\n",
       "  <tbody>\n",
       "    <tr>\n",
       "      <th>130</th>\n",
       "      <td>Steam Controller</td>\n",
       "      <td>Nov 10, 2015</td>\n",
       "      <td>NaN</td>\n",
       "      <td>0.0</td>\n",
       "      <td>49.99</td>\n",
       "      <td>0.73</td>\n",
       "      <td>7942.0</td>\n",
       "      <td>True</td>\n",
       "      <td>False</td>\n",
       "    </tr>\n",
       "    <tr>\n",
       "      <th>1021</th>\n",
       "      <td>Spelunky</td>\n",
       "      <td>Aug 8, 2013</td>\n",
       "      <td>NaN</td>\n",
       "      <td>20.0</td>\n",
       "      <td>14.99</td>\n",
       "      <td>0.90</td>\n",
       "      <td>8305.0</td>\n",
       "      <td>False</td>\n",
       "      <td>False</td>\n",
       "    </tr>\n",
       "    <tr>\n",
       "      <th>1694</th>\n",
       "      <td>Artemis Spaceship Bridge Simulator</td>\n",
       "      <td>Sep 16, 2013</td>\n",
       "      <td>NaN</td>\n",
       "      <td>0.0</td>\n",
       "      <td>6.99</td>\n",
       "      <td>0.88</td>\n",
       "      <td>244.0</td>\n",
       "      <td>True</td>\n",
       "      <td>False</td>\n",
       "    </tr>\n",
       "    <tr>\n",
       "      <th>2306</th>\n",
       "      <td>Startopia</td>\n",
       "      <td>Jun 19, 2001</td>\n",
       "      <td>NaN</td>\n",
       "      <td>0.0</td>\n",
       "      <td>6.99</td>\n",
       "      <td>0.89</td>\n",
       "      <td>495.0</td>\n",
       "      <td>False</td>\n",
       "      <td>False</td>\n",
       "    </tr>\n",
       "    <tr>\n",
       "      <th>2488</th>\n",
       "      <td>Rayman® Legends</td>\n",
       "      <td>Sep 3, 2013</td>\n",
       "      <td>NaN</td>\n",
       "      <td>0.0</td>\n",
       "      <td>29.99</td>\n",
       "      <td>0.91</td>\n",
       "      <td>2890.0</td>\n",
       "      <td>False</td>\n",
       "      <td>False</td>\n",
       "    </tr>\n",
       "    <tr>\n",
       "      <th>...</th>\n",
       "      <td>...</td>\n",
       "      <td>...</td>\n",
       "      <td>...</td>\n",
       "      <td>...</td>\n",
       "      <td>...</td>\n",
       "      <td>...</td>\n",
       "      <td>...</td>\n",
       "      <td>...</td>\n",
       "      <td>...</td>\n",
       "    </tr>\n",
       "    <tr>\n",
       "      <th>37507</th>\n",
       "      <td>Valve Index Headset + Controllers</td>\n",
       "      <td>NULL</td>\n",
       "      <td>NaN</td>\n",
       "      <td>0.0</td>\n",
       "      <td>749.00</td>\n",
       "      <td>0.00</td>\n",
       "      <td>0.0</td>\n",
       "      <td>True</td>\n",
       "      <td>False</td>\n",
       "    </tr>\n",
       "    <tr>\n",
       "      <th>37509</th>\n",
       "      <td>Valve Index VR Kit</td>\n",
       "      <td>NULL</td>\n",
       "      <td>NaN</td>\n",
       "      <td>0.0</td>\n",
       "      <td>999.00</td>\n",
       "      <td>0.00</td>\n",
       "      <td>0.0</td>\n",
       "      <td>True</td>\n",
       "      <td>False</td>\n",
       "    </tr>\n",
       "    <tr>\n",
       "      <th>37518</th>\n",
       "      <td>HTC Vive</td>\n",
       "      <td>Apr 5, 2016</td>\n",
       "      <td>NaN</td>\n",
       "      <td>0.0</td>\n",
       "      <td>499.00</td>\n",
       "      <td>0.00</td>\n",
       "      <td>0.0</td>\n",
       "      <td>True</td>\n",
       "      <td>False</td>\n",
       "    </tr>\n",
       "    <tr>\n",
       "      <th>37536</th>\n",
       "      <td>Juventus VR - Become Juve's new signing!</td>\n",
       "      <td>Apr 20, 2018</td>\n",
       "      <td>NaN</td>\n",
       "      <td>0.0</td>\n",
       "      <td>1.99</td>\n",
       "      <td>0.00</td>\n",
       "      <td>0.0</td>\n",
       "      <td>False</td>\n",
       "      <td>False</td>\n",
       "    </tr>\n",
       "    <tr>\n",
       "      <th>38040</th>\n",
       "      <td>Initial D Legend 1: Awakening</td>\n",
       "      <td>Dec 5, 2017</td>\n",
       "      <td>NaN</td>\n",
       "      <td>0.0</td>\n",
       "      <td>0.00</td>\n",
       "      <td>0.00</td>\n",
       "      <td>0.0</td>\n",
       "      <td>True</td>\n",
       "      <td>False</td>\n",
       "    </tr>\n",
       "  </tbody>\n",
       "</table>\n",
       "<p>282 rows × 9 columns</p>\n",
       "</div>"
      ],
      "text/plain": [
       "                                           name  release_date developer  \\\n",
       "130                            Steam Controller  Nov 10, 2015       NaN   \n",
       "1021                                   Spelunky   Aug 8, 2013       NaN   \n",
       "1694         Artemis Spaceship Bridge Simulator  Sep 16, 2013       NaN   \n",
       "2306                                  Startopia  Jun 19, 2001       NaN   \n",
       "2488                            Rayman® Legends   Sep 3, 2013       NaN   \n",
       "...                                         ...           ...       ...   \n",
       "37507         Valve Index Headset + Controllers          NULL       NaN   \n",
       "37509                        Valve Index VR Kit          NULL       NaN   \n",
       "37518                                  HTC Vive   Apr 5, 2016       NaN   \n",
       "37536  Juventus VR - Become Juve's new signing!  Apr 20, 2018       NaN   \n",
       "38040             Initial D Legend 1: Awakening   Dec 5, 2017       NaN   \n",
       "\n",
       "       achievements  original_price  percent_positive  num_reviews  \\\n",
       "130             0.0           49.99              0.73       7942.0   \n",
       "1021           20.0           14.99              0.90       8305.0   \n",
       "1694            0.0            6.99              0.88        244.0   \n",
       "2306            0.0            6.99              0.89        495.0   \n",
       "2488            0.0           29.99              0.91       2890.0   \n",
       "...             ...             ...               ...          ...   \n",
       "37507           0.0          749.00              0.00          0.0   \n",
       "37509           0.0          999.00              0.00          0.0   \n",
       "37518           0.0          499.00              0.00          0.0   \n",
       "37536           0.0            1.99              0.00          0.0   \n",
       "38040           0.0            0.00              0.00          0.0   \n",
       "\n",
       "       multiplayer  mature  \n",
       "130           True   False  \n",
       "1021         False   False  \n",
       "1694          True   False  \n",
       "2306         False   False  \n",
       "2488         False   False  \n",
       "...            ...     ...  \n",
       "37507         True   False  \n",
       "37509         True   False  \n",
       "37518         True   False  \n",
       "37536        False   False  \n",
       "38040         True   False  \n",
       "\n",
       "[282 rows x 9 columns]"
      ]
     },
     "execution_count": 22,
     "metadata": {},
     "output_type": "execute_result"
    }
   ],
   "source": [
    "# Find rows with null in 'developer' column\n",
    "games[games['developer'].isna()]"
   ]
  },
  {
   "cell_type": "markdown",
   "id": "cb9458cb-9359-495a-8820-d87f17c25bc3",
   "metadata": {},
   "source": [
    "These rows contain games that have reviews and achievements so removing would harmful. "
   ]
  },
  {
   "cell_type": "markdown",
   "id": "8ed56a5f-cbbf-4e04-a24e-34ee68f92a2c",
   "metadata": {},
   "source": [
    "### Check for duplicates"
   ]
  },
  {
   "cell_type": "markdown",
   "id": "e11599d5-ae25-414b-9c1d-95a76e54a199",
   "metadata": {},
   "source": [
    "The only column that we wouldn't expect duplicates is 'name'"
   ]
  },
  {
   "cell_type": "code",
   "execution_count": 23,
   "id": "f1be3cff-1a28-4eba-ae74-3ee0e756b44b",
   "metadata": {},
   "outputs": [
    {
     "data": {
      "application/com.datacamp.data-table.v1+json": {
       "is_truncated": false,
       "table": {
        "data": [
         {
          "achievements": 16,
          "developer": "The Binary Mill",
          "index": 568,
          "mature": false,
          "multiplayer": true,
          "name": "RUSH",
          "num_reviews": 69,
          "original_price": 19.99,
          "percent_positive": 0.85,
          "release_date": "Jul 13, 2018"
         },
         {
          "achievements": 64,
          "developer": "Rocksteady Studios,Feral Interactive (Mac)",
          "index": 1463,
          "mature": false,
          "multiplayer": false,
          "name": "Batman: Arkham City - Game of the Year Edition",
          "num_reviews": 17335,
          "original_price": 19.99,
          "percent_positive": 0.94,
          "release_date": "Sep 7, 2012"
         },
         {
          "achievements": 0,
          "developer": "Vaka Game Magazine,Makoto Sanada",
          "index": 1833,
          "mature": false,
          "multiplayer": false,
          "name": "Angels of Death",
          "num_reviews": 1949,
          "original_price": 45.96,
          "percent_positive": 0.94,
          "release_date": "Dec 19, 2016"
         },
         {
          "achievements": 0,
          "developer": "Funomena",
          "index": 4220,
          "mature": false,
          "multiplayer": false,
          "name": "Luna",
          "num_reviews": 32,
          "original_price": 14.99,
          "percent_positive": 0.87,
          "release_date": "Oct 17, 2017"
         },
         {
          "achievements": 12,
          "developer": "Paul Cuisset",
          "index": 4559,
          "mature": false,
          "multiplayer": false,
          "name": "Flashback",
          "num_reviews": 35,
          "original_price": 9.99,
          "percent_positive": 0.94,
          "release_date": "Nov 29, 2018"
         },
         {
          "achievements": 0,
          "developer": "TML-Studios",
          "index": 4888,
          "mature": false,
          "multiplayer": false,
          "name": "New York Bus Simulator",
          "num_reviews": 67,
          "original_price": 9.99,
          "percent_positive": 0.46,
          "release_date": "Dec 11, 2009"
         },
         {
          "achievements": 53,
          "developer": "Rodeo Games,Twistplay",
          "index": 4944,
          "mature": false,
          "multiplayer": false,
          "name": "Warhammer Quest",
          "num_reviews": 598,
          "original_price": 14.99,
          "percent_positive": 0.69,
          "release_date": "Jan 7, 2015"
         },
         {
          "achievements": 40,
          "developer": "Cow Corp.",
          "index": 5185,
          "mature": false,
          "multiplayer": false,
          "name": "City Builder",
          "num_reviews": 0,
          "original_price": 1.99,
          "percent_positive": 0,
          "release_date": "May 27, 2018"
         },
         {
          "achievements": 0,
          "developer": "ONEONE1",
          "index": 5377,
          "mature": false,
          "multiplayer": false,
          "name": "Killing Time",
          "num_reviews": 652,
          "original_price": 1.99,
          "percent_positive": 0.72,
          "release_date": "Sep 20, 2017"
         },
         {
          "achievements": 0,
          "developer": "Boogygames Studios",
          "index": 5391,
          "mature": false,
          "multiplayer": false,
          "name": "Jigsaw Puzzles",
          "num_reviews": 0,
          "original_price": 18.91,
          "percent_positive": 0,
          "release_date": "Sep 17, 2017"
         },
         {
          "achievements": 0,
          "developer": "The 3DO Company",
          "index": 5646,
          "mature": false,
          "multiplayer": false,
          "name": "Killing Time",
          "num_reviews": 24,
          "original_price": 9.99,
          "percent_positive": 0.79,
          "release_date": "Aug 15, 1995"
         },
         {
          "achievements": 0,
          "developer": "Funny Games",
          "index": 5800,
          "mature": false,
          "multiplayer": true,
          "name": "Hide and Seek",
          "num_reviews": 86,
          "original_price": 0.99,
          "percent_positive": 0.59,
          "release_date": "Feb 1, 2019"
         },
         {
          "achievements": 0,
          "developer": "Urchin Games",
          "index": 6201,
          "mature": false,
          "multiplayer": false,
          "name": "Hidden Object Adventure Bundle",
          "num_reviews": 0,
          "original_price": 43.91,
          "percent_positive": 0,
          "release_date": "NULL"
         },
         {
          "achievements": 25,
          "developer": "Two Tribes",
          "index": 6680,
          "mature": false,
          "multiplayer": false,
          "name": "RUSH",
          "num_reviews": 1019,
          "original_price": 4.99,
          "percent_positive": 0.9,
          "release_date": "Dec 3, 2010"
         },
         {
          "achievements": 20,
          "developer": "Triverske",
          "index": 7022,
          "mature": false,
          "multiplayer": false,
          "name": "Ultimate Arena",
          "num_reviews": 699,
          "original_price": 4.99,
          "percent_positive": 0.84,
          "release_date": "Aug 22, 2016"
         },
         {
          "achievements": 0,
          "developer": "Sir Bedlam Productions",
          "index": 7272,
          "mature": false,
          "multiplayer": false,
          "name": "Black Rose",
          "num_reviews": 688,
          "original_price": 0,
          "percent_positive": 0.81,
          "release_date": "Mar 12, 2016"
         },
         {
          "achievements": 18,
          "developer": "MoaCube",
          "index": 7650,
          "mature": false,
          "multiplayer": false,
          "name": "Solstice",
          "num_reviews": 79,
          "original_price": 19.99,
          "percent_positive": 0.87,
          "release_date": "Mar 23, 2016"
         },
         {
          "achievements": 0,
          "developer": "House of Secrets",
          "index": 7749,
          "mature": false,
          "multiplayer": false,
          "name": "Surge",
          "num_reviews": 228,
          "original_price": 0,
          "percent_positive": 0.95,
          "release_date": "May 19, 2016"
         },
         {
          "achievements": 0,
          "developer": "Anarchy Enterprises",
          "index": 8594,
          "mature": false,
          "multiplayer": false,
          "name": "Hidden Object Adventure Bundle",
          "num_reviews": 0,
          "original_price": 14.97,
          "percent_positive": 0,
          "release_date": "NULL"
         },
         {
          "achievements": 100,
          "developer": "Mikhail Melnikov",
          "index": 10648,
          "mature": false,
          "multiplayer": false,
          "name": "Bounce",
          "num_reviews": 0,
          "original_price": 0.99,
          "percent_positive": 0,
          "release_date": "Apr 2, 2018"
         },
         {
          "achievements": 12,
          "developer": "blurredVision",
          "index": 10904,
          "mature": false,
          "multiplayer": false,
          "name": "Chaos Theory",
          "num_reviews": 0,
          "original_price": 2.99,
          "percent_positive": 0,
          "release_date": "May 22, 2008"
         },
         {
          "achievements": 0,
          "developer": "Luke Iannini",
          "index": 12143,
          "mature": false,
          "multiplayer": false,
          "name": "Rumpus",
          "num_reviews": 0,
          "original_price": 14.99,
          "percent_positive": 0,
          "release_date": "Jul 4, 2016"
         },
         {
          "achievements": 0,
          "developer": "TAMSOFT",
          "index": 13202,
          "mature": false,
          "multiplayer": false,
          "name": "Black Rose",
          "num_reviews": 0,
          "original_price": 0.99,
          "percent_positive": 0,
          "release_date": "Jun 2, 2016"
         },
         {
          "achievements": 15,
          "developer": "Steel Wool Studios",
          "index": 13215,
          "mature": false,
          "multiplayer": false,
          "name": "Bounce",
          "num_reviews": 24,
          "original_price": 19.99,
          "percent_positive": 0.95,
          "release_date": "Nov 30, 2016"
         },
         {
          "achievements": 0,
          "developer": "Redox Entertainment Inc",
          "index": 13517,
          "mature": false,
          "multiplayer": false,
          "name": "Space Maze",
          "num_reviews": 11,
          "original_price": 7.99,
          "percent_positive": 0.9,
          "release_date": "Aug 19, 2018"
         },
         {
          "achievements": 11,
          "developer": "Knightmare Games, Limited",
          "index": 13978,
          "mature": false,
          "multiplayer": false,
          "name": "Spark",
          "num_reviews": 0,
          "original_price": 1.99,
          "percent_positive": 0,
          "release_date": "Nov 10, 2017"
         },
         {
          "achievements": 0,
          "developer": "Stepanov Dmitriy",
          "index": 14660,
          "mature": false,
          "multiplayer": false,
          "name": "The Mine",
          "num_reviews": 0,
          "original_price": 2.99,
          "percent_positive": 0,
          "release_date": "Dec 20, 2016"
         },
         {
          "achievements": 64,
          "developer": "Rocksteady Studios,Feral Interactive (Mac)",
          "index": 15965,
          "mature": false,
          "multiplayer": false,
          "name": "Batman: Arkham City - Game of the Year Edition",
          "num_reviews": 17335,
          "original_price": 19.99,
          "percent_positive": 0.94,
          "release_date": "Sep 7, 2012"
         },
         {
          "achievements": 19,
          "developer": "Polyraptor Games",
          "index": 15976,
          "mature": false,
          "multiplayer": true,
          "name": "Rumpus",
          "num_reviews": 11,
          "original_price": 14.99,
          "percent_positive": 1,
          "release_date": "Apr 12, 2017"
         },
         {
          "achievements": 0,
          "developer": "Kadokawa Pictures Inc.",
          "index": 17011,
          "mature": true,
          "multiplayer": true,
          "name": "Angels of Death",
          "num_reviews": 0,
          "original_price": 1.99,
          "percent_positive": 0,
          "release_date": "Dec 1, 2018"
         },
         {
          "achievements": 30,
          "developer": "WindLimit",
          "index": 17350,
          "mature": true,
          "multiplayer": false,
          "name": "Ashes",
          "num_reviews": 11,
          "original_price": 3.99,
          "percent_positive": 0.72,
          "release_date": "Oct 26, 2018"
         },
         {
          "achievements": 0,
          "developer": "GabryGa",
          "index": 17384,
          "mature": false,
          "multiplayer": false,
          "name": "Dodge",
          "num_reviews": 11,
          "original_price": 0.99,
          "percent_positive": 0.72,
          "release_date": "Jan 9, 2018"
         },
         {
          "achievements": 13,
          "developer": "Yokcos",
          "index": 18035,
          "mature": false,
          "multiplayer": false,
          "name": "Dodge",
          "num_reviews": 36,
          "original_price": 1.99,
          "percent_positive": 0.77,
          "release_date": "Mar 16, 2015"
         },
         {
          "achievements": 0,
          "developer": "Twistplay,Rodeo Games",
          "index": 18106,
          "mature": false,
          "multiplayer": false,
          "name": "Warhammer Quest",
          "num_reviews": 10,
          "original_price": 0,
          "percent_positive": 0.7,
          "release_date": "Jan 7, 2015"
         },
         {
          "achievements": 0,
          "developer": "Fabio Ferrara,Giulia Airoldi",
          "index": 18365,
          "mature": false,
          "multiplayer": false,
          "name": "The Deer",
          "num_reviews": 317,
          "original_price": 0.99,
          "percent_positive": 0.7,
          "release_date": "Dec 2, 2015"
         },
         {
          "achievements": 0,
          "developer": "Kapitan",
          "index": 18441,
          "mature": false,
          "multiplayer": false,
          "name": "Zombie Apocalypse",
          "num_reviews": 32,
          "original_price": 1.99,
          "percent_positive": 0.75,
          "release_date": "Mar 9, 2019"
         },
         {
          "achievements": 0,
          "developer": "LucasArts",
          "index": 18597,
          "mature": false,
          "multiplayer": false,
          "name": "Afterlife",
          "num_reviews": 0,
          "original_price": 5.99,
          "percent_positive": 0,
          "release_date": "Jan 1, 1996"
         },
         {
          "achievements": 0,
          "developer": "CI Games",
          "index": 19495,
          "mature": false,
          "multiplayer": true,
          "name": "Sniper Ghost Warrior 3 - Season Pass",
          "num_reviews": 0,
          "original_price": 19.99,
          "percent_positive": 0,
          "release_date": "NULL"
         },
         {
          "achievements": 0,
          "developer": "Arkane Studios",
          "index": 19714,
          "mature": false,
          "multiplayer": false,
          "name": "Dishonored - Void Walker Arsenal",
          "num_reviews": 87,
          "original_price": 19.99,
          "percent_positive": 0.78,
          "release_date": "May 14, 2013"
         },
         {
          "achievements": 0,
          "developer": "Excalibur",
          "index": 20476,
          "mature": false,
          "multiplayer": false,
          "name": "Taxi",
          "num_reviews": 201,
          "original_price": 4.99,
          "percent_positive": 0.52,
          "release_date": "Aug 22, 2014"
         },
         {
          "achievements": 0,
          "developer": "bitComposer Games",
          "index": 20635,
          "mature": false,
          "multiplayer": false,
          "name": "Alter Ego",
          "num_reviews": 108,
          "original_price": 9.99,
          "percent_positive": 0.68,
          "release_date": "Aug 3, 2010"
         },
         {
          "achievements": 0,
          "developer": "Boogygames Studios",
          "index": 20724,
          "mature": false,
          "multiplayer": false,
          "name": "Jigsaw Puzzles",
          "num_reviews": 0,
          "original_price": 10.94,
          "percent_positive": 0,
          "release_date": "NULL"
         },
         {
          "achievements": 17,
          "developer": "ChaoYe Liu",
          "index": 20767,
          "mature": false,
          "multiplayer": false,
          "name": "Ramen",
          "num_reviews": 23,
          "original_price": 7.99,
          "percent_positive": 0.6,
          "release_date": "Mar 30, 2018"
         },
         {
          "achievements": 0,
          "developer": "Galhmac Game Studio",
          "index": 20950,
          "mature": false,
          "multiplayer": false,
          "name": "Exodus",
          "num_reviews": 24,
          "original_price": 0.99,
          "percent_positive": 0.5,
          "release_date": "Jun 1, 2013"
         },
         {
          "achievements": 16,
          "developer": "SHIXIXI",
          "index": 21018,
          "mature": false,
          "multiplayer": false,
          "name": "Bounty Hunter",
          "num_reviews": 0,
          "original_price": 5.99,
          "percent_positive": 0,
          "release_date": "Jan 21, 2019"
         },
         {
          "achievements": 1,
          "developer": "Ian,Megan,Maxen",
          "index": 21061,
          "mature": false,
          "multiplayer": false,
          "name": "The Mine",
          "num_reviews": 88,
          "original_price": 0,
          "percent_positive": 0.65,
          "release_date": "Aug 8, 2018"
         },
         {
          "achievements": 0,
          "developer": "Jaison Robson Gusava",
          "index": 21064,
          "mature": false,
          "multiplayer": true,
          "name": "SC Jogos Collection",
          "num_reviews": 0,
          "original_price": 11.92,
          "percent_positive": 0,
          "release_date": "NULL"
         },
         {
          "achievements": 0,
          "developer": "Stephane Bottin",
          "index": 21277,
          "mature": false,
          "multiplayer": false,
          "name": "Escape",
          "num_reviews": 290,
          "original_price": 0,
          "percent_positive": 0.59,
          "release_date": "Apr 20, 2015"
         },
         {
          "achievements": 0,
          "developer": "Jaison Robson Gusava",
          "index": 21310,
          "mature": false,
          "multiplayer": true,
          "name": "SC Jogos Collection",
          "num_reviews": 0,
          "original_price": 6.93,
          "percent_positive": 0,
          "release_date": "NULL"
         },
         {
          "achievements": 0,
          "developer": "LucasGame,KVRA",
          "index": 21698,
          "mature": false,
          "multiplayer": false,
          "name": "Exodus",
          "num_reviews": 0,
          "original_price": 4.99,
          "percent_positive": 0,
          "release_date": "Aug 20, 2018"
         },
         {
          "achievements": 1,
          "developer": "Kenneth Caselli,Gianmarco Rocco",
          "index": 21850,
          "mature": false,
          "multiplayer": true,
          "name": "Ultimate Arena",
          "num_reviews": 198,
          "original_price": 17.99,
          "percent_positive": 0.54,
          "release_date": "Sep 5, 2016"
         },
         {
          "achievements": 23,
          "developer": "Advent RPG",
          "index": 21910,
          "mature": false,
          "multiplayer": false,
          "name": "Mars 2030",
          "num_reviews": 33,
          "original_price": 4.99,
          "percent_positive": 0.45,
          "release_date": "Mar 11, 2016"
         },
         {
          "achievements": 24,
          "developer": "Whootgames",
          "index": 21939,
          "mature": false,
          "multiplayer": false,
          "name": "Castles",
          "num_reviews": 25,
          "original_price": 2.99,
          "percent_positive": 0.6,
          "release_date": "Oct 9, 2015"
         },
         {
          "achievements": 11,
          "developer": "petraguardsoftware.com",
          "index": 22372,
          "mature": false,
          "multiplayer": false,
          "name": "Taxi",
          "num_reviews": 0,
          "original_price": 1.99,
          "percent_positive": 0,
          "release_date": "Feb 19, 2016"
         },
         {
          "achievements": 0,
          "developer": "Chaos Theory Studios",
          "index": 22873,
          "mature": false,
          "multiplayer": false,
          "name": "Chaos Theory",
          "num_reviews": 11,
          "original_price": 13.99,
          "percent_positive": 0.54,
          "release_date": "Feb 1, 2019"
         },
         {
          "achievements": 0,
          "developer": "nDreams / Near Light",
          "index": 22975,
          "mature": false,
          "multiplayer": false,
          "name": "Perfect",
          "num_reviews": 49,
          "original_price": 9.99,
          "percent_positive": 0.46,
          "release_date": "Dec 16, 2016"
         },
         {
          "achievements": 11,
          "developer": "FurGoldGames",
          "index": 23112,
          "mature": false,
          "multiplayer": false,
          "name": "Ashes",
          "num_reviews": 34,
          "original_price": 0.99,
          "percent_positive": 0.64,
          "release_date": "Jun 28, 2017"
         },
         {
          "achievements": 0,
          "developer": "AppFactoryHaru-Ni",
          "index": 23123,
          "mature": false,
          "multiplayer": false,
          "name": "Escape Room",
          "num_reviews": 0,
          "original_price": 0.99,
          "percent_positive": 0,
          "release_date": "Jun 30, 2017"
         },
         {
          "achievements": 0,
          "developer": "GameTop.com",
          "index": 23262,
          "mature": false,
          "multiplayer": false,
          "name": "Zombie Apocalypse",
          "num_reviews": 46,
          "original_price": 0,
          "percent_positive": 0.6,
          "release_date": "Feb 15, 2017"
         },
         {
          "achievements": 0,
          "developer": "CI Games",
          "index": 23437,
          "mature": false,
          "multiplayer": false,
          "name": "Sniper Ghost Warrior 3 - Season Pass",
          "num_reviews": 22,
          "original_price": 9.99,
          "percent_positive": 0.59,
          "release_date": "Apr 25, 2017"
         },
         {
          "achievements": 0,
          "developer": "Choose Multiple LLC",
          "index": 23461,
          "mature": false,
          "multiplayer": false,
          "name": "Alter Ego",
          "num_reviews": 26,
          "original_price": 7.99,
          "percent_positive": 0.69,
          "release_date": "May 1, 1986"
         },
         {
          "achievements": 33,
          "developer": "Polovey Alexander",
          "index": 23549,
          "mature": false,
          "multiplayer": false,
          "name": "Prisoner",
          "num_reviews": 12,
          "original_price": 2.99,
          "percent_positive": 0.58,
          "release_date": "Jul 17, 2017"
         },
         {
          "achievements": 0,
          "developer": "Jeff Trier",
          "index": 23707,
          "mature": false,
          "multiplayer": false,
          "name": "Super",
          "num_reviews": 26,
          "original_price": 0,
          "percent_positive": 0.61,
          "release_date": "Sep 29, 2017"
         },
         {
          "achievements": 0,
          "developer": "Headroom.one",
          "index": 23856,
          "mature": false,
          "multiplayer": false,
          "name": "The Tower",
          "num_reviews": 0,
          "original_price": 6.99,
          "percent_positive": 0,
          "release_date": "Feb 16, 2018"
         },
         {
          "achievements": 0,
          "developer": "Quicksilver Software",
          "index": 23911,
          "mature": false,
          "multiplayer": false,
          "name": "Castles",
          "num_reviews": 0,
          "original_price": 9.99,
          "percent_positive": 0,
          "release_date": "Jan 2, 1991"
         },
         {
          "achievements": 10,
          "developer": "FMG Labs",
          "index": 24022,
          "mature": false,
          "multiplayer": false,
          "name": "Mars 2030",
          "num_reviews": 44,
          "original_price": 14.99,
          "percent_positive": 0.59,
          "release_date": "Jul 31, 2017"
         },
         {
          "achievements": 0,
          "developer": "baKno Games",
          "index": 24467,
          "mature": false,
          "multiplayer": false,
          "name": "Solitaire",
          "num_reviews": 0,
          "original_price": 4.99,
          "percent_positive": 0,
          "release_date": "Dec 22, 2009"
         },
         {
          "achievements": 8,
          "developer": "Ragdoll Inc",
          "index": 24677,
          "mature": false,
          "multiplayer": false,
          "name": "Escape",
          "num_reviews": 10,
          "original_price": 2.99,
          "percent_positive": 0.4,
          "release_date": "Jan 29, 2018"
         },
         {
          "achievements": 0,
          "developer": "André Bertaglia",
          "index": 25611,
          "mature": false,
          "multiplayer": true,
          "name": "Super",
          "num_reviews": 0,
          "original_price": 15.92,
          "percent_positive": 0,
          "release_date": "NULL"
         },
         {
          "achievements": 0,
          "developer": "Little Freedom Factory",
          "index": 26191,
          "mature": false,
          "multiplayer": false,
          "name": "New York Bus Simulator",
          "num_reviews": 12,
          "original_price": 4.99,
          "percent_positive": 0.25,
          "release_date": "Mar 4, 2016"
         },
         {
          "achievements": 0,
          "developer": "Hipix Studio",
          "index": 26235,
          "mature": false,
          "multiplayer": false,
          "name": "Experience",
          "num_reviews": 46,
          "original_price": 3.99,
          "percent_positive": 0.36,
          "release_date": "Apr 29, 2016"
         },
         {
          "achievements": 10,
          "developer": "Sanuk Games",
          "index": 26558,
          "mature": false,
          "multiplayer": false,
          "name": "Solitaire",
          "num_reviews": 21,
          "original_price": 9.99,
          "percent_positive": 0.38,
          "release_date": "Feb 20, 2017"
         },
         {
          "achievements": 0,
          "developer": "OneTechAsia",
          "index": 26753,
          "mature": false,
          "multiplayer": false,
          "name": "Escape Room",
          "num_reviews": 23,
          "original_price": 0,
          "percent_positive": 0.21,
          "release_date": "Dec 11, 2017"
         },
         {
          "achievements": 0,
          "developer": "Llama Software",
          "index": 26796,
          "mature": false,
          "multiplayer": true,
          "name": "Hide and Seek",
          "num_reviews": 295,
          "original_price": 0,
          "percent_positive": 0.33,
          "release_date": "Aug 31, 2017"
         },
         {
          "achievements": 291,
          "developer": "Mikhail Melnikov",
          "index": 27092,
          "mature": false,
          "multiplayer": false,
          "name": "Squares",
          "num_reviews": 0,
          "original_price": 0.99,
          "percent_positive": 0,
          "release_date": "Jan 31, 2018"
         },
         {
          "achievements": 0,
          "developer": "BoomBox",
          "index": 28271,
          "mature": false,
          "multiplayer": false,
          "name": "City Builder",
          "num_reviews": 0,
          "original_price": 9.99,
          "percent_positive": 0,
          "release_date": "Dec 19, 2017"
         },
         {
          "achievements": 0,
          "developer": "Advanced Gaming",
          "index": 28655,
          "mature": false,
          "multiplayer": false,
          "name": "Squares",
          "num_reviews": 0,
          "original_price": 4.99,
          "percent_positive": 0,
          "release_date": "May 25, 2018"
         },
         {
          "achievements": 0,
          "developer": "Narrow Monolith",
          "index": 28723,
          "mature": true,
          "multiplayer": false,
          "name": "The Tower",
          "num_reviews": 61,
          "original_price": 2.99,
          "percent_positive": 0.16,
          "release_date": "Aug 15, 2015"
         },
         {
          "achievements": 19,
          "developer": "HOH5HC",
          "index": 29608,
          "mature": false,
          "multiplayer": false,
          "name": "Space Maze",
          "num_reviews": 0,
          "original_price": 4.99,
          "percent_positive": 0,
          "release_date": "Jun 12, 2018"
         },
         {
          "achievements": 0,
          "developer": "Signal Space Lab",
          "index": 30066,
          "mature": false,
          "multiplayer": false,
          "name": "Afterlife",
          "num_reviews": 0,
          "original_price": 0,
          "percent_positive": 0,
          "release_date": "Jul 2019"
         },
         {
          "achievements": 0,
          "developer": "Liu baixue",
          "index": 30554,
          "mature": false,
          "multiplayer": false,
          "name": "Experience",
          "num_reviews": 0,
          "original_price": 16.99,
          "percent_positive": 0,
          "release_date": "Feb 1, 2019"
         },
         {
          "achievements": 0,
          "developer": "MatchBox Studio",
          "index": 30883,
          "mature": false,
          "multiplayer": false,
          "name": "Surge",
          "num_reviews": 0,
          "original_price": 1.99,
          "percent_positive": 0,
          "release_date": "Aug 24, 2018"
         },
         {
          "achievements": 0,
          "developer": "Avalon Studio",
          "index": 30914,
          "mature": true,
          "multiplayer": false,
          "name": "Bounty Hunter",
          "num_reviews": 0,
          "original_price": 5.99,
          "percent_positive": 0,
          "release_date": "May 4, 2019"
         },
         {
          "achievements": 0,
          "developer": "WEIPUYU",
          "index": 31280,
          "mature": false,
          "multiplayer": false,
          "name": "Perfect",
          "num_reviews": 0,
          "original_price": 0,
          "percent_positive": 0,
          "release_date": "Jun 25, 2019"
         },
         {
          "achievements": 0,
          "developer": "Loxodonta",
          "index": 31305,
          "mature": false,
          "multiplayer": false,
          "name": "Ramen",
          "num_reviews": 0,
          "original_price": 3.99,
          "percent_positive": 0,
          "release_date": "Apr 24, 2019"
         },
         {
          "achievements": 0,
          "developer": null,
          "index": 31780,
          "mature": false,
          "multiplayer": false,
          "name": "Flashback",
          "num_reviews": 352,
          "original_price": 9.99,
          "percent_positive": 0.6,
          "release_date": "Oct 1, 2013"
         },
         {
          "achievements": 0,
          "developer": "Nightmaker",
          "index": 33027,
          "mature": false,
          "multiplayer": false,
          "name": "Nightmare",
          "num_reviews": 0,
          "original_price": 4.99,
          "percent_positive": 0,
          "release_date": "Aug 18, 2016"
         },
         {
          "achievements": 8,
          "developer": "High Five Studios LLC",
          "index": 33180,
          "mature": false,
          "multiplayer": false,
          "name": "Prisoner",
          "num_reviews": 0,
          "original_price": 0,
          "percent_positive": 0,
          "release_date": "Mar 15, 2018"
         },
         {
          "achievements": 0,
          "developer": "Vault Interactive",
          "index": 34115,
          "mature": false,
          "multiplayer": false,
          "name": "Nightmare",
          "num_reviews": 0,
          "original_price": 0,
          "percent_positive": 0,
          "release_date": "2019"
         },
         {
          "achievements": 0,
          "developer": "Behron Georgantas",
          "index": 34140,
          "mature": true,
          "multiplayer": true,
          "name": "Exodus",
          "num_reviews": 0,
          "original_price": 0,
          "percent_positive": 0,
          "release_date": "Nov 2018"
         },
         {
          "achievements": 19,
          "developer": "Lushboy Studios",
          "index": 34584,
          "mature": false,
          "multiplayer": false,
          "name": "Luna",
          "num_reviews": 0,
          "original_price": 0.99,
          "percent_positive": 0,
          "release_date": "Aug 15, 2017"
         },
         {
          "achievements": 0,
          "developer": "Kunpo Games",
          "index": 34637,
          "mature": false,
          "multiplayer": false,
          "name": "Exception",
          "num_reviews": 0,
          "original_price": 0,
          "percent_positive": 0,
          "release_date": "Comming Soon"
         },
         {
          "achievements": 0,
          "developer": "Mindtrick",
          "index": 34851,
          "mature": false,
          "multiplayer": true,
          "name": "Wrecking Towers",
          "num_reviews": 0,
          "original_price": 0,
          "percent_positive": 0,
          "release_date": "Sep 5, 2017"
         },
         {
          "achievements": 0,
          "developer": "Uprising Studios",
          "index": 35290,
          "mature": false,
          "multiplayer": false,
          "name": "SCARF",
          "num_reviews": 0,
          "original_price": 0,
          "percent_positive": 0,
          "release_date": "2019"
         },
         {
          "achievements": 0,
          "developer": "Traxmaster Software",
          "index": 35456,
          "mature": false,
          "multiplayer": false,
          "name": "Exception",
          "num_reviews": 0,
          "original_price": 0,
          "percent_positive": 0,
          "release_date": "Jul 16, 2019"
         },
         {
          "achievements": 0,
          "developer": "JimJams Games",
          "index": 36774,
          "mature": false,
          "multiplayer": false,
          "name": "Solstice",
          "num_reviews": 0,
          "original_price": 0,
          "percent_positive": 0,
          "release_date": "May 2019"
         },
         {
          "achievements": 0,
          "developer": "Dodo Digital",
          "index": 36919,
          "mature": true,
          "multiplayer": false,
          "name": "The Deer",
          "num_reviews": 0,
          "original_price": 0,
          "percent_positive": 0,
          "release_date": "Fall 2019"
         },
         {
          "achievements": 0,
          "developer": "Arkane Studios",
          "index": 37005,
          "mature": false,
          "multiplayer": false,
          "name": "Dishonored - Void Walker Arsenal",
          "num_reviews": 0,
          "original_price": 79.99,
          "percent_positive": 0,
          "release_date": "NULL"
         },
         {
          "achievements": 0,
          "developer": "Isaac James",
          "index": 37052,
          "mature": false,
          "multiplayer": false,
          "name": "SCARF",
          "num_reviews": 0,
          "original_price": 4.99,
          "percent_positive": 0,
          "release_date": "Sep 14, 2018"
         },
         {
          "achievements": 0,
          "developer": "Thinking Bottle Games",
          "index": 37645,
          "mature": false,
          "multiplayer": true,
          "name": "Spark",
          "num_reviews": 0,
          "original_price": 0,
          "percent_positive": 0,
          "release_date": "When it's done"
         },
         {
          "achievements": 20,
          "developer": "Painful Smile",
          "index": 38039,
          "mature": false,
          "multiplayer": true,
          "name": "Wrecking Towers",
          "num_reviews": 0,
          "original_price": 3.99,
          "percent_positive": 0,
          "release_date": "May 18, 2018"
         }
        ],
        "schema": {
         "fields": [
          {
           "name": "index",
           "type": "integer"
          },
          {
           "name": "name",
           "type": "string"
          },
          {
           "name": "release_date",
           "type": "string"
          },
          {
           "name": "developer",
           "type": "string"
          },
          {
           "name": "achievements",
           "type": "number"
          },
          {
           "name": "original_price",
           "type": "number"
          },
          {
           "name": "percent_positive",
           "type": "number"
          },
          {
           "name": "num_reviews",
           "type": "number"
          },
          {
           "name": "multiplayer",
           "type": "boolean"
          },
          {
           "name": "mature",
           "type": "boolean"
          }
         ],
         "pandas_version": "0.20.0",
         "primaryKey": [
          "index"
         ]
        }
       },
       "total_rows": 101
      },
      "text/html": [
       "<div>\n",
       "<style scoped>\n",
       "    .dataframe tbody tr th:only-of-type {\n",
       "        vertical-align: middle;\n",
       "    }\n",
       "\n",
       "    .dataframe tbody tr th {\n",
       "        vertical-align: top;\n",
       "    }\n",
       "\n",
       "    .dataframe thead th {\n",
       "        text-align: right;\n",
       "    }\n",
       "</style>\n",
       "<table border=\"1\" class=\"dataframe\">\n",
       "  <thead>\n",
       "    <tr style=\"text-align: right;\">\n",
       "      <th></th>\n",
       "      <th>name</th>\n",
       "      <th>release_date</th>\n",
       "      <th>developer</th>\n",
       "      <th>achievements</th>\n",
       "      <th>original_price</th>\n",
       "      <th>percent_positive</th>\n",
       "      <th>num_reviews</th>\n",
       "      <th>multiplayer</th>\n",
       "      <th>mature</th>\n",
       "    </tr>\n",
       "  </thead>\n",
       "  <tbody>\n",
       "    <tr>\n",
       "      <th>568</th>\n",
       "      <td>RUSH</td>\n",
       "      <td>Jul 13, 2018</td>\n",
       "      <td>The Binary Mill</td>\n",
       "      <td>16.0</td>\n",
       "      <td>19.99</td>\n",
       "      <td>0.85</td>\n",
       "      <td>69.0</td>\n",
       "      <td>True</td>\n",
       "      <td>False</td>\n",
       "    </tr>\n",
       "    <tr>\n",
       "      <th>1463</th>\n",
       "      <td>Batman: Arkham City - Game of the Year Edition</td>\n",
       "      <td>Sep 7, 2012</td>\n",
       "      <td>Rocksteady Studios,Feral Interactive (Mac)</td>\n",
       "      <td>64.0</td>\n",
       "      <td>19.99</td>\n",
       "      <td>0.94</td>\n",
       "      <td>17335.0</td>\n",
       "      <td>False</td>\n",
       "      <td>False</td>\n",
       "    </tr>\n",
       "    <tr>\n",
       "      <th>1833</th>\n",
       "      <td>Angels of Death</td>\n",
       "      <td>Dec 19, 2016</td>\n",
       "      <td>Vaka Game Magazine,Makoto Sanada</td>\n",
       "      <td>0.0</td>\n",
       "      <td>45.96</td>\n",
       "      <td>0.94</td>\n",
       "      <td>1949.0</td>\n",
       "      <td>False</td>\n",
       "      <td>False</td>\n",
       "    </tr>\n",
       "    <tr>\n",
       "      <th>4220</th>\n",
       "      <td>Luna</td>\n",
       "      <td>Oct 17, 2017</td>\n",
       "      <td>Funomena</td>\n",
       "      <td>0.0</td>\n",
       "      <td>14.99</td>\n",
       "      <td>0.87</td>\n",
       "      <td>32.0</td>\n",
       "      <td>False</td>\n",
       "      <td>False</td>\n",
       "    </tr>\n",
       "    <tr>\n",
       "      <th>4559</th>\n",
       "      <td>Flashback</td>\n",
       "      <td>Nov 29, 2018</td>\n",
       "      <td>Paul Cuisset</td>\n",
       "      <td>12.0</td>\n",
       "      <td>9.99</td>\n",
       "      <td>0.94</td>\n",
       "      <td>35.0</td>\n",
       "      <td>False</td>\n",
       "      <td>False</td>\n",
       "    </tr>\n",
       "    <tr>\n",
       "      <th>...</th>\n",
       "      <td>...</td>\n",
       "      <td>...</td>\n",
       "      <td>...</td>\n",
       "      <td>...</td>\n",
       "      <td>...</td>\n",
       "      <td>...</td>\n",
       "      <td>...</td>\n",
       "      <td>...</td>\n",
       "      <td>...</td>\n",
       "    </tr>\n",
       "    <tr>\n",
       "      <th>36919</th>\n",
       "      <td>The Deer</td>\n",
       "      <td>Fall 2019</td>\n",
       "      <td>Dodo Digital</td>\n",
       "      <td>0.0</td>\n",
       "      <td>0.00</td>\n",
       "      <td>0.00</td>\n",
       "      <td>0.0</td>\n",
       "      <td>False</td>\n",
       "      <td>True</td>\n",
       "    </tr>\n",
       "    <tr>\n",
       "      <th>37005</th>\n",
       "      <td>Dishonored - Void Walker Arsenal</td>\n",
       "      <td>NULL</td>\n",
       "      <td>Arkane Studios</td>\n",
       "      <td>0.0</td>\n",
       "      <td>79.99</td>\n",
       "      <td>0.00</td>\n",
       "      <td>0.0</td>\n",
       "      <td>False</td>\n",
       "      <td>False</td>\n",
       "    </tr>\n",
       "    <tr>\n",
       "      <th>37052</th>\n",
       "      <td>SCARF</td>\n",
       "      <td>Sep 14, 2018</td>\n",
       "      <td>Isaac James</td>\n",
       "      <td>0.0</td>\n",
       "      <td>4.99</td>\n",
       "      <td>0.00</td>\n",
       "      <td>0.0</td>\n",
       "      <td>False</td>\n",
       "      <td>False</td>\n",
       "    </tr>\n",
       "    <tr>\n",
       "      <th>37645</th>\n",
       "      <td>Spark</td>\n",
       "      <td>When it's done</td>\n",
       "      <td>Thinking Bottle Games</td>\n",
       "      <td>0.0</td>\n",
       "      <td>0.00</td>\n",
       "      <td>0.00</td>\n",
       "      <td>0.0</td>\n",
       "      <td>True</td>\n",
       "      <td>False</td>\n",
       "    </tr>\n",
       "    <tr>\n",
       "      <th>38039</th>\n",
       "      <td>Wrecking Towers</td>\n",
       "      <td>May 18, 2018</td>\n",
       "      <td>Painful Smile</td>\n",
       "      <td>20.0</td>\n",
       "      <td>3.99</td>\n",
       "      <td>0.00</td>\n",
       "      <td>0.0</td>\n",
       "      <td>True</td>\n",
       "      <td>False</td>\n",
       "    </tr>\n",
       "  </tbody>\n",
       "</table>\n",
       "<p>101 rows × 9 columns</p>\n",
       "</div>"
      ],
      "text/plain": [
       "                                                 name    release_date  \\\n",
       "568                                              RUSH    Jul 13, 2018   \n",
       "1463   Batman: Arkham City - Game of the Year Edition     Sep 7, 2012   \n",
       "1833                                  Angels of Death    Dec 19, 2016   \n",
       "4220                                             Luna    Oct 17, 2017   \n",
       "4559                                        Flashback    Nov 29, 2018   \n",
       "...                                               ...             ...   \n",
       "36919                                        The Deer       Fall 2019   \n",
       "37005                Dishonored - Void Walker Arsenal            NULL   \n",
       "37052                                           SCARF    Sep 14, 2018   \n",
       "37645                                           Spark  When it's done   \n",
       "38039                                 Wrecking Towers    May 18, 2018   \n",
       "\n",
       "                                        developer  achievements  \\\n",
       "568                               The Binary Mill          16.0   \n",
       "1463   Rocksteady Studios,Feral Interactive (Mac)          64.0   \n",
       "1833             Vaka Game Magazine,Makoto Sanada           0.0   \n",
       "4220                                     Funomena           0.0   \n",
       "4559                                 Paul Cuisset          12.0   \n",
       "...                                           ...           ...   \n",
       "36919                                Dodo Digital           0.0   \n",
       "37005                              Arkane Studios           0.0   \n",
       "37052                                 Isaac James           0.0   \n",
       "37645                       Thinking Bottle Games           0.0   \n",
       "38039                               Painful Smile          20.0   \n",
       "\n",
       "       original_price  percent_positive  num_reviews  multiplayer  mature  \n",
       "568             19.99              0.85         69.0         True   False  \n",
       "1463            19.99              0.94      17335.0        False   False  \n",
       "1833            45.96              0.94       1949.0        False   False  \n",
       "4220            14.99              0.87         32.0        False   False  \n",
       "4559             9.99              0.94         35.0        False   False  \n",
       "...               ...               ...          ...          ...     ...  \n",
       "36919            0.00              0.00          0.0        False    True  \n",
       "37005           79.99              0.00          0.0        False   False  \n",
       "37052            4.99              0.00          0.0        False   False  \n",
       "37645            0.00              0.00          0.0         True   False  \n",
       "38039            3.99              0.00          0.0         True   False  \n",
       "\n",
       "[101 rows x 9 columns]"
      ]
     },
     "execution_count": 23,
     "metadata": {},
     "output_type": "execute_result"
    }
   ],
   "source": [
    "# Find duplicates with the same name\n",
    "games[games.duplicated(subset=['name'], keep=False)]"
   ]
  },
  {
   "cell_type": "markdown",
   "id": "0e9d3c6a-f750-4ac7-8738-86aafb073a37",
   "metadata": {},
   "source": [
    "These duplicates may have come from bundle deals, meaning one price will be inflated when combined with other games. The lower prices will be kept by slicing out the higher prices from the dataset."
   ]
  },
  {
   "cell_type": "code",
   "execution_count": 24,
   "id": "f85703ad-9415-4bbd-8f13-4fbd2a50450c",
   "metadata": {},
   "outputs": [],
   "source": [
    "# Subset the duplicate games\n",
    "duplicated_games =  games[games.duplicated(subset=['name'], keep=False)]\n",
    "\n",
    "# Sort the subset by ascending price\n",
    "duplicated_games = duplicated_games.sort_values(by='original_price')\n",
    "\n",
    "# Get the values of the higher prices\n",
    "duplicated_games = duplicated_games.drop_duplicates(subset=['name'], keep='last')\n",
    "\n",
    "# Use index to remove from main dataset\n",
    "index_drop = [duplicated_games.index]\n",
    "\n",
    "# Loop through index list and drop values \n",
    "for i in index_drop:\n",
    "\tgames.drop(games.index[i], inplace=True)\n",
    "    \n",
    "# Reset index inplace\n",
    "games.reset_index(drop=True, inplace=True)"
   ]
  },
  {
   "cell_type": "markdown",
   "id": "c9fd991e-f88d-4b72-842a-b049d8e55d23",
   "metadata": {},
   "source": [
    "### EDA - Exploratory Data Analysis"
   ]
  },
  {
   "cell_type": "code",
   "execution_count": 25,
   "id": "78f95cca-8f2b-490f-8946-e67c3ac72f0e",
   "metadata": {},
   "outputs": [
    {
     "data": {
      "application/com.datacamp.data-table.v1+json": {
       "is_truncated": false,
       "table": {
        "data": [
         {
          "achievements": 38038,
          "index": "count",
          "num_reviews": 38038,
          "original_price": 38038,
          "percent_positive": 38038
         },
         {
          "achievements": 24.6465902519,
          "index": "mean",
          "num_reviews": 590.1885745833,
          "original_price": 49.4698030916,
          "percent_positive": 0.3375774226
         },
         {
          "achievements": 256.4737512508,
          "index": "std",
          "num_reviews": 7825.7902838465,
          "original_price": 5016.097513416,
          "percent_positive": 0.3922041952
         },
         {
          "achievements": 0,
          "index": "min",
          "num_reviews": 0,
          "original_price": 0,
          "percent_positive": 0
         },
         {
          "achievements": 0,
          "index": "25%",
          "num_reviews": 0,
          "original_price": 1.99,
          "percent_positive": 0
         },
         {
          "achievements": 0,
          "index": "50%",
          "num_reviews": 0,
          "original_price": 4.99,
          "percent_positive": 0
         },
         {
          "achievements": 10.75,
          "index": "75%",
          "num_reviews": 49,
          "original_price": 9.99,
          "percent_positive": 0.76
         },
         {
          "achievements": 9821,
          "index": "max",
          "num_reviews": 836608,
          "original_price": 730640,
          "percent_positive": 1
         }
        ],
        "schema": {
         "fields": [
          {
           "name": "index",
           "type": "string"
          },
          {
           "name": "achievements",
           "type": "number"
          },
          {
           "name": "original_price",
           "type": "number"
          },
          {
           "name": "percent_positive",
           "type": "number"
          },
          {
           "name": "num_reviews",
           "type": "number"
          }
         ],
         "pandas_version": "0.20.0",
         "primaryKey": [
          "index"
         ]
        }
       },
       "total_rows": 8
      },
      "text/html": [
       "<div>\n",
       "<style scoped>\n",
       "    .dataframe tbody tr th:only-of-type {\n",
       "        vertical-align: middle;\n",
       "    }\n",
       "\n",
       "    .dataframe tbody tr th {\n",
       "        vertical-align: top;\n",
       "    }\n",
       "\n",
       "    .dataframe thead th {\n",
       "        text-align: right;\n",
       "    }\n",
       "</style>\n",
       "<table border=\"1\" class=\"dataframe\">\n",
       "  <thead>\n",
       "    <tr style=\"text-align: right;\">\n",
       "      <th></th>\n",
       "      <th>achievements</th>\n",
       "      <th>original_price</th>\n",
       "      <th>percent_positive</th>\n",
       "      <th>num_reviews</th>\n",
       "    </tr>\n",
       "  </thead>\n",
       "  <tbody>\n",
       "    <tr>\n",
       "      <th>count</th>\n",
       "      <td>38038.000000</td>\n",
       "      <td>38038.000000</td>\n",
       "      <td>38038.000000</td>\n",
       "      <td>38038.000000</td>\n",
       "    </tr>\n",
       "    <tr>\n",
       "      <th>mean</th>\n",
       "      <td>24.646590</td>\n",
       "      <td>49.469803</td>\n",
       "      <td>0.337577</td>\n",
       "      <td>590.188575</td>\n",
       "    </tr>\n",
       "    <tr>\n",
       "      <th>std</th>\n",
       "      <td>256.473751</td>\n",
       "      <td>5016.097513</td>\n",
       "      <td>0.392204</td>\n",
       "      <td>7825.790284</td>\n",
       "    </tr>\n",
       "    <tr>\n",
       "      <th>min</th>\n",
       "      <td>0.000000</td>\n",
       "      <td>0.000000</td>\n",
       "      <td>0.000000</td>\n",
       "      <td>0.000000</td>\n",
       "    </tr>\n",
       "    <tr>\n",
       "      <th>25%</th>\n",
       "      <td>0.000000</td>\n",
       "      <td>1.990000</td>\n",
       "      <td>0.000000</td>\n",
       "      <td>0.000000</td>\n",
       "    </tr>\n",
       "    <tr>\n",
       "      <th>50%</th>\n",
       "      <td>0.000000</td>\n",
       "      <td>4.990000</td>\n",
       "      <td>0.000000</td>\n",
       "      <td>0.000000</td>\n",
       "    </tr>\n",
       "    <tr>\n",
       "      <th>75%</th>\n",
       "      <td>10.750000</td>\n",
       "      <td>9.990000</td>\n",
       "      <td>0.760000</td>\n",
       "      <td>49.000000</td>\n",
       "    </tr>\n",
       "    <tr>\n",
       "      <th>max</th>\n",
       "      <td>9821.000000</td>\n",
       "      <td>730640.000000</td>\n",
       "      <td>1.000000</td>\n",
       "      <td>836608.000000</td>\n",
       "    </tr>\n",
       "  </tbody>\n",
       "</table>\n",
       "</div>"
      ],
      "text/plain": [
       "       achievements  original_price  percent_positive    num_reviews\n",
       "count  38038.000000    38038.000000      38038.000000   38038.000000\n",
       "mean      24.646590       49.469803          0.337577     590.188575\n",
       "std      256.473751     5016.097513          0.392204    7825.790284\n",
       "min        0.000000        0.000000          0.000000       0.000000\n",
       "25%        0.000000        1.990000          0.000000       0.000000\n",
       "50%        0.000000        4.990000          0.000000       0.000000\n",
       "75%       10.750000        9.990000          0.760000      49.000000\n",
       "max     9821.000000   730640.000000          1.000000  836608.000000"
      ]
     },
     "execution_count": 25,
     "metadata": {},
     "output_type": "execute_result"
    }
   ],
   "source": [
    "games.describe()"
   ]
  },
  {
   "cell_type": "markdown",
   "id": "e1eca95e-e1ad-4fd3-899e-38c75ecaacc9",
   "metadata": {},
   "source": [
    "There many games in the dataset that have no reviews, and therefor no percentage of positive reviews. As we want to provide our model with the best quality of data, removing these games without any reviews is the best option. This avoids the 'Junk In, Junk Out' scenario."
   ]
  },
  {
   "cell_type": "code",
   "execution_count": 26,
   "id": "d1aeaa0f-986b-428a-8f43-5fbc0efeff53",
   "metadata": {},
   "outputs": [],
   "source": [
    "games = games.drop(games[games['num_reviews'] == 0].index)"
   ]
  },
  {
   "cell_type": "markdown",
   "id": "c8d6293e-2d64-4337-a89e-7cd69ab441f8",
   "metadata": {},
   "source": [
    "The data can now be explored. Start by importing typical visualisation tools and looking at the shape of the 'original_price'"
   ]
  },
  {
   "cell_type": "code",
   "execution_count": 27,
   "id": "1ba22e25-d413-4183-ac9e-456c3c2debe7",
   "metadata": {},
   "outputs": [],
   "source": [
    "# Standard graph visualisation libraries\n",
    "import matplotlib.pyplot as plt\n",
    "%matplotlib inline\n",
    "import seaborn as sns\n",
    "\n",
    "# Set seaborn theme\n",
    "sns.set_theme(style=\"darkgrid\")"
   ]
  },
  {
   "cell_type": "code",
   "execution_count": 28,
   "id": "bb0a6c12-9d06-400d-9d90-bccfd4ec48fd",
   "metadata": {},
   "outputs": [
    {
     "data": {
      "text/plain": [
       "Text(0.5, 0, 'original_price')"
      ]
     },
     "execution_count": 28,
     "metadata": {},
     "output_type": "execute_result"
    },
    {
     "data": {
      "image/png": "[encoded data removed]",
      "text/plain": [
       "<Figure size 432x288 with 1 Axes>"
      ]
     },
     "metadata": {},
     "output_type": "display_data"
    }
   ],
   "source": [
    "plt.hist(games['original_price'])\n",
    "plt.title(\"Histogram of 'original price'\")\n",
    "plt.ylabel('Count')\n",
    "plt.xlabel('original_price')"
   ]
  },
  {
   "cell_type": "markdown",
   "id": "cdf5ec04-f070-4c81-b781-c568f99011fe",
   "metadata": {},
   "source": [
    "There's atleast one value of around $700,000 which seems absurd for a video game."
   ]
  },
  {
   "cell_type": "code",
   "execution_count": 29,
   "id": "f70ac15f-c934-48b1-9080-ea6d6fdd58e9",
   "metadata": {},
   "outputs": [
    {
     "data": {
      "application/com.datacamp.data-table.v1+json": {
       "is_truncated": false,
       "table": {
        "data": [
         {
          "achievements": 85,
          "developer": "Fabraz",
          "index": 17122,
          "mature": false,
          "multiplayer": true,
          "name": "Slime-san: Superslime Edition",
          "num_reviews": 27,
          "original_price": 650560,
          "percent_positive": 0.92,
          "release_date": "Apr 7, 2017"
         }
        ],
        "schema": {
         "fields": [
          {
           "name": "index",
           "type": "integer"
          },
          {
           "name": "name",
           "type": "string"
          },
          {
           "name": "release_date",
           "type": "string"
          },
          {
           "name": "developer",
           "type": "string"
          },
          {
           "name": "achievements",
           "type": "number"
          },
          {
           "name": "original_price",
           "type": "number"
          },
          {
           "name": "percent_positive",
           "type": "number"
          },
          {
           "name": "num_reviews",
           "type": "number"
          },
          {
           "name": "multiplayer",
           "type": "boolean"
          },
          {
           "name": "mature",
           "type": "boolean"
          }
         ],
         "pandas_version": "0.20.0",
         "primaryKey": [
          "index"
         ]
        }
       },
       "total_rows": 1
      },
      "text/html": [
       "<div>\n",
       "<style scoped>\n",
       "    .dataframe tbody tr th:only-of-type {\n",
       "        vertical-align: middle;\n",
       "    }\n",
       "\n",
       "    .dataframe tbody tr th {\n",
       "        vertical-align: top;\n",
       "    }\n",
       "\n",
       "    .dataframe thead th {\n",
       "        text-align: right;\n",
       "    }\n",
       "</style>\n",
       "<table border=\"1\" class=\"dataframe\">\n",
       "  <thead>\n",
       "    <tr style=\"text-align: right;\">\n",
       "      <th></th>\n",
       "      <th>name</th>\n",
       "      <th>release_date</th>\n",
       "      <th>developer</th>\n",
       "      <th>achievements</th>\n",
       "      <th>original_price</th>\n",
       "      <th>percent_positive</th>\n",
       "      <th>num_reviews</th>\n",
       "      <th>multiplayer</th>\n",
       "      <th>mature</th>\n",
       "    </tr>\n",
       "  </thead>\n",
       "  <tbody>\n",
       "    <tr>\n",
       "      <th>17122</th>\n",
       "      <td>Slime-san: Superslime Edition</td>\n",
       "      <td>Apr 7, 2017</td>\n",
       "      <td>Fabraz</td>\n",
       "      <td>85.0</td>\n",
       "      <td>650560.0</td>\n",
       "      <td>0.92</td>\n",
       "      <td>27.0</td>\n",
       "      <td>True</td>\n",
       "      <td>False</td>\n",
       "    </tr>\n",
       "  </tbody>\n",
       "</table>\n",
       "</div>"
      ],
      "text/plain": [
       "                                name release_date developer  achievements  \\\n",
       "17122  Slime-san: Superslime Edition  Apr 7, 2017    Fabraz          85.0   \n",
       "\n",
       "       original_price  percent_positive  num_reviews  multiplayer  mature  \n",
       "17122        650560.0              0.92         27.0         True   False  "
      ]
     },
     "execution_count": 29,
     "metadata": {},
     "output_type": "execute_result"
    }
   ],
   "source": [
    "# Find games over 50000\n",
    "games[games['original_price'] > 50000]"
   ]
  },
  {
   "cell_type": "markdown",
   "id": "ebb6e1dc-0121-4cb8-85c4-f658fc713131",
   "metadata": {},
   "source": [
    "The prices for 'Slime-san: Superslime Edition' and 'Railgunners' would appear to represent a currency other than dollars, perhaps tokens or a virtual currency not included in the datasat. Without more information we can be comfortable dropping these two extreme values."
   ]
  },
  {
   "cell_type": "code",
   "execution_count": 30,
   "id": "8ca26e52-8180-4da3-a1aa-d296f4637a6a",
   "metadata": {},
   "outputs": [],
   "source": [
    "# Drop games with 'original price' over 50000\n",
    "games = games.drop(games[games['original_price'] > 50000].index)"
   ]
  },
  {
   "cell_type": "code",
   "execution_count": 31,
   "id": "037d33ee-c2d4-4439-a1bf-b12cff0009c4",
   "metadata": {},
   "outputs": [
    {
     "data": {
      "text/plain": [
       "Text(0.5, 0, 'original_price')"
      ]
     },
     "execution_count": 31,
     "metadata": {},
     "output_type": "execute_result"
    },
    {
     "data": {
      "image/png": "[encoded data removed]",
      "text/plain": [
       "<Figure size 432x288 with 1 Axes>"
      ]
     },
     "metadata": {},
     "output_type": "display_data"
    }
   ],
   "source": [
    "ax = plt.hist(games['original_price'])\n",
    "plt.title(\"Histogram of 'original price', inflated prices removed\")\n",
    "plt.ylabel('Count')\n",
    "plt.xlabel('original_price')"
   ]
  },
  {
   "cell_type": "markdown",
   "id": "bc6970d2-c82b-406a-9535-0fcdfc9f9571",
   "metadata": {},
   "source": [
    "$600 for a game still seems absurd. Let's have a look"
   ]
  },
  {
   "cell_type": "code",
   "execution_count": 32,
   "id": "5ae38fb3-efd2-4076-a3a6-58e7cb47e043",
   "metadata": {},
   "outputs": [
    {
     "data": {
      "application/com.datacamp.data-table.v1+json": {
       "is_truncated": false,
       "table": {
        "data": [
         {
          "achievements": 0,
          "developer": "MAGIX Software GmbH",
          "index": 974,
          "mature": false,
          "multiplayer": true,
          "name": "VEGAS Pro 16 Edit Steam Edition",
          "num_reviews": 18,
          "original_price": 399,
          "percent_positive": 0.55,
          "release_date": "Sep 3, 2018"
         },
         {
          "achievements": 0,
          "developer": "MAGIX Software GmbH",
          "index": 1314,
          "mature": false,
          "multiplayer": true,
          "name": "VEGAS Pro 14 Edit Steam Edition",
          "num_reviews": 385,
          "original_price": 598,
          "percent_positive": 0.77,
          "release_date": "Sep 30, 2016"
         },
         {
          "achievements": 72,
          "developer": "Choice of Games",
          "index": 2634,
          "mature": false,
          "multiplayer": false,
          "name": "Choice of Robots",
          "num_reviews": 1669,
          "original_price": 501.87,
          "percent_positive": 0.97,
          "release_date": "Dec 19, 2014"
         },
         {
          "achievements": 18,
          "developer": "Choice of Games",
          "index": 2925,
          "mature": false,
          "multiplayer": false,
          "name": "Choice of the Pirate",
          "num_reviews": 83,
          "original_price": 501.87,
          "percent_positive": 0.91,
          "release_date": "May 20, 2016"
         },
         {
          "achievements": 38,
          "developer": "Choice of Games",
          "index": 2931,
          "mature": false,
          "multiplayer": false,
          "name": "A Wise Use of Time",
          "num_reviews": 105,
          "original_price": 501.87,
          "percent_positive": 0.81,
          "release_date": "Sep 4, 2015"
         },
         {
          "achievements": 100,
          "developer": "Choice of Games",
          "index": 3033,
          "mature": false,
          "multiplayer": false,
          "name": "Choice of Magics",
          "num_reviews": 80,
          "original_price": 501.87,
          "percent_positive": 0.93,
          "release_date": "Aug 10, 2018"
         },
         {
          "achievements": 87,
          "developer": "Choice of Games",
          "index": 3809,
          "mature": false,
          "multiplayer": false,
          "name": "I, Cyborg",
          "num_reviews": 15,
          "original_price": 501.87,
          "percent_positive": 0.93,
          "release_date": "Jun 28, 2018"
         },
         {
          "achievements": 35,
          "developer": "Winter Wolves",
          "index": 3865,
          "mature": false,
          "multiplayer": false,
          "name": "C14 Dating",
          "num_reviews": 31,
          "original_price": 475.6,
          "percent_positive": 0.87,
          "release_date": "Apr 27, 2016"
         },
         {
          "achievements": 37,
          "developer": "Choice of Games",
          "index": 4133,
          "mature": false,
          "multiplayer": false,
          "name": "Psy High",
          "num_reviews": 125,
          "original_price": 501.87,
          "percent_positive": 0.81,
          "release_date": "Dec 12, 2014"
         },
         {
          "achievements": 30,
          "developer": "Choice of Games",
          "index": 4149,
          "mature": false,
          "multiplayer": false,
          "name": "The Hero of Kendrickstone",
          "num_reviews": 100,
          "original_price": 501.87,
          "percent_positive": 0.8,
          "release_date": "Mar 13, 2015"
         },
         {
          "achievements": 25,
          "developer": "Choice of Games",
          "index": 4627,
          "mature": false,
          "multiplayer": false,
          "name": "Choice of Alexandria",
          "num_reviews": 51,
          "original_price": 501.87,
          "percent_positive": 0.98,
          "release_date": "Jun 10, 2016"
         },
         {
          "achievements": 0,
          "developer": "Choice of Games",
          "index": 4686,
          "mature": false,
          "multiplayer": false,
          "name": "Creatures Such as We",
          "num_reviews": 16,
          "original_price": 501.87,
          "percent_positive": 0.93,
          "release_date": "Dec 12, 2014"
         },
         {
          "achievements": 56,
          "developer": "Choice of Games",
          "index": 4731,
          "mature": false,
          "multiplayer": false,
          "name": "Affairs of the Court: Choice of Romance",
          "num_reviews": 53,
          "original_price": 501.87,
          "percent_positive": 0.77,
          "release_date": "Aug 16, 2013"
         },
         {
          "achievements": 21,
          "developer": "Choice of Games",
          "index": 4763,
          "mature": false,
          "multiplayer": false,
          "name": "Avatar of the Wolf",
          "num_reviews": 17,
          "original_price": 501.87,
          "percent_positive": 1,
          "release_date": "Jun 22, 2017"
         },
         {
          "achievements": 16,
          "developer": "Choice of Games",
          "index": 4793,
          "mature": false,
          "multiplayer": false,
          "name": "The Superlatives: Aetherfall",
          "num_reviews": 20,
          "original_price": 501.87,
          "percent_positive": 0.95,
          "release_date": "Oct 19, 2017"
         },
         {
          "achievements": 37,
          "developer": "Choice of Games",
          "index": 4805,
          "mature": false,
          "multiplayer": false,
          "name": "Heart of the House",
          "num_reviews": 29,
          "original_price": 501.87,
          "percent_positive": 0.96,
          "release_date": "Oct 26, 2017"
         },
         {
          "achievements": 20,
          "developer": "Choice of Games",
          "index": 5321,
          "mature": false,
          "multiplayer": false,
          "name": "Sorcery Is for Saps",
          "num_reviews": 18,
          "original_price": 501.87,
          "percent_positive": 0.83,
          "release_date": "Oct 14, 2016"
         },
         {
          "achievements": 30,
          "developer": "Choice of Games",
          "index": 5334,
          "mature": false,
          "multiplayer": false,
          "name": "Cannonfire Concerto",
          "num_reviews": 19,
          "original_price": 501.87,
          "percent_positive": 0.84,
          "release_date": "Dec 8, 2016"
         },
         {
          "achievements": 23,
          "developer": "Choice of Games",
          "index": 5563,
          "mature": false,
          "multiplayer": false,
          "name": "Diabolical",
          "num_reviews": 115,
          "original_price": 501.87,
          "percent_positive": 0.79,
          "release_date": "Nov 6, 2015"
         },
         {
          "achievements": 23,
          "developer": "Choice of Games",
          "index": 5582,
          "mature": false,
          "multiplayer": false,
          "name": "Empyrean",
          "num_reviews": 12,
          "original_price": 501.87,
          "percent_positive": 0.75,
          "release_date": "Dec 1, 2016"
         },
         {
          "achievements": 27,
          "developer": "Choice of Games",
          "index": 5611,
          "mature": false,
          "multiplayer": false,
          "name": "Saga of the North Wind",
          "num_reviews": 11,
          "original_price": 501.87,
          "percent_positive": 0.72,
          "release_date": "Nov 17, 2016"
         },
         {
          "achievements": 8,
          "developer": "Winter Wolves",
          "index": 5614,
          "mature": false,
          "multiplayer": false,
          "name": "Always Remember Me",
          "num_reviews": 131,
          "original_price": 475.6,
          "percent_positive": 0.55,
          "release_date": "Apr 17, 2011"
         },
         {
          "achievements": 5000,
          "developer": "Ripknot Systems",
          "index": 5679,
          "mature": false,
          "multiplayer": false,
          "name": "Trivia Vault Olympics Trivia",
          "num_reviews": 13,
          "original_price": 514.39,
          "percent_positive": 0.84,
          "release_date": "Feb 28, 2018"
         },
         {
          "achievements": 5000,
          "developer": "Ripknot Systems",
          "index": 5899,
          "mature": false,
          "multiplayer": false,
          "name": "Trivia Vault: Classic Rock Trivia",
          "num_reviews": 34,
          "original_price": 514.39,
          "percent_positive": 0.73,
          "release_date": "Aug 17, 2017"
         },
         {
          "achievements": 5000,
          "developer": "Ripknot Systems",
          "index": 6007,
          "mature": false,
          "multiplayer": false,
          "name": "Trivia Vault: Mini Mixed Trivia",
          "num_reviews": 31,
          "original_price": 514.39,
          "percent_positive": 0.7,
          "release_date": "Sep 15, 2017"
         },
         {
          "achievements": 5000,
          "developer": "Crankies Smartworks",
          "index": 6133,
          "mature": false,
          "multiplayer": false,
          "name": "Crankies Workshop: Bozzbot Assembly",
          "num_reviews": 28,
          "original_price": 624.74,
          "percent_positive": 0.46,
          "release_date": "Sep 13, 2017"
         },
         {
          "achievements": 5000,
          "developer": "Crankies Smartworks",
          "index": 6134,
          "mature": false,
          "multiplayer": false,
          "name": "Crankies Workshop: Grizzbot Assembly",
          "num_reviews": 22,
          "original_price": 624.74,
          "percent_positive": 0.68,
          "release_date": "Sep 12, 2017"
         },
         {
          "achievements": 35,
          "developer": "Choice of Games",
          "index": 6394,
          "mature": false,
          "multiplayer": false,
          "name": "Heroes Rise: HeroFall",
          "num_reviews": 124,
          "original_price": 501.87,
          "percent_positive": 0.92,
          "release_date": "Jul 11, 2014"
         },
         {
          "achievements": 64,
          "developer": "Choice of Games",
          "index": 6649,
          "mature": false,
          "multiplayer": false,
          "name": "Hollywood Visionary",
          "num_reviews": 73,
          "original_price": 501.87,
          "percent_positive": 0.87,
          "release_date": "May 1, 2015"
         },
         {
          "achievements": 32,
          "developer": "Choice of Games",
          "index": 6686,
          "mature": false,
          "multiplayer": false,
          "name": "Choice of the Deathless",
          "num_reviews": 300,
          "original_price": 501.87,
          "percent_positive": 0.93,
          "release_date": "Dec 20, 2013"
         },
         {
          "achievements": 8,
          "developer": "Choice of Games",
          "index": 6724,
          "mature": false,
          "multiplayer": false,
          "name": "Heroes Rise: The Hero Project",
          "num_reviews": 149,
          "original_price": 501.87,
          "percent_positive": 0.82,
          "release_date": "Sep 20, 2013"
         },
         {
          "achievements": 70,
          "developer": "Choice of Games",
          "index": 6743,
          "mature": false,
          "multiplayer": false,
          "name": "SLAMMED!",
          "num_reviews": 92,
          "original_price": 501.87,
          "percent_positive": 0.94,
          "release_date": "Jun 28, 2013"
         },
         {
          "achievements": 17,
          "developer": "Choice of Games",
          "index": 6859,
          "mature": false,
          "multiplayer": false,
          "name": "Heroes Rise: The Prodigy",
          "num_reviews": 337,
          "original_price": 501.87,
          "percent_positive": 0.86,
          "release_date": "Jul 13, 2012"
         },
         {
          "achievements": 29,
          "developer": "Choice of Games",
          "index": 6988,
          "mature": false,
          "multiplayer": false,
          "name": "Mecha Ace",
          "num_reviews": 112,
          "original_price": 501.87,
          "percent_positive": 0.88,
          "release_date": "Jun 13, 2014"
         },
         {
          "achievements": 13,
          "developer": "Winter Wolves",
          "index": 6989,
          "mature": false,
          "multiplayer": false,
          "name": "Nicole",
          "num_reviews": 58,
          "original_price": 475.6,
          "percent_positive": 0.81,
          "release_date": "Oct 17, 2013"
         },
         {
          "achievements": 86,
          "developer": "Choice of Games",
          "index": 7013,
          "mature": false,
          "multiplayer": false,
          "name": "VERSUS: The Lost Ones",
          "num_reviews": 159,
          "original_price": 501.87,
          "percent_positive": 0.82,
          "release_date": "Aug 21, 2015"
         },
         {
          "achievements": 52,
          "developer": "Veslo Games",
          "index": 7065,
          "mature": false,
          "multiplayer": false,
          "name": "Phantom Signal — Sci-Fi Strategy Game",
          "num_reviews": 74,
          "original_price": 453.42,
          "percent_positive": 0.86,
          "release_date": "Jan 16, 2018"
         },
         {
          "achievements": 0,
          "developer": "Puzzle Lab",
          "index": 7119,
          "mature": false,
          "multiplayer": false,
          "name": "Proto Raider",
          "num_reviews": 59,
          "original_price": 453.42,
          "percent_positive": 0.83,
          "release_date": "Aug 28, 2015"
         },
         {
          "achievements": 16,
          "developer": "Winter Wolves",
          "index": 7638,
          "mature": false,
          "multiplayer": false,
          "name": "Roommates",
          "num_reviews": 67,
          "original_price": 475.6,
          "percent_positive": 0.8,
          "release_date": "Feb 12, 2014"
         },
         {
          "achievements": 5000,
          "developer": "Red Dolphin Games",
          "index": 8937,
          "mature": false,
          "multiplayer": false,
          "name": "Digit Daze",
          "num_reviews": 11,
          "original_price": 624.74,
          "percent_positive": 0.9,
          "release_date": "May 10, 2018"
         },
         {
          "achievements": 47,
          "developer": "Choice of Games",
          "index": 9523,
          "mature": false,
          "multiplayer": false,
          "name": "Werewolves: Haven Rising",
          "num_reviews": 33,
          "original_price": 501.87,
          "percent_positive": 0.87,
          "release_date": "Jul 26, 2018"
         },
         {
          "achievements": 5000,
          "developer": "Ripknot Systems",
          "index": 9641,
          "mature": false,
          "multiplayer": false,
          "name": "Trivia Vault: Literature Trivia",
          "num_reviews": 10,
          "original_price": 514.39,
          "percent_positive": 1,
          "release_date": "Jun 1, 2018"
         },
         {
          "achievements": 28,
          "developer": "Choice of Games",
          "index": 9694,
          "mature": false,
          "multiplayer": false,
          "name": "Choice of the Cat",
          "num_reviews": 14,
          "original_price": 501.87,
          "percent_positive": 0.85,
          "release_date": "Sep 28, 2017"
         },
         {
          "achievements": 22,
          "developer": "Choice of Games",
          "index": 10096,
          "mature": false,
          "multiplayer": false,
          "name": "Silverworld",
          "num_reviews": 14,
          "original_price": 501.87,
          "percent_positive": 1,
          "release_date": "Apr 12, 2018"
         },
         {
          "achievements": 49,
          "developer": "Choice of Games",
          "index": 10109,
          "mature": false,
          "multiplayer": false,
          "name": "The Mysteries of Baroque",
          "num_reviews": 10,
          "original_price": 501.87,
          "percent_positive": 0.8,
          "release_date": "Sep 20, 2018"
         },
         {
          "achievements": 25,
          "developer": "Choice of Games",
          "index": 10435,
          "mature": false,
          "multiplayer": false,
          "name": "Grand Academy for Future Villains",
          "num_reviews": 11,
          "original_price": 501.87,
          "percent_positive": 0.81,
          "release_date": "Sep 14, 2017"
         },
         {
          "achievements": 79,
          "developer": "Choice of Games",
          "index": 10713,
          "mature": false,
          "multiplayer": false,
          "name": "Tally Ho",
          "num_reviews": 36,
          "original_price": 501.87,
          "percent_positive": 0.97,
          "release_date": "Dec 14, 2017"
         },
         {
          "achievements": 27,
          "developer": "Choice of Games",
          "index": 10764,
          "mature": false,
          "multiplayer": false,
          "name": "Thieves' Gambit: The Curse of the Black Cat",
          "num_reviews": 25,
          "original_price": 501.87,
          "percent_positive": 0.84,
          "release_date": "Oct 17, 2014"
         },
         {
          "achievements": 46,
          "developer": "Choice of Games",
          "index": 11114,
          "mature": false,
          "multiplayer": false,
          "name": "Broadway: 1849",
          "num_reviews": 11,
          "original_price": 501.87,
          "percent_positive": 0.81,
          "release_date": "Nov 22, 2017"
         },
         {
          "achievements": 40,
          "developer": "Choice of Games",
          "index": 11288,
          "mature": false,
          "multiplayer": false,
          "name": "Deathless: The City's Thirst",
          "num_reviews": 26,
          "original_price": 501.87,
          "percent_positive": 0.84,
          "release_date": "Oct 23, 2015"
         },
         {
          "achievements": 5000,
          "developer": "Ripknot Systems",
          "index": 11391,
          "mature": false,
          "multiplayer": false,
          "name": "Trivia Vault: Movie Trivia",
          "num_reviews": 13,
          "original_price": 514.39,
          "percent_positive": 0.92,
          "release_date": "Apr 27, 2018"
         },
         {
          "achievements": 5000,
          "developer": "Ripknot Systems",
          "index": 11392,
          "mature": false,
          "multiplayer": false,
          "name": "Trivia Vault: Soccer Trivia",
          "num_reviews": 13,
          "original_price": 514.39,
          "percent_positive": 0.92,
          "release_date": "Apr 23, 2018"
         },
         {
          "achievements": 5000,
          "developer": "Ripknot Systems",
          "index": 11393,
          "mature": false,
          "multiplayer": false,
          "name": "Trivia Vault: Tennis Trivia",
          "num_reviews": 11,
          "original_price": 514.39,
          "percent_positive": 1,
          "release_date": "Apr 19, 2018"
         },
         {
          "achievements": 5000,
          "developer": "Ripknot Systems",
          "index": 11397,
          "mature": false,
          "multiplayer": false,
          "name": "Trivia Vault: Golf Trivia",
          "num_reviews": 17,
          "original_price": 514.39,
          "percent_positive": 0.94,
          "release_date": "Mar 29, 2018"
         },
         {
          "achievements": 5000,
          "developer": "Ripknot Systems",
          "index": 11398,
          "mature": false,
          "multiplayer": false,
          "name": "Trivia Vault Football Trivia",
          "num_reviews": 15,
          "original_price": 514.39,
          "percent_positive": 0.8,
          "release_date": "Feb 27, 2018"
         },
         {
          "achievements": 5000,
          "developer": "Ripknot Systems",
          "index": 11401,
          "mature": false,
          "multiplayer": false,
          "name": "Trivia Vault: Mixed Trivia 2",
          "num_reviews": 17,
          "original_price": 514.39,
          "percent_positive": 0.82,
          "release_date": "Feb 13, 2018"
         },
         {
          "achievements": 0,
          "developer": "Play Cute",
          "index": 12441,
          "mature": false,
          "multiplayer": false,
          "name": "Varenje - Full Game DLC",
          "num_reviews": 17,
          "original_price": 453.42,
          "percent_positive": 0.82,
          "release_date": "Jul 3, 2018"
         },
         {
          "achievements": 12,
          "developer": "Winter Wolves",
          "index": 13253,
          "mature": false,
          "multiplayer": false,
          "name": "Heirs And Graces",
          "num_reviews": 36,
          "original_price": 475.6,
          "percent_positive": 0.94,
          "release_date": "Jul 27, 2016"
         },
         {
          "achievements": 22,
          "developer": "Winter Wolves",
          "index": 13715,
          "mature": false,
          "multiplayer": false,
          "name": "Heileen 3: New Horizons",
          "num_reviews": 24,
          "original_price": 475.6,
          "percent_positive": 0.83,
          "release_date": "Dec 12, 2012"
         },
         {
          "achievements": 52,
          "developer": "Choice of Games",
          "index": 14397,
          "mature": false,
          "multiplayer": false,
          "name": "A Midsummer Night's Choice",
          "num_reviews": 21,
          "original_price": 501.87,
          "percent_positive": 0.85,
          "release_date": "Aug 25, 2016"
         },
         {
          "achievements": 30,
          "developer": "Choice of Games",
          "index": 14686,
          "mature": false,
          "multiplayer": false,
          "name": "The Eagle's Heir",
          "num_reviews": 23,
          "original_price": 501.87,
          "percent_positive": 0.86,
          "release_date": "Mar 30, 2017"
         },
         {
          "achievements": 85,
          "developer": "Choice of Games",
          "index": 14843,
          "mature": false,
          "multiplayer": false,
          "name": "VERSUS: The Elite Trials",
          "num_reviews": 28,
          "original_price": 501.87,
          "percent_positive": 0.89,
          "release_date": "Dec 16, 2016"
         },
         {
          "achievements": 22,
          "developer": "Choice of Games",
          "index": 15303,
          "mature": false,
          "multiplayer": false,
          "name": "Welcome to Moreytown",
          "num_reviews": 33,
          "original_price": 501.87,
          "percent_positive": 0.84,
          "release_date": "May 5, 2017"
         },
         {
          "achievements": 0,
          "developer": "Dikobraz Games",
          "index": 16318,
          "mature": false,
          "multiplayer": false,
          "name": "The Surprising Adventures of Munchausen",
          "num_reviews": 13,
          "original_price": 453.42,
          "percent_positive": 0.84,
          "release_date": "Sep 26, 2017"
         },
         {
          "achievements": 33,
          "developer": "Choice of Games",
          "index": 16452,
          "mature": false,
          "multiplayer": false,
          "name": "The Hero Unmasked!",
          "num_reviews": 14,
          "original_price": 501.87,
          "percent_positive": 0.85,
          "release_date": "Jul 27, 2017"
         },
         {
          "achievements": 5000,
          "developer": "Virtual Top",
          "index": 17415,
          "mature": false,
          "multiplayer": false,
          "name": "Kicking Kittens: Putin Saves The World",
          "num_reviews": 26,
          "original_price": 624.74,
          "percent_positive": 0.73,
          "release_date": "Jan 25, 2018"
         },
         {
          "achievements": 32,
          "developer": "Winter Wolves",
          "index": 17444,
          "mature": false,
          "multiplayer": false,
          "name": "Planet Stronghold: Colonial Defense",
          "num_reviews": 18,
          "original_price": 475.6,
          "percent_positive": 0.77,
          "release_date": "Jan 15, 2016"
         },
         {
          "achievements": 42,
          "developer": "Veslo Games",
          "index": 17653,
          "mature": false,
          "multiplayer": false,
          "name": ".T.E.S.T: Expected Behaviour — Sci-Fi 3D Puzzle Quest",
          "num_reviews": 53,
          "original_price": 453.42,
          "percent_positive": 0.77,
          "release_date": "May 3, 2018"
         },
         {
          "achievements": 5000,
          "developer": "Red Dolphin Games",
          "index": 17710,
          "mature": false,
          "multiplayer": false,
          "name": "Fitzzle Mighty Bears",
          "num_reviews": 11,
          "original_price": 624.74,
          "percent_positive": 0.72,
          "release_date": "Feb 19, 2018"
         },
         {
          "achievements": 5000,
          "developer": "Red Dolphin Games",
          "index": 17719,
          "mature": false,
          "multiplayer": false,
          "name": "QLORB 2",
          "num_reviews": 13,
          "original_price": 624.74,
          "percent_positive": 0.76,
          "release_date": "Feb 26, 2018"
         },
         {
          "achievements": 5000,
          "developer": "Ripknot Systems",
          "index": 17866,
          "mature": false,
          "multiplayer": false,
          "name": "Trivia Vault: Health Trivia Deluxe",
          "num_reviews": 17,
          "original_price": 514.39,
          "percent_positive": 0.76,
          "release_date": "Jan 23, 2018"
         },
         {
          "achievements": 5000,
          "developer": "Ripknot Systems",
          "index": 17867,
          "mature": false,
          "multiplayer": false,
          "name": "Trivia Vault: Technology Trivia Deluxe",
          "num_reviews": 20,
          "original_price": 514.39,
          "percent_positive": 0.7,
          "release_date": "Dec 21, 2017"
         },
         {
          "achievements": 29,
          "developer": "Choice of Games",
          "index": 18371,
          "mature": false,
          "multiplayer": false,
          "name": "Ratings War",
          "num_reviews": 52,
          "original_price": 501.87,
          "percent_positive": 0.78,
          "release_date": "Oct 2, 2015"
         },
         {
          "achievements": 9,
          "developer": "Winter Wolves",
          "index": 18513,
          "mature": false,
          "multiplayer": false,
          "name": "Flower Shop: Winter In Fairbrook",
          "num_reviews": 42,
          "original_price": 475.6,
          "percent_positive": 0.71,
          "release_date": "Nov 23, 2011"
         },
         {
          "achievements": 5000,
          "developer": "Ripknot Systems",
          "index": 19121,
          "mature": false,
          "multiplayer": false,
          "name": "Trivia Vault: Super Heroes Trivia",
          "num_reviews": 35,
          "original_price": 514.39,
          "percent_positive": 0.71,
          "release_date": "Aug 15, 2017"
         },
         {
          "achievements": 40,
          "developer": "Winter Wolves",
          "index": 19133,
          "mature": false,
          "multiplayer": false,
          "name": "Tales of Aravorn: Seasons Of The Wolf",
          "num_reviews": 41,
          "original_price": 475.6,
          "percent_positive": 0.75,
          "release_date": "Nov 15, 2014"
         },
         {
          "achievements": 5000,
          "developer": "Red Dolphin Games",
          "index": 19753,
          "mature": false,
          "multiplayer": false,
          "name": "Depth Siege Atlantis",
          "num_reviews": 12,
          "original_price": 624.74,
          "percent_positive": 0.66,
          "release_date": "May 4, 2018"
         },
         {
          "achievements": 100,
          "developer": "Choice of Games",
          "index": 20338,
          "mature": false,
          "multiplayer": false,
          "name": "The Hero Project: Open Season",
          "num_reviews": 17,
          "original_price": 501.87,
          "percent_positive": 0.41,
          "release_date": "Apr 5, 2018"
         },
         {
          "achievements": 3,
          "developer": "Winter Wolves",
          "index": 20397,
          "mature": false,
          "multiplayer": false,
          "name": "Heileen 1: Sail Away",
          "num_reviews": 38,
          "original_price": 475.6,
          "percent_positive": 0.5,
          "release_date": "Oct 16, 2008"
         },
         {
          "achievements": 27,
          "developer": "Choice of Games",
          "index": 20589,
          "mature": false,
          "multiplayer": false,
          "name": "Undercover Agent",
          "num_reviews": 10,
          "original_price": 501.87,
          "percent_positive": 0.6,
          "release_date": "Jan 25, 2018"
         },
         {
          "achievements": 73,
          "developer": "Choice of Games",
          "index": 21689,
          "mature": false,
          "multiplayer": false,
          "name": "The Hero Project: Redemption Season",
          "num_reviews": 110,
          "original_price": 501.87,
          "percent_positive": 0.62,
          "release_date": "Apr 8, 2016"
         },
         {
          "achievements": 14,
          "developer": "JoyBits Ltd.",
          "index": 21725,
          "mature": false,
          "multiplayer": false,
          "name": "Doodle Kingdom",
          "num_reviews": 71,
          "original_price": 453.42,
          "percent_positive": 0.49,
          "release_date": "Jun 9, 2016"
         },
         {
          "achievements": 15,
          "developer": "Winter Wolves",
          "index": 22038,
          "mature": false,
          "multiplayer": false,
          "name": "Heileen 2: The Hands Of Fate",
          "num_reviews": 17,
          "original_price": 475.6,
          "percent_positive": 0.64,
          "release_date": "Dec 12, 2009"
         },
         {
          "achievements": 34,
          "developer": "Choice of Games",
          "index": 22308,
          "mature": false,
          "multiplayer": false,
          "name": "The Sea Eternal",
          "num_reviews": 24,
          "original_price": 501.87,
          "percent_positive": 0.41,
          "release_date": "Apr 22, 2016"
         },
         {
          "achievements": 32,
          "developer": "Choice of Games",
          "index": 22439,
          "mature": false,
          "multiplayer": false,
          "name": "The Daring Mermaid Expedition",
          "num_reviews": 18,
          "original_price": 501.87,
          "percent_positive": 0.61,
          "release_date": "Feb 12, 2016"
         },
         {
          "achievements": 9,
          "developer": "JoyBits Ltd.",
          "index": 22712,
          "mature": false,
          "multiplayer": false,
          "name": "Doodle God: 8-bit Mania - Collector's Item",
          "num_reviews": 39,
          "original_price": 453.42,
          "percent_positive": 0.61,
          "release_date": "Nov 18, 2016"
         },
         {
          "achievements": 500,
          "developer": "Electric Root",
          "index": 23219,
          "mature": false,
          "multiplayer": false,
          "name": "Dungeon Creepster",
          "num_reviews": 312,
          "original_price": 624.74,
          "percent_positive": 0.5,
          "release_date": "Mar 24, 2017"
         },
         {
          "achievements": 42,
          "developer": "Winter Wolves",
          "index": 23341,
          "mature": true,
          "multiplayer": false,
          "name": "Amber's Magic Shop",
          "num_reviews": 25,
          "original_price": 475.6,
          "percent_positive": 0.68,
          "release_date": "Jun 8, 2017"
         },
         {
          "achievements": 5000,
          "developer": "Virtual Top",
          "index": 23417,
          "mature": true,
          "multiplayer": false,
          "name": "Pain Train PainPocalypse",
          "num_reviews": 61,
          "original_price": 624.74,
          "percent_positive": 0.49,
          "release_date": "Aug 11, 2017"
         },
         {
          "achievements": 5000,
          "developer": "Ripknot Systems",
          "index": 23501,
          "mature": false,
          "multiplayer": false,
          "name": "Professor Watts Word Search: Into The Ocean",
          "num_reviews": 22,
          "original_price": 514.39,
          "percent_positive": 0.68,
          "release_date": "Jul 16, 2017"
         },
         {
          "achievements": 1,
          "developer": "Ripknot Systems",
          "index": 23507,
          "mature": false,
          "multiplayer": false,
          "name": "Grav Blazer",
          "num_reviews": 36,
          "original_price": 514.39,
          "percent_positive": 0.69,
          "release_date": "Jul 17, 2017"
         },
         {
          "achievements": 5000,
          "developer": "Ripknot Systems",
          "index": 23520,
          "mature": false,
          "multiplayer": false,
          "name": "Trivia Vault: Science & History Trivia 2",
          "num_reviews": 33,
          "original_price": 514.39,
          "percent_positive": 0.66,
          "release_date": "Sep 1, 2017"
         },
         {
          "achievements": 0,
          "developer": "Choice of Games",
          "index": 23611,
          "mature": false,
          "multiplayer": false,
          "name": "The Fleet",
          "num_reviews": 10,
          "original_price": 501.87,
          "percent_positive": 0.6,
          "release_date": "Nov 30, 2012"
         },
         {
          "achievements": 5000,
          "developer": "Ripknot Systems",
          "index": 23742,
          "mature": false,
          "multiplayer": false,
          "name": "Trivia Vault: Science & History Trivia",
          "num_reviews": 31,
          "original_price": 514.39,
          "percent_positive": 0.64,
          "release_date": "Aug 14, 2017"
         },
         {
          "achievements": 5000,
          "developer": "Virtual Top",
          "index": 23823,
          "mature": false,
          "multiplayer": false,
          "name": "Yatsumitsu Fists of Wrath",
          "num_reviews": 22,
          "original_price": 624.74,
          "percent_positive": 0.59,
          "release_date": "Aug 25, 2017"
         },
         {
          "achievements": 5000,
          "developer": "Crankies Smartworks",
          "index": 24117,
          "mature": false,
          "multiplayer": false,
          "name": "Crankies Workshop: Grizzbot Assembly 2",
          "num_reviews": 29,
          "original_price": 624.74,
          "percent_positive": 0.48,
          "release_date": "Oct 5, 2017"
         },
         {
          "achievements": 5000,
          "developer": "Virtual Top",
          "index": 24142,
          "mature": false,
          "multiplayer": false,
          "name": "Morendar: Goblin Slayer",
          "num_reviews": 34,
          "original_price": 624.74,
          "percent_positive": 0.5,
          "release_date": "Jul 27, 2017"
         },
         {
          "achievements": 5,
          "developer": "Dikobraz Games",
          "index": 24148,
          "mature": false,
          "multiplayer": false,
          "name": "Solitaire Mystery: Stolen Power",
          "num_reviews": 11,
          "original_price": 453.42,
          "percent_positive": 0.45,
          "release_date": "Dec 10, 2017"
         },
         {
          "achievements": 4,
          "developer": "Winter Wolves",
          "index": 24268,
          "mature": false,
          "multiplayer": false,
          "name": "Flower Shop: Summer In Fairbrook",
          "num_reviews": 43,
          "original_price": 475.6,
          "percent_positive": 0.65,
          "release_date": "Jan 28, 2010"
         },
         {
          "achievements": 5000,
          "developer": "Ripknot Systems",
          "index": 24276,
          "mature": false,
          "multiplayer": false,
          "name": "Trivia Vault: Video Game Trivia Deluxe",
          "num_reviews": 25,
          "original_price": 514.39,
          "percent_positive": 0.68,
          "release_date": "Oct 24, 2017"
         },
         {
          "achievements": 5000,
          "developer": "Ripknot Systems",
          "index": 24375,
          "mature": false,
          "multiplayer": false,
          "name": "Trivia Vault: 1980's Trivia 2",
          "num_reviews": 33,
          "original_price": 514.39,
          "percent_positive": 0.66,
          "release_date": "Aug 22, 2017"
         },
         {
          "achievements": 5000,
          "developer": "Crankies Smartworks",
          "index": 24598,
          "mature": false,
          "multiplayer": false,
          "name": "Crankies Workshop: Lerpbot Assembly",
          "num_reviews": 23,
          "original_price": 624.74,
          "percent_positive": 0.6,
          "release_date": "Sep 13, 2017"
         },
         {
          "achievements": 5000,
          "developer": "Virtual Top",
          "index": 24985,
          "mature": false,
          "multiplayer": false,
          "name": "Destination Dungeon: Crypts of Warthallow",
          "num_reviews": 30,
          "original_price": 624.74,
          "percent_positive": 0.66,
          "release_date": "Sep 7, 2017"
         },
         {
          "achievements": 5000,
          "developer": "Red Dolphin Games",
          "index": 25001,
          "mature": false,
          "multiplayer": false,
          "name": "Bathroom Chef",
          "num_reviews": 24,
          "original_price": 624.74,
          "percent_positive": 0.58,
          "release_date": "May 29, 2018"
         },
         {
          "achievements": 0,
          "developer": "MAGIX Software GmbH",
          "index": 25094,
          "mature": false,
          "multiplayer": true,
          "name": "VEGAS Pro 15 Edit Steam Edition",
          "num_reviews": 106,
          "original_price": 408.99,
          "percent_positive": 0.6,
          "release_date": "Sep 5, 2017"
         },
         {
          "achievements": 5000,
          "developer": "Red Dolphin Games",
          "index": 25402,
          "mature": false,
          "multiplayer": false,
          "name": "QLORB",
          "num_reviews": 23,
          "original_price": 624.74,
          "percent_positive": 0.65,
          "release_date": "Feb 6, 2018"
         },
         {
          "achievements": 0,
          "developer": "Choice of Games",
          "index": 25429,
          "mature": false,
          "multiplayer": false,
          "name": "Choice of the Vampire",
          "num_reviews": 12,
          "original_price": 501.87,
          "percent_positive": 0.66,
          "release_date": "Aug 27, 2010"
         },
         {
          "achievements": 720,
          "developer": "Virtual Top",
          "index": 25665,
          "mature": true,
          "multiplayer": false,
          "name": "Pain Train 2",
          "num_reviews": 153,
          "original_price": 624.74,
          "percent_positive": 0.38,
          "release_date": "Mar 16, 2017"
         },
         {
          "achievements": 0,
          "developer": "The Game Creators",
          "index": 26137,
          "mature": false,
          "multiplayer": false,
          "name": "AppGameKit - Games Pack 1",
          "num_reviews": 11,
          "original_price": 304.89,
          "percent_positive": 0.36,
          "release_date": "May 23, 2016"
         },
         {
          "achievements": 500,
          "developer": "Virtual Top",
          "index": 26754,
          "mature": false,
          "multiplayer": false,
          "name": "Phantom Soldier",
          "num_reviews": 314,
          "original_price": 624.74,
          "percent_positive": 0.39,
          "release_date": "Mar 29, 2017"
         },
         {
          "achievements": 38,
          "developer": "Choice of Games",
          "index": 32302,
          "mature": false,
          "multiplayer": false,
          "name": "Congresswolf",
          "num_reviews": 12,
          "original_price": 501.87,
          "percent_positive": 0.58,
          "release_date": "Oct 28, 2016"
         },
         {
          "achievements": 24,
          "developer": "Choice of Games",
          "index": 33811,
          "mature": false,
          "multiplayer": false,
          "name": "Neighbourhood Necromancer",
          "num_reviews": 11,
          "original_price": 501.87,
          "percent_positive": 0.63,
          "release_date": "May 16, 2014"
         },
         {
          "achievements": 0,
          "developer": "Choice of Games",
          "index": 35309,
          "mature": false,
          "multiplayer": false,
          "name": "Choice of the Ninja",
          "num_reviews": 11,
          "original_price": 501.87,
          "percent_positive": 0.63,
          "release_date": "Nov 17, 2017"
         },
         {
          "achievements": 53,
          "developer": "Choice of Games",
          "index": 35331,
          "mature": false,
          "multiplayer": false,
          "name": "Choice of Rebels: Uprising",
          "num_reviews": 78,
          "original_price": 501.87,
          "percent_positive": 0.96,
          "release_date": "Nov 9, 2017"
         }
        ],
        "schema": {
         "fields": [
          {
           "name": "index",
           "type": "integer"
          },
          {
           "name": "name",
           "type": "string"
          },
          {
           "name": "release_date",
           "type": "string"
          },
          {
           "name": "developer",
           "type": "string"
          },
          {
           "name": "achievements",
           "type": "number"
          },
          {
           "name": "original_price",
           "type": "number"
          },
          {
           "name": "percent_positive",
           "type": "number"
          },
          {
           "name": "num_reviews",
           "type": "number"
          },
          {
           "name": "multiplayer",
           "type": "boolean"
          },
          {
           "name": "mature",
           "type": "boolean"
          }
         ],
         "pandas_version": "0.20.0",
         "primaryKey": [
          "index"
         ]
        }
       },
       "total_rows": 114
      },
      "text/html": [
       "<div>\n",
       "<style scoped>\n",
       "    .dataframe tbody tr th:only-of-type {\n",
       "        vertical-align: middle;\n",
       "    }\n",
       "\n",
       "    .dataframe tbody tr th {\n",
       "        vertical-align: top;\n",
       "    }\n",
       "\n",
       "    .dataframe thead th {\n",
       "        text-align: right;\n",
       "    }\n",
       "</style>\n",
       "<table border=\"1\" class=\"dataframe\">\n",
       "  <thead>\n",
       "    <tr style=\"text-align: right;\">\n",
       "      <th></th>\n",
       "      <th>name</th>\n",
       "      <th>release_date</th>\n",
       "      <th>developer</th>\n",
       "      <th>achievements</th>\n",
       "      <th>original_price</th>\n",
       "      <th>percent_positive</th>\n",
       "      <th>num_reviews</th>\n",
       "      <th>multiplayer</th>\n",
       "      <th>mature</th>\n",
       "    </tr>\n",
       "  </thead>\n",
       "  <tbody>\n",
       "    <tr>\n",
       "      <th>974</th>\n",
       "      <td>VEGAS Pro 16 Edit Steam Edition</td>\n",
       "      <td>Sep 3, 2018</td>\n",
       "      <td>MAGIX Software GmbH</td>\n",
       "      <td>0.0</td>\n",
       "      <td>399.00</td>\n",
       "      <td>0.55</td>\n",
       "      <td>18.0</td>\n",
       "      <td>True</td>\n",
       "      <td>False</td>\n",
       "    </tr>\n",
       "    <tr>\n",
       "      <th>1314</th>\n",
       "      <td>VEGAS Pro 14 Edit Steam Edition</td>\n",
       "      <td>Sep 30, 2016</td>\n",
       "      <td>MAGIX Software GmbH</td>\n",
       "      <td>0.0</td>\n",
       "      <td>598.00</td>\n",
       "      <td>0.77</td>\n",
       "      <td>385.0</td>\n",
       "      <td>True</td>\n",
       "      <td>False</td>\n",
       "    </tr>\n",
       "    <tr>\n",
       "      <th>2634</th>\n",
       "      <td>Choice of Robots</td>\n",
       "      <td>Dec 19, 2014</td>\n",
       "      <td>Choice of Games</td>\n",
       "      <td>72.0</td>\n",
       "      <td>501.87</td>\n",
       "      <td>0.97</td>\n",
       "      <td>1669.0</td>\n",
       "      <td>False</td>\n",
       "      <td>False</td>\n",
       "    </tr>\n",
       "    <tr>\n",
       "      <th>2925</th>\n",
       "      <td>Choice of the Pirate</td>\n",
       "      <td>May 20, 2016</td>\n",
       "      <td>Choice of Games</td>\n",
       "      <td>18.0</td>\n",
       "      <td>501.87</td>\n",
       "      <td>0.91</td>\n",
       "      <td>83.0</td>\n",
       "      <td>False</td>\n",
       "      <td>False</td>\n",
       "    </tr>\n",
       "    <tr>\n",
       "      <th>2931</th>\n",
       "      <td>A Wise Use of Time</td>\n",
       "      <td>Sep 4, 2015</td>\n",
       "      <td>Choice of Games</td>\n",
       "      <td>38.0</td>\n",
       "      <td>501.87</td>\n",
       "      <td>0.81</td>\n",
       "      <td>105.0</td>\n",
       "      <td>False</td>\n",
       "      <td>False</td>\n",
       "    </tr>\n",
       "    <tr>\n",
       "      <th>...</th>\n",
       "      <td>...</td>\n",
       "      <td>...</td>\n",
       "      <td>...</td>\n",
       "      <td>...</td>\n",
       "      <td>...</td>\n",
       "      <td>...</td>\n",
       "      <td>...</td>\n",
       "      <td>...</td>\n",
       "      <td>...</td>\n",
       "    </tr>\n",
       "    <tr>\n",
       "      <th>26754</th>\n",
       "      <td>Phantom Soldier</td>\n",
       "      <td>Mar 29, 2017</td>\n",
       "      <td>Virtual Top</td>\n",
       "      <td>500.0</td>\n",
       "      <td>624.74</td>\n",
       "      <td>0.39</td>\n",
       "      <td>314.0</td>\n",
       "      <td>False</td>\n",
       "      <td>False</td>\n",
       "    </tr>\n",
       "    <tr>\n",
       "      <th>32302</th>\n",
       "      <td>Congresswolf</td>\n",
       "      <td>Oct 28, 2016</td>\n",
       "      <td>Choice of Games</td>\n",
       "      <td>38.0</td>\n",
       "      <td>501.87</td>\n",
       "      <td>0.58</td>\n",
       "      <td>12.0</td>\n",
       "      <td>False</td>\n",
       "      <td>False</td>\n",
       "    </tr>\n",
       "    <tr>\n",
       "      <th>33811</th>\n",
       "      <td>Neighbourhood Necromancer</td>\n",
       "      <td>May 16, 2014</td>\n",
       "      <td>Choice of Games</td>\n",
       "      <td>24.0</td>\n",
       "      <td>501.87</td>\n",
       "      <td>0.63</td>\n",
       "      <td>11.0</td>\n",
       "      <td>False</td>\n",
       "      <td>False</td>\n",
       "    </tr>\n",
       "    <tr>\n",
       "      <th>35309</th>\n",
       "      <td>Choice of the Ninja</td>\n",
       "      <td>Nov 17, 2017</td>\n",
       "      <td>Choice of Games</td>\n",
       "      <td>0.0</td>\n",
       "      <td>501.87</td>\n",
       "      <td>0.63</td>\n",
       "      <td>11.0</td>\n",
       "      <td>False</td>\n",
       "      <td>False</td>\n",
       "    </tr>\n",
       "    <tr>\n",
       "      <th>35331</th>\n",
       "      <td>Choice of Rebels: Uprising</td>\n",
       "      <td>Nov 9, 2017</td>\n",
       "      <td>Choice of Games</td>\n",
       "      <td>53.0</td>\n",
       "      <td>501.87</td>\n",
       "      <td>0.96</td>\n",
       "      <td>78.0</td>\n",
       "      <td>False</td>\n",
       "      <td>False</td>\n",
       "    </tr>\n",
       "  </tbody>\n",
       "</table>\n",
       "<p>114 rows × 9 columns</p>\n",
       "</div>"
      ],
      "text/plain": [
       "                                  name  release_date            developer  \\\n",
       "974    VEGAS Pro 16 Edit Steam Edition   Sep 3, 2018  MAGIX Software GmbH   \n",
       "1314   VEGAS Pro 14 Edit Steam Edition  Sep 30, 2016  MAGIX Software GmbH   \n",
       "2634                  Choice of Robots  Dec 19, 2014      Choice of Games   \n",
       "2925              Choice of the Pirate  May 20, 2016      Choice of Games   \n",
       "2931                A Wise Use of Time   Sep 4, 2015      Choice of Games   \n",
       "...                                ...           ...                  ...   \n",
       "26754                  Phantom Soldier  Mar 29, 2017          Virtual Top   \n",
       "32302                     Congresswolf  Oct 28, 2016      Choice of Games   \n",
       "33811        Neighbourhood Necromancer  May 16, 2014      Choice of Games   \n",
       "35309              Choice of the Ninja  Nov 17, 2017      Choice of Games   \n",
       "35331       Choice of Rebels: Uprising   Nov 9, 2017      Choice of Games   \n",
       "\n",
       "       achievements  original_price  percent_positive  num_reviews  \\\n",
       "974             0.0          399.00              0.55         18.0   \n",
       "1314            0.0          598.00              0.77        385.0   \n",
       "2634           72.0          501.87              0.97       1669.0   \n",
       "2925           18.0          501.87              0.91         83.0   \n",
       "2931           38.0          501.87              0.81        105.0   \n",
       "...             ...             ...               ...          ...   \n",
       "26754         500.0          624.74              0.39        314.0   \n",
       "32302          38.0          501.87              0.58         12.0   \n",
       "33811          24.0          501.87              0.63         11.0   \n",
       "35309           0.0          501.87              0.63         11.0   \n",
       "35331          53.0          501.87              0.96         78.0   \n",
       "\n",
       "       multiplayer  mature  \n",
       "974           True   False  \n",
       "1314          True   False  \n",
       "2634         False   False  \n",
       "2925         False   False  \n",
       "2931         False   False  \n",
       "...            ...     ...  \n",
       "26754        False   False  \n",
       "32302        False   False  \n",
       "33811        False   False  \n",
       "35309        False   False  \n",
       "35331        False   False  \n",
       "\n",
       "[114 rows x 9 columns]"
      ]
     },
     "execution_count": 32,
     "metadata": {},
     "output_type": "execute_result"
    }
   ],
   "source": [
    "# Find games with 'original price' over 300\n",
    "games[games['original_price'] > 300]"
   ]
  },
  {
   "cell_type": "code",
   "execution_count": 33,
   "id": "b156d439-81a4-40b9-9ffb-de8af365d6db",
   "metadata": {},
   "outputs": [
    {
     "data": {
      "text/plain": [
       "Text(0.5, 1.0, 'Developers with games over $300')"
      ]
     },
     "execution_count": 33,
     "metadata": {},
     "output_type": "execute_result"
    },
    {
     "data": {
      "image/png": "[encoded data removed]",
      "text/plain": [
       "<Figure size 432x288 with 1 Axes>"
      ]
     },
     "metadata": {},
     "output_type": "display_data"
    }
   ],
   "source": [
    "# Count the developers with games over 300\n",
    "ax = sns.countplot(data=games[games['original_price'] > 300], y='developer')\n",
    "ax.set_title(\"Developers with games over $300\")"
   ]
  },
  {
   "cell_type": "markdown",
   "id": "b1ef3fce-de41-4a14-8e7f-c92b7edaf7a7",
   "metadata": {},
   "source": [
    "There seems to be an issue with some developers having prices that are extremely high, possibly from bundles. For a small amount of outliers we can be comfortable with dropping these rows."
   ]
  },
  {
   "cell_type": "code",
   "execution_count": 34,
   "id": "82342076-996a-46f0-8e76-8e7564a6f249",
   "metadata": {},
   "outputs": [],
   "source": [
    "# Drop games with 'original price' over 300\n",
    "games = games.drop(games[games['original_price'] > 300].index)"
   ]
  },
  {
   "cell_type": "markdown",
   "id": "6821bc78-1a47-4ba3-8079-ab6f8994568d",
   "metadata": {},
   "source": [
    "Plotting an ECDF allows us to see if there's any relationship between the price of a game and wither or not it has multiplayer and wither or not it rated Mature."
   ]
  },
  {
   "cell_type": "code",
   "execution_count": 35,
   "id": "31696b1d-c0f9-4c33-b625-3b05b2d96a1e",
   "metadata": {},
   "outputs": [
    {
     "data": {
      "text/plain": [
       "Text(0.5, 0, 'original_price ($)')"
      ]
     },
     "execution_count": 35,
     "metadata": {},
     "output_type": "execute_result"
    },
    {
     "data": {
      "image/png": "[encoded data removed]",
      "text/plain": [
       "<Figure size 1080x576 with 1 Axes>"
      ]
     },
     "metadata": {},
     "output_type": "display_data"
    }
   ],
   "source": [
    "# Import numpy\n",
    "import numpy as np\n",
    "\n",
    "# Set figure size\n",
    "plt.figure(figsize = (15,8))\n",
    "\n",
    "# Plot ecdf\n",
    "ax = sns.ecdfplot(data=games, x=\"original_price\", hue=\"multiplayer\")\n",
    "\n",
    "# Set ticks and title\n",
    "ax.set_yticks([0,0.1,.2,.3,.4,.5,.6,.7,.8,.9,1])\n",
    "ax.set_xticks(np.linspace(min(games['original_price']),max(games['original_price']),15))\n",
    "ax.set_title('ECDF of Original Price by Multplayer')\n",
    "ax.set_xlabel('original_price ($)')"
   ]
  },
  {
   "cell_type": "code",
   "execution_count": 36,
   "id": "5a7b441e-ac1f-439b-a49b-2184087f9141",
   "metadata": {},
   "outputs": [
    {
     "data": {
      "text/plain": [
       "Text(0.5, 0, 'original_price ($)')"
      ]
     },
     "execution_count": 36,
     "metadata": {},
     "output_type": "execute_result"
    },
    {
     "data": {
      "image/png": "[encoded data removed]",
      "text/plain": [
       "<Figure size 1080x576 with 1 Axes>"
      ]
     },
     "metadata": {},
     "output_type": "display_data"
    }
   ],
   "source": [
    "# Set figure size\n",
    "plt.figure(figsize = (15,8))\n",
    "\n",
    "# Plot ecdf\n",
    "ax = sns.ecdfplot(data=games, x=\"original_price\", hue=\"mature\")\n",
    "\n",
    "# Set ticks and title\n",
    "ax.set_yticks(np.linspace(0,1,11))\n",
    "ax.set_xticks(np.linspace(min(games['original_price']),max(games['original_price']),15))\n",
    "ax.set_title('ECDF of Original Price by Mature rating')\n",
    "ax.set_xlabel('original_price ($)')"
   ]
  },
  {
   "cell_type": "markdown",
   "id": "235f7e53-b94c-4aee-886e-46bfee126308",
   "metadata": {},
   "source": [
    "There is evidence that having multiplayer in a game increases the original cost of a game.\n",
    "Wither a game is rated mature or a small impact on the price."
   ]
  },
  {
   "cell_type": "markdown",
   "id": "9fdedb22-703f-40db-8e6e-5a2983ac4c15",
   "metadata": {},
   "source": [
    "An ECDF of 'original_price' alone would also show trends in price."
   ]
  },
  {
   "cell_type": "code",
   "execution_count": 37,
   "id": "59fc3871-623f-43e3-8bf8-9b56bd6d7147",
   "metadata": {},
   "outputs": [
    {
     "data": {
      "text/plain": [
       "Text(0.5, 0, 'original_price ($)')"
      ]
     },
     "execution_count": 37,
     "metadata": {},
     "output_type": "execute_result"
    },
    {
     "data": {
      "image/png": "[encoded data removed]",
      "text/plain": [
       "<Figure size 1080x576 with 1 Axes>"
      ]
     },
     "metadata": {},
     "output_type": "display_data"
    }
   ],
   "source": [
    "# Set figure size\n",
    "plt.figure(figsize = (15,8))\n",
    "\n",
    "# Plot ecdf\n",
    "ax = sns.ecdfplot(data=games, x=\"original_price\")\n",
    "\n",
    "# Set ticks and title\n",
    "ax.set_yticks(np.linspace(0,1,11))\n",
    "ax.set_xticks(np.linspace(0,300,16))\n",
    "#ax.set_xticks(np.linspace(min(games['original_price']),max(games['original_price']),20))\n",
    "ax.set_title('ECDF of Original Price')\n",
    "ax.set_xlabel('original_price ($)')"
   ]
  },
  {
   "cell_type": "markdown",
   "id": "a1f35979-bed8-49b1-ad94-4e2b18a50e32",
   "metadata": {},
   "source": [
    "As percent_positive is dependent on num_reviews, numpy can be used to investigate any colleration using Pearson correlation coefficients."
   ]
  },
  {
   "cell_type": "code",
   "execution_count": 38,
   "id": "cf93c888-f022-4d37-b2a7-5b19f60a3987",
   "metadata": {},
   "outputs": [
    {
     "name": "stdout",
     "output_type": "stream",
     "text": [
      "[[1.         0.04214276]\n",
      " [0.04214276 1.        ]]\n"
     ]
    }
   ],
   "source": [
    "# Print correlation coefficient of number of reviews and percentage of positive reviews\n",
    "print(np.corrcoef(games['num_reviews'],games['percent_positive']))"
   ]
  },
  {
   "cell_type": "markdown",
   "id": "39e0fb90-ab5f-4985-832d-740d5338ed35",
   "metadata": {},
   "source": [
    "A value near 0 indicates a lack of colleration between the two variables, meaning one doesn't affect the other."
   ]
  },
  {
   "cell_type": "code",
   "execution_count": 39,
   "id": "d4a0e1b6-8a3f-4bc7-b214-1bdf7b5696e6",
   "metadata": {},
   "outputs": [
    {
     "data": {
      "text/plain": [
       "Text(0.5, 0, 'percent_positive (%)')"
      ]
     },
     "execution_count": 39,
     "metadata": {},
     "output_type": "execute_result"
    },
    {
     "data": {
      "image/png": "[encoded data removed]",
      "text/plain": [
       "<Figure size 1800x504 with 1 Axes>"
      ]
     },
     "metadata": {},
     "output_type": "display_data"
    }
   ],
   "source": [
    "# Set figure size\n",
    "plt.figure(figsize = (25,7))\n",
    "\n",
    "# Plot scatterplot and set title\n",
    "ax = sns.scatterplot(\n",
    "    data=games, y=\"num_reviews\", x=\"percent_positive\"\n",
    ")\n",
    "ax.set_title('Scatter plot of percent of positive reviews VS number of reviews', fontsize = 20)\n",
    "ax.set_xlabel('percent_positive (%)')"
   ]
  },
  {
   "cell_type": "code",
   "execution_count": 40,
   "id": "cef2e8d3-7428-4872-b76f-f86de617a0bb",
   "metadata": {},
   "outputs": [
    {
     "data": {
      "application/com.datacamp.data-table.v1+json": {
       "is_truncated": false,
       "table": {
        "data": [
         {
          "achievements": 37,
          "developer": "PUBG Corporation",
          "index": 1,
          "mature": true,
          "multiplayer": true,
          "name": "PLAYERUNKNOWN'S BATTLEGROUNDS",
          "num_reviews": 836608,
          "original_price": 29.99,
          "percent_positive": 0.49,
          "release_date": "Dec 21, 2017"
         },
         {
          "achievements": 29,
          "developer": "Facepunch Studios",
          "index": 305,
          "mature": false,
          "multiplayer": true,
          "name": "Garry's Mod",
          "num_reviews": 310394,
          "original_price": 9.99,
          "percent_positive": 0.95,
          "release_date": "Nov 29, 2006"
         },
         {
          "achievements": 520,
          "developer": "Valve",
          "index": 354,
          "mature": true,
          "multiplayer": true,
          "name": "Team Fortress 2",
          "num_reviews": 553458,
          "original_price": 0,
          "percent_positive": 0.93,
          "release_date": "Oct 10, 2007"
         },
         {
          "achievements": 77,
          "developer": "Rockstar North",
          "index": 375,
          "mature": true,
          "multiplayer": true,
          "name": "Grand Theft Auto V",
          "num_reviews": 407706,
          "original_price": 29.99,
          "percent_positive": 0.7,
          "release_date": "Apr 14, 2015"
         },
         {
          "achievements": 187,
          "developer": "Digital Extremes",
          "index": 376,
          "mature": true,
          "multiplayer": true,
          "name": "Warframe",
          "num_reviews": 250319,
          "original_price": 19.99,
          "percent_positive": 0.91,
          "release_date": "Mar 25, 2013"
         },
         {
          "achievements": 46,
          "developer": "Smartly Dressed Games",
          "index": 611,
          "mature": false,
          "multiplayer": true,
          "name": "Unturned",
          "num_reviews": 325675,
          "original_price": 0,
          "percent_positive": 0.9,
          "release_date": "Jul 7, 2017"
         }
        ],
        "schema": {
         "fields": [
          {
           "name": "index",
           "type": "integer"
          },
          {
           "name": "name",
           "type": "string"
          },
          {
           "name": "release_date",
           "type": "string"
          },
          {
           "name": "developer",
           "type": "string"
          },
          {
           "name": "achievements",
           "type": "number"
          },
          {
           "name": "original_price",
           "type": "number"
          },
          {
           "name": "percent_positive",
           "type": "number"
          },
          {
           "name": "num_reviews",
           "type": "number"
          },
          {
           "name": "multiplayer",
           "type": "boolean"
          },
          {
           "name": "mature",
           "type": "boolean"
          }
         ],
         "pandas_version": "0.20.0",
         "primaryKey": [
          "index"
         ]
        }
       },
       "total_rows": 6
      },
      "text/html": [
       "<div>\n",
       "<style scoped>\n",
       "    .dataframe tbody tr th:only-of-type {\n",
       "        vertical-align: middle;\n",
       "    }\n",
       "\n",
       "    .dataframe tbody tr th {\n",
       "        vertical-align: top;\n",
       "    }\n",
       "\n",
       "    .dataframe thead th {\n",
       "        text-align: right;\n",
       "    }\n",
       "</style>\n",
       "<table border=\"1\" class=\"dataframe\">\n",
       "  <thead>\n",
       "    <tr style=\"text-align: right;\">\n",
       "      <th></th>\n",
       "      <th>name</th>\n",
       "      <th>release_date</th>\n",
       "      <th>developer</th>\n",
       "      <th>achievements</th>\n",
       "      <th>original_price</th>\n",
       "      <th>percent_positive</th>\n",
       "      <th>num_reviews</th>\n",
       "      <th>multiplayer</th>\n",
       "      <th>mature</th>\n",
       "    </tr>\n",
       "  </thead>\n",
       "  <tbody>\n",
       "    <tr>\n",
       "      <th>1</th>\n",
       "      <td>PLAYERUNKNOWN'S BATTLEGROUNDS</td>\n",
       "      <td>Dec 21, 2017</td>\n",
       "      <td>PUBG Corporation</td>\n",
       "      <td>37.0</td>\n",
       "      <td>29.99</td>\n",
       "      <td>0.49</td>\n",
       "      <td>836608.0</td>\n",
       "      <td>True</td>\n",
       "      <td>True</td>\n",
       "    </tr>\n",
       "    <tr>\n",
       "      <th>305</th>\n",
       "      <td>Garry's Mod</td>\n",
       "      <td>Nov 29, 2006</td>\n",
       "      <td>Facepunch Studios</td>\n",
       "      <td>29.0</td>\n",
       "      <td>9.99</td>\n",
       "      <td>0.95</td>\n",
       "      <td>310394.0</td>\n",
       "      <td>True</td>\n",
       "      <td>False</td>\n",
       "    </tr>\n",
       "    <tr>\n",
       "      <th>354</th>\n",
       "      <td>Team Fortress 2</td>\n",
       "      <td>Oct 10, 2007</td>\n",
       "      <td>Valve</td>\n",
       "      <td>520.0</td>\n",
       "      <td>0.00</td>\n",
       "      <td>0.93</td>\n",
       "      <td>553458.0</td>\n",
       "      <td>True</td>\n",
       "      <td>True</td>\n",
       "    </tr>\n",
       "    <tr>\n",
       "      <th>375</th>\n",
       "      <td>Grand Theft Auto V</td>\n",
       "      <td>Apr 14, 2015</td>\n",
       "      <td>Rockstar North</td>\n",
       "      <td>77.0</td>\n",
       "      <td>29.99</td>\n",
       "      <td>0.70</td>\n",
       "      <td>407706.0</td>\n",
       "      <td>True</td>\n",
       "      <td>True</td>\n",
       "    </tr>\n",
       "    <tr>\n",
       "      <th>376</th>\n",
       "      <td>Warframe</td>\n",
       "      <td>Mar 25, 2013</td>\n",
       "      <td>Digital Extremes</td>\n",
       "      <td>187.0</td>\n",
       "      <td>19.99</td>\n",
       "      <td>0.91</td>\n",
       "      <td>250319.0</td>\n",
       "      <td>True</td>\n",
       "      <td>True</td>\n",
       "    </tr>\n",
       "    <tr>\n",
       "      <th>611</th>\n",
       "      <td>Unturned</td>\n",
       "      <td>Jul 7, 2017</td>\n",
       "      <td>Smartly Dressed Games</td>\n",
       "      <td>46.0</td>\n",
       "      <td>0.00</td>\n",
       "      <td>0.90</td>\n",
       "      <td>325675.0</td>\n",
       "      <td>True</td>\n",
       "      <td>False</td>\n",
       "    </tr>\n",
       "  </tbody>\n",
       "</table>\n",
       "</div>"
      ],
      "text/plain": [
       "                              name  release_date              developer  \\\n",
       "1    PLAYERUNKNOWN'S BATTLEGROUNDS  Dec 21, 2017       PUBG Corporation   \n",
       "305                    Garry's Mod  Nov 29, 2006      Facepunch Studios   \n",
       "354                Team Fortress 2  Oct 10, 2007                  Valve   \n",
       "375             Grand Theft Auto V  Apr 14, 2015         Rockstar North   \n",
       "376                       Warframe  Mar 25, 2013       Digital Extremes   \n",
       "611                       Unturned   Jul 7, 2017  Smartly Dressed Games   \n",
       "\n",
       "     achievements  original_price  percent_positive  num_reviews  multiplayer  \\\n",
       "1            37.0           29.99              0.49     836608.0         True   \n",
       "305          29.0            9.99              0.95     310394.0         True   \n",
       "354         520.0            0.00              0.93     553458.0         True   \n",
       "375          77.0           29.99              0.70     407706.0         True   \n",
       "376         187.0           19.99              0.91     250319.0         True   \n",
       "611          46.0            0.00              0.90     325675.0         True   \n",
       "\n",
       "     mature  \n",
       "1      True  \n",
       "305   False  \n",
       "354    True  \n",
       "375    True  \n",
       "376    True  \n",
       "611   False  "
      ]
     },
     "execution_count": 40,
     "metadata": {},
     "output_type": "execute_result"
    }
   ],
   "source": [
    "# Find games with a high number of reviews\n",
    "games[games['num_reviews'] > 250000]"
   ]
  },
  {
   "cell_type": "markdown",
   "id": "42918131-3beb-4431-82be-4617f5231d26",
   "metadata": {},
   "source": [
    "The scatterplot shows a braod range of values with some grouping towards the more positively reviewed games. This would fit with more people wanting to play favourably reviewed games.\n",
    "The outliers are games that extremely well known and have recieved a massive number of reviews in comparison to others so those will be kept in the dataset."
   ]
  },
  {
   "cell_type": "code",
   "execution_count": 41,
   "id": "4ad7d3ab-30ee-445f-af02-ac6e9eb440e8",
   "metadata": {},
   "outputs": [
    {
     "data": {
      "text/plain": [
       "Text(0.5, 1.0, 'Violin plot of number of reviews for a game based on multiplayer')"
      ]
     },
     "execution_count": 41,
     "metadata": {},
     "output_type": "execute_result"
    },
    {
     "data": {
      "image/png": "[encoded data removed]",
      "text/plain": [
       "<Figure size 1080x576 with 1 Axes>"
      ]
     },
     "metadata": {},
     "output_type": "display_data"
    }
   ],
   "source": [
    "# Set figure size\n",
    "plt.figure(figsize = (15,8))\n",
    "\n",
    "# Plot violin plot and title\n",
    "ax = sns.violinplot(x=\"multiplayer\", y=\"num_reviews\", data=games)\n",
    "ax.set_title('Violin plot of number of reviews for a game based on multiplayer')"
   ]
  },
  {
   "cell_type": "markdown",
   "id": "d92684b1-10bd-4382-a27e-cb77969baf8b",
   "metadata": {},
   "source": [
    "There is still a high number of small reviews which makes using the number of reviews as a matric for a model less viable."
   ]
  },
  {
   "cell_type": "code",
   "execution_count": 42,
   "id": "53bcb8bb-9d61-4712-8a63-c755ab339413",
   "metadata": {},
   "outputs": [
    {
     "data": {
      "text/plain": [
       "Text(0.5, 1.0, 'Violin plot of percentage of positive reviews for a game based on multiplayer')"
      ]
     },
     "execution_count": 42,
     "metadata": {},
     "output_type": "execute_result"
    },
    {
     "data": {
      "image/png": "[encoded data removed]",
      "text/plain": [
       "<Figure size 936x576 with 1 Axes>"
      ]
     },
     "metadata": {},
     "output_type": "display_data"
    }
   ],
   "source": [
    "# Set figure size\n",
    "plt.figure(figsize = (13,8))\n",
    "\n",
    "# Plot violin plot and title\n",
    "ax = sns.violinplot(x=\"multiplayer\", y=\"percent_positive\", data=games)\n",
    "ax.set_title('Violin plot of percentage of positive reviews for a game based on multiplayer', fontsize = 18)"
   ]
  },
  {
   "cell_type": "code",
   "execution_count": 43,
   "id": "00d1c62c-3d99-417d-8354-254263b2fe93",
   "metadata": {},
   "outputs": [
    {
     "data": {
      "text/plain": [
       "Text(0.5, 1.0, 'Violin plot of percentage of positive reviews for a game based on maturity rating')"
      ]
     },
     "execution_count": 43,
     "metadata": {},
     "output_type": "execute_result"
    },
    {
     "data": {
      "image/png": "[encoded data removed]",
      "text/plain": [
       "<Figure size 936x576 with 1 Axes>"
      ]
     },
     "metadata": {},
     "output_type": "display_data"
    }
   ],
   "source": [
    "# Set figure size\n",
    "plt.figure(figsize = (13,8))\n",
    "\n",
    "# Plot violin plot and title\n",
    "ax = sns.violinplot(x=\"mature\", y=\"percent_positive\", data=games)\n",
    "ax.set_title('Violin plot of percentage of positive reviews for a game based on maturity rating', fontsize = 18)"
   ]
  },
  {
   "cell_type": "markdown",
   "id": "71dec104-2de2-4c1a-99d3-5a0d11c2c8c6",
   "metadata": {},
   "source": [
    "Games that don't have multiplayer have a slightly more consistent favourable ratings compared to those that do have multiplayer.\n",
    "\n",
    "The maturtiy rating of a game has no impact on how favourably it is rated."
   ]
  },
  {
   "cell_type": "markdown",
   "id": "146ed83d-fc70-40d8-9fc2-7c8069821ab6",
   "metadata": {},
   "source": [
    "### Building a model"
   ]
  },
  {
   "cell_type": "markdown",
   "id": "f653be72-91f0-4681-89f7-e6a7ae9f49e3",
   "metadata": {},
   "source": [
    "With unlabelled data that we wish to cluster, K-Means will be the machine learning algorithm to be used.\n",
    "First thing will be to scale the data using the Sci-kit learn standard scaler, which is applied to columns and not rows."
   ]
  },
  {
   "cell_type": "code",
   "execution_count": 44,
   "id": "2275e6da-51ab-4557-a9ec-8606e3fd3c86",
   "metadata": {},
   "outputs": [],
   "source": [
    "# Import standard scaler\n",
    "from sklearn.preprocessing import StandardScaler\n",
    "\n",
    "# Create a scaler\n",
    "scaler = StandardScaler()\n",
    "\n",
    "# Decide on the columns we're going to try and use\n",
    "games_columns = ['achievements','original_price','percent_positive','multiplayer','mature']\n",
    "\n",
    "# Scale the data\n",
    "games_scaled = scaler.fit_transform(games[games_columns])\n",
    "\n",
    "# Dataframe to apply cluster numbers to later\n",
    "games_scaled_df = pd.DataFrame(games_scaled, columns=games_columns)"
   ]
  },
  {
   "cell_type": "markdown",
   "id": "6d55361f-d52b-4ca9-bcba-d025dda8f602",
   "metadata": {},
   "source": [
    "With the scaled data we can use K-means and create an elbow plot to show the inertia of different values of k."
   ]
  },
  {
   "cell_type": "code",
   "execution_count": 45,
   "id": "710a8d69-52b2-4c13-bbb4-2e842a0a7810",
   "metadata": {},
   "outputs": [
    {
     "data": {
      "image/png": "[encoded data removed]",
      "text/plain": [
       "<Figure size 432x288 with 1 Axes>"
      ]
     },
     "metadata": {},
     "output_type": "display_data"
    }
   ],
   "source": [
    "from sklearn.cluster import KMeans\n",
    "\n",
    "ks = range(2, 10)\n",
    "inertias = []\n",
    "\n",
    "for k in ks:\n",
    "    # Create a KMeans instance with k clusters: model (random state 13 for replication)\n",
    "    model = KMeans(n_clusters=k, random_state=13)\n",
    "    \n",
    "    # Fit model to data\n",
    "    model.fit(games_scaled)\n",
    "    \n",
    "    # Append the inertia to the list of inertias\n",
    "    inertias.append(model.inertia_)\n",
    "    \n",
    "# Plot ks vs inertias\n",
    "plt.title('KMeans elbow plot', fontsize=16)\n",
    "plt.plot(ks, inertias, '-o')\n",
    "plt.xlabel('number of clusters, k')\n",
    "plt.ylabel('inertia')\n",
    "plt.xticks(ks)\n",
    "plt.show()"
   ]
  },
  {
   "cell_type": "markdown",
   "id": "f72244c1-e649-4f4c-ab8b-830a59270d0a",
   "metadata": {},
   "source": [
    "The from the elbow graph results the best K for KMeans is 6 clusters."
   ]
  },
  {
   "cell_type": "markdown",
   "id": "a7e3f7a7-db6d-44bf-b6ad-643ca07495e9",
   "metadata": {},
   "source": [
    "With the optimial value for K being 6, the clusters can be predicted for each value and applied to the dataframe row."
   ]
  },
  {
   "cell_type": "code",
   "execution_count": 46,
   "id": "1f84a30c-8566-47ed-a00b-0e51fc775ddc",
   "metadata": {},
   "outputs": [
    {
     "name": "stderr",
     "output_type": "stream",
     "text": [
      "Exception ignored on calling ctypes callback function: <function _ThreadpoolInfo._find_modules_with_dl_iterate_phdr.<locals>.match_module_callback at 0x7f0e67cf5ee0>\n",
      "Traceback (most recent call last):\n",
      "  File \"/usr/local/lib/python3.8/dist-packages/threadpoolctl.py\", line 400, in match_module_callback\n",
      "    self._make_module_from_path(filepath)\n",
      "  File \"/usr/local/lib/python3.8/dist-packages/threadpoolctl.py\", line 515, in _make_module_from_path\n",
      "    module = module_class(filepath, prefix, user_api, internal_api)\n",
      "  File \"/usr/local/lib/python3.8/dist-packages/threadpoolctl.py\", line 606, in __init__\n",
      "    self.version = self.get_version()\n",
      "  File \"/usr/local/lib/python3.8/dist-packages/threadpoolctl.py\", line 646, in get_version\n",
      "    config = get_config().split()\n",
      "AttributeError: 'NoneType' object has no attribute 'split'\n"
     ]
    },
    {
     "data": {
      "application/com.datacamp.data-table.v1+json": {
       "is_truncated": false,
       "table": {
        "data": [
         {
          "achievements": 0.0518552019,
          "cluster": 2,
          "index": 0,
          "mature": -0.3076257196,
          "multiplayer": 1.5752598895,
          "original_price": 0.4333658705,
          "percent_positive": 0.9304385693
         },
         {
          "achievements": -0.0048948298,
          "cluster": 3,
          "index": 1,
          "mature": 3.2507034886,
          "multiplayer": 1.5752598895,
          "original_price": 0.9501625811,
          "percent_positive": -1.3829946778
         },
         {
          "achievements": 0.2988847518,
          "cluster": 2,
          "index": 2,
          "mature": -0.3076257196,
          "multiplayer": 1.5752598895,
          "original_price": 1.4669592917,
          "percent_positive": -0.1993776676
         },
         {
          "achievements": -0.1284096047,
          "cluster": 2,
          "index": 3,
          "mature": -0.3076257196,
          "multiplayer": 1.5752598895,
          "original_price": 1.725357647,
          "percent_positive": -0.7373853995
         },
         {
          "achievements": -0.1284096047,
          "cluster": 2,
          "index": 4,
          "mature": -0.3076257196,
          "multiplayer": 1.5752598895,
          "original_price": -0.5997107539,
          "percent_positive": -0.0379753481
         }
        ],
        "schema": {
         "fields": [
          {
           "name": "index",
           "type": "integer"
          },
          {
           "name": "achievements",
           "type": "number"
          },
          {
           "name": "original_price",
           "type": "number"
          },
          {
           "name": "percent_positive",
           "type": "number"
          },
          {
           "name": "multiplayer",
           "type": "number"
          },
          {
           "name": "mature",
           "type": "number"
          },
          {
           "name": "cluster",
           "type": "integer"
          }
         ],
         "pandas_version": "0.20.0",
         "primaryKey": [
          "index"
         ]
        }
       },
       "total_rows": 5
      },
      "text/html": [
       "<div>\n",
       "<style scoped>\n",
       "    .dataframe tbody tr th:only-of-type {\n",
       "        vertical-align: middle;\n",
       "    }\n",
       "\n",
       "    .dataframe tbody tr th {\n",
       "        vertical-align: top;\n",
       "    }\n",
       "\n",
       "    .dataframe thead th {\n",
       "        text-align: right;\n",
       "    }\n",
       "</style>\n",
       "<table border=\"1\" class=\"dataframe\">\n",
       "  <thead>\n",
       "    <tr style=\"text-align: right;\">\n",
       "      <th></th>\n",
       "      <th>achievements</th>\n",
       "      <th>original_price</th>\n",
       "      <th>percent_positive</th>\n",
       "      <th>multiplayer</th>\n",
       "      <th>mature</th>\n",
       "      <th>cluster</th>\n",
       "    </tr>\n",
       "  </thead>\n",
       "  <tbody>\n",
       "    <tr>\n",
       "      <th>0</th>\n",
       "      <td>0.051855</td>\n",
       "      <td>0.433366</td>\n",
       "      <td>0.930439</td>\n",
       "      <td>1.57526</td>\n",
       "      <td>-0.307626</td>\n",
       "      <td>2</td>\n",
       "    </tr>\n",
       "    <tr>\n",
       "      <th>1</th>\n",
       "      <td>-0.004895</td>\n",
       "      <td>0.950163</td>\n",
       "      <td>-1.382995</td>\n",
       "      <td>1.57526</td>\n",
       "      <td>3.250703</td>\n",
       "      <td>3</td>\n",
       "    </tr>\n",
       "    <tr>\n",
       "      <th>2</th>\n",
       "      <td>0.298885</td>\n",
       "      <td>1.466959</td>\n",
       "      <td>-0.199378</td>\n",
       "      <td>1.57526</td>\n",
       "      <td>-0.307626</td>\n",
       "      <td>2</td>\n",
       "    </tr>\n",
       "    <tr>\n",
       "      <th>3</th>\n",
       "      <td>-0.128410</td>\n",
       "      <td>1.725358</td>\n",
       "      <td>-0.737385</td>\n",
       "      <td>1.57526</td>\n",
       "      <td>-0.307626</td>\n",
       "      <td>2</td>\n",
       "    </tr>\n",
       "    <tr>\n",
       "      <th>4</th>\n",
       "      <td>-0.128410</td>\n",
       "      <td>-0.599711</td>\n",
       "      <td>-0.037975</td>\n",
       "      <td>1.57526</td>\n",
       "      <td>-0.307626</td>\n",
       "      <td>2</td>\n",
       "    </tr>\n",
       "  </tbody>\n",
       "</table>\n",
       "</div>"
      ],
      "text/plain": [
       "   achievements  original_price  percent_positive  multiplayer    mature  \\\n",
       "0      0.051855        0.433366          0.930439      1.57526 -0.307626   \n",
       "1     -0.004895        0.950163         -1.382995      1.57526  3.250703   \n",
       "2      0.298885        1.466959         -0.199378      1.57526 -0.307626   \n",
       "3     -0.128410        1.725358         -0.737385      1.57526 -0.307626   \n",
       "4     -0.128410       -0.599711         -0.037975      1.57526 -0.307626   \n",
       "\n",
       "   cluster  \n",
       "0        2  \n",
       "1        3  \n",
       "2        2  \n",
       "3        2  \n",
       "4        2  "
      ]
     },
     "execution_count": 46,
     "metadata": {},
     "output_type": "execute_result"
    }
   ],
   "source": [
    "# Initialise KMeans model object with n_clusters as 6 (random state 13 for replication)\n",
    "kmeans = KMeans(n_clusters=6, random_state=13)\n",
    "\n",
    "# Fit model to scaled data\n",
    "kmeans.fit(games_scaled)\n",
    "\n",
    "# Predict the clusters for each value\n",
    "clusters = kmeans.predict(games_scaled)\n",
    "\n",
    "# Apply cluster value to scaled dataframe\n",
    "games_scaled_df['cluster'] = clusters\n",
    "\n",
    "games_scaled_df.head()"
   ]
  },
  {
   "cell_type": "markdown",
   "id": "dd805b56-aed9-4ce4-bef1-fc134af5264a",
   "metadata": {},
   "source": [
    "Summing all the values in each feature will show which features are more prevelant in each cluster. This is done using groupby on the cluster value."
   ]
  },
  {
   "cell_type": "code",
   "execution_count": 47,
   "id": "976c72cb-af0a-43b3-9f1d-a1f88df33d02",
   "metadata": {},
   "outputs": [
    {
     "data": {
      "application/com.datacamp.data-table.v1+json": {
       "is_truncated": false,
       "table": {
        "data": [
         {
          "achievements": -226.6479770189,
          "cluster": 0,
          "index": 0,
          "mature": -949.0253450764,
          "multiplayer": -1728.5591230761,
          "original_price": -536.0352430923,
          "percent_positive": -4265.1935615912
         },
         {
          "achievements": -396.4283132387,
          "cluster": 1,
          "index": 1,
          "mature": -2415.7847762998,
          "multiplayer": -4985.2091406832,
          "original_price": -801.5557527419,
          "percent_positive": 4354.4704568474
         },
         {
          "achievements": -251.8054746537,
          "cluster": 2,
          "index": 2,
          "mature": -1362.7819379865,
          "multiplayer": 6978.4013104078,
          "original_price": 72.4145044078,
          "percent_positive": -181.6271844965
         },
         {
          "achievements": -105.3300264818,
          "cluster": 3,
          "index": 3,
          "mature": 4716.7707619443,
          "multiplayer": -202.8432218228,
          "original_price": -32.645084446,
          "percent_positive": 141.3781936249
         },
         {
          "achievements": 991.0265543383,
          "cluster": 4,
          "index": 4,
          "mature": -9.6283098713,
          "multiplayer": -35.2676210527,
          "original_price": -4.2718081009,
          "percent_positive": -22.0898544133
         },
         {
          "achievements": -10.8147629453,
          "cluster": 5,
          "index": 5,
          "mature": 20.4496072894,
          "multiplayer": -26.5222037732,
          "original_price": 1302.0933839734,
          "percent_positive": -26.9380499712
         }
        ],
        "schema": {
         "fields": [
          {
           "name": "index",
           "type": "integer"
          },
          {
           "name": "cluster",
           "type": "integer"
          },
          {
           "name": "achievements",
           "type": "number"
          },
          {
           "name": "original_price",
           "type": "number"
          },
          {
           "name": "percent_positive",
           "type": "number"
          },
          {
           "name": "multiplayer",
           "type": "number"
          },
          {
           "name": "mature",
           "type": "number"
          }
         ],
         "pandas_version": "0.20.0",
         "primaryKey": [
          "index"
         ]
        }
       },
       "total_rows": 6
      },
      "text/html": [
       "<div>\n",
       "<style scoped>\n",
       "    .dataframe tbody tr th:only-of-type {\n",
       "        vertical-align: middle;\n",
       "    }\n",
       "\n",
       "    .dataframe tbody tr th {\n",
       "        vertical-align: top;\n",
       "    }\n",
       "\n",
       "    .dataframe thead th {\n",
       "        text-align: right;\n",
       "    }\n",
       "</style>\n",
       "<table border=\"1\" class=\"dataframe\">\n",
       "  <thead>\n",
       "    <tr style=\"text-align: right;\">\n",
       "      <th></th>\n",
       "      <th>cluster</th>\n",
       "      <th>achievements</th>\n",
       "      <th>original_price</th>\n",
       "      <th>percent_positive</th>\n",
       "      <th>multiplayer</th>\n",
       "      <th>mature</th>\n",
       "    </tr>\n",
       "  </thead>\n",
       "  <tbody>\n",
       "    <tr>\n",
       "      <th>0</th>\n",
       "      <td>0</td>\n",
       "      <td>-226.647977</td>\n",
       "      <td>-536.035243</td>\n",
       "      <td>-4265.193562</td>\n",
       "      <td>-1728.559123</td>\n",
       "      <td>-949.025345</td>\n",
       "    </tr>\n",
       "    <tr>\n",
       "      <th>1</th>\n",
       "      <td>1</td>\n",
       "      <td>-396.428313</td>\n",
       "      <td>-801.555753</td>\n",
       "      <td>4354.470457</td>\n",
       "      <td>-4985.209141</td>\n",
       "      <td>-2415.784776</td>\n",
       "    </tr>\n",
       "    <tr>\n",
       "      <th>2</th>\n",
       "      <td>2</td>\n",
       "      <td>-251.805475</td>\n",
       "      <td>72.414504</td>\n",
       "      <td>-181.627184</td>\n",
       "      <td>6978.401310</td>\n",
       "      <td>-1362.781938</td>\n",
       "    </tr>\n",
       "    <tr>\n",
       "      <th>3</th>\n",
       "      <td>3</td>\n",
       "      <td>-105.330026</td>\n",
       "      <td>-32.645084</td>\n",
       "      <td>141.378194</td>\n",
       "      <td>-202.843222</td>\n",
       "      <td>4716.770762</td>\n",
       "    </tr>\n",
       "    <tr>\n",
       "      <th>4</th>\n",
       "      <td>4</td>\n",
       "      <td>991.026554</td>\n",
       "      <td>-4.271808</td>\n",
       "      <td>-22.089854</td>\n",
       "      <td>-35.267621</td>\n",
       "      <td>-9.628310</td>\n",
       "    </tr>\n",
       "    <tr>\n",
       "      <th>5</th>\n",
       "      <td>5</td>\n",
       "      <td>-10.814763</td>\n",
       "      <td>1302.093384</td>\n",
       "      <td>-26.938050</td>\n",
       "      <td>-26.522204</td>\n",
       "      <td>20.449607</td>\n",
       "    </tr>\n",
       "  </tbody>\n",
       "</table>\n",
       "</div>"
      ],
      "text/plain": [
       "   cluster  achievements  original_price  percent_positive  multiplayer  \\\n",
       "0        0   -226.647977     -536.035243      -4265.193562 -1728.559123   \n",
       "1        1   -396.428313     -801.555753       4354.470457 -4985.209141   \n",
       "2        2   -251.805475       72.414504       -181.627184  6978.401310   \n",
       "3        3   -105.330026      -32.645084        141.378194  -202.843222   \n",
       "4        4    991.026554       -4.271808        -22.089854   -35.267621   \n",
       "5        5    -10.814763     1302.093384        -26.938050   -26.522204   \n",
       "\n",
       "        mature  \n",
       "0  -949.025345  \n",
       "1 -2415.784776  \n",
       "2 -1362.781938  \n",
       "3  4716.770762  \n",
       "4    -9.628310  \n",
       "5    20.449607  "
      ]
     },
     "execution_count": 47,
     "metadata": {},
     "output_type": "execute_result"
    }
   ],
   "source": [
    "# Sum values of different columns per cluster using groupby\n",
    "clustered_game_values = games_scaled_df.groupby(by='cluster', as_index=False).sum()\n",
    "clustered_game_values"
   ]
  },
  {
   "cell_type": "markdown",
   "id": "313753ad-de3b-45d8-97c8-ba2131957177",
   "metadata": {},
   "source": [
    "The summed values for each cluster can be plotted on a line graph and it can be seen which features, if any, are most prevalent.\n",
    "\n",
    "A higher prevelance of a feature would be an strong indidication of a suitable category."
   ]
  },
  {
   "cell_type": "code",
   "execution_count": 52,
   "id": "e4e4bfa9-116b-45c0-844c-fd91a88b4cfc",
   "metadata": {},
   "outputs": [
    {
     "data": {
      "text/plain": [
       "<matplotlib.legend.Legend at 0x7f0e97c7a640>"
      ]
     },
     "execution_count": 52,
     "metadata": {},
     "output_type": "execute_result"
    },
    {
     "data": {
      "image/png": "[encoded data removed]",
      "text/plain": [
       "<Figure size 1440x864 with 1 Axes>"
      ]
     },
     "metadata": {},
     "output_type": "display_data"
    }
   ],
   "source": [
    "# Set the plot size\n",
    "plt.figure(figsize = (20,12))\n",
    "\n",
    "# Plot each column values as a lineplot\n",
    "ax = sns.lineplot(y='achievements', x='cluster', data=clustered_game_values, marker=\"o\", markers=True)\n",
    "ax = sns.lineplot(y='original_price', x='cluster', data=clustered_game_values, marker=\"v\", markers=True)\n",
    "ax = sns.lineplot(y='percent_positive', x='cluster', data=clustered_game_values, marker=\"8\", markers=True)\n",
    "ax = sns.lineplot(y='multiplayer', x='cluster', data=clustered_game_values, marker=\"s\", markers=True)\n",
    "ax = sns.lineplot(y='mature', x='cluster', data=clustered_game_values, marker=\"d\", markers=True)\n",
    "\n",
    "# Set ticks, title, labels and legend\n",
    "ax.set_title('Most common features per cluster', fontsize = 20)\n",
    "ax.set_xticks([0,1,2,3,4,5])\n",
    "ax.set_ylabel('Combined cluster values')\n",
    "ax.legend(games_columns, fontsize = 18)"
   ]
  },
  {
   "cell_type": "markdown",
   "id": "9acbc101-6f13-462a-ad6d-73428efc9e85",
   "metadata": {},
   "source": [
    "The best categories for cluster would show strongly positive categories values for that cluster.\n",
    "\n",
    "From the figure above, cluster 1 shows that \"percent_positive\" is a strong feature, cluster 2 shows \"multiplayer\" is a strong feature and cluster 3 shows \"mature\" rating is a strong feature.\n",
    "\n",
    "\"achievements\" and \"original_price\" did not feature more or less significantly in any cluster.\n",
    "\n",
    "Three additional categories for the website would be if a game has multiplayer, if a game is rated mature and if a game has a high percentage of positive reviews."
   ]
  },
  {
   "cell_type": "markdown",
   "id": "93b77ee4-d39b-4915-8645-6f5682d7959f",
   "metadata": {},
   "source": [
    "### Conclusion and Recommendations"
   ]
  },
  {
   "cell_type": "markdown",
   "id": "f0bedc24-894c-4e35-a61c-203e047d15cd",
   "metadata": {},
   "source": [
    "Three new categories for the Snow Cone Games wesbite are recommended. These are 'Multiplayer', 'Mature' and 'Highly Rated'.\n",
    "\n",
    "These recommendations are made from results of the most prevelant features as discovered in KMeans clusters.\n",
    "\n",
    "A better model to make category recommendations could be produced in the future if tighter controls on the data entry for \"release_date\" and \"original_price\" were put in place."
   ]
  }
 ],
 "metadata": {
  "colab": {
   "name": "Welcome to DataCamp Workspaces.ipynb",
   "provenance": []
  },
  "editor": "DataCamp Workspace",
  "kernelspec": {
   "display_name": "Python 3 (ipykernel)",
   "language": "python",
   "name": "python3"
  },
  "language_info": {
   "codemirror_mode": {
    "name": "ipython",
    "version": 3
   },
   "file_extension": ".py",
   "mimetype": "text/x-python",
   "name": "python",
   "nbconvert_exporter": "python",
   "pygments_lexer": "ipython3",
   "version": "3.8.10"
  }
 },
 "nbformat": 4,
 "nbformat_minor": 5
}
